{
 "cells": [
  {
   "cell_type": "markdown",
   "metadata": {},
   "source": [
    "# Homeworks - Big Data and Public Policy Class"
   ]
  },
  {
   "cell_type": "markdown",
   "metadata": {},
   "source": [
    "The objective of the following homework is to **bring to practice the tools studied in class** by conducting step by step a first big data project. We advise that you do it in parallel with the lectures: the relation between the project steps and the lectures is indicated below. \n",
    "\n",
    "You will build several **machine learning models that will predict continuous and categorical variables based on data coming from webscraping and/or an API**. \n",
    "\n",
    "We propose that you predict the **daily stock price data of a large company** (of your choice) **based on the company's tweets**. You can chose a company from one of the [major stock indices](https://www.wikiwand.com/en/List_of_stock_market_indices)."
   ]
  },
  {
   "cell_type": "markdown",
   "metadata": {},
   "source": [
    "**Felix' Idea:**\n",
    "- predict stock prices of selected U.S. - based companies based on the companies tweets and COVID-19 data from JHU CSSE.\n",
    "- Companies:\n",
    "    - **3M**: \"Best known as the maker of Scotch tape and Post-It notes, 3M (MMM) also happens to be one of the largest producers of N95 respirators, the type of mask that more efficiently protects people against the virus than ordinary medical masks. Coronavirus has caused a worldwide mask shortage. N95 respirators and regular surgical masks have been unavailable on all major e-commerce platforms in the United States and China since early this year.\n",
    "This would not be the first time that 3M benefited from a global health crisis. When the SARS epidemic hit in 2003, 3M's sales growth shot up amid increased demand for its respirators, according to the Melius report.\n",
    "\"The 2002 impact from SARS was highly beneficial to 3M,\" said Scott Davis, a co-author of the report, told CNN Business. While the company didn't disclose any specifics at the time, \"it was meaningful and helped the stock to outperform in that period.\"\n",
    "Basic medical masks provide a barrier from particulate matter, but do not seal tightly enough against the wearer's face to eliminate the risk of contracting the virus. Worn properly, the N95 mask can filter out about 95% of small airborne particles, according to Christiana Coyle, an expert in epidemics at New York University.\"\n",
    "([See article](https://edition.cnn.com/2020/02/27/business/3m-coronavirus-hedge/index.html)).\n",
    "    - **ABI.BR** - Anheuser Busch Inbev NV: the mother-company that owns the Corona beer brand\n",
    "    \n",
    "In cell number 5 of this notebook, you can specify a tuple of twitter account name and yahoo finance ticker id for any stock-listed company you would like. I included pre-downloaded tweet data for 3M and ABI as well as county-level COVID-19 data for the U.S."
   ]
  },
  {
   "cell_type": "code",
   "execution_count": 1,
   "metadata": {},
   "outputs": [],
   "source": [
    "# Imports\n",
    "import os\n",
    "import re\n",
    "import ast\n",
    "import time\n",
    "import requests\n",
    "\n",
    "import numpy as np\n",
    "import pandas as pd\n",
    "import xarray as xr\n",
    "import sklearn\n",
    "\n",
    "import seaborn as sns\n",
    "import matplotlib.pyplot as plt\n",
    "\n",
    "import yfinance as yf\n",
    "import tweepy\n",
    "from tweepy import OAuthHandler\n",
    "from bs4 import BeautifulSoup\n",
    "from IPython.display import display\n",
    "from pprint import pprint\n",
    "\n",
    "from scipy.stats import kendalltau, pearsonr, spearmanr\n",
    "from nltk.sentiment.vader import SentimentIntensityAnalyzer\n",
    "\n",
    "from sklearn.linear_model import LinearRegression\n",
    "from sklearn.metrics import mean_squared_error\n",
    "from sklearn.metrics import mean_absolute_error\n",
    "from sklearn.metrics import r2_score\n",
    "\n",
    "from sklearn.metrics import (precision_score, recall_score, f1_score, \n",
    "                             confusion_matrix, accuracy_score, roc_curve, \n",
    "                             auc, roc_auc_score)"
   ]
  },
  {
   "cell_type": "code",
   "execution_count": 2,
   "metadata": {},
   "outputs": [],
   "source": [
    "# Display options\n",
    "pd.options.display.max_columns = 30\n",
    "pd.options.display.max_rows = 50\n",
    "\n",
    "# plotting options\n",
    "sns.set(style=\"white\")\n",
    "\n",
    "# global objects\n",
    "sid = SentimentIntensityAnalyzer()"
   ]
  },
  {
   "cell_type": "markdown",
   "metadata": {},
   "source": [
    "### Class and function definitions"
   ]
  },
  {
   "cell_type": "code",
   "execution_count": 3,
   "metadata": {},
   "outputs": [],
   "source": [
    "def fetch_tweets(account, n_tweets = 5000):\n",
    "    \"\"\"Fetch data from twitter account\"\"\"\n",
    "    df_out = pd.DataFrame()\n",
    "    \n",
    "    try:   \n",
    "        # Put the tweets into a data frame object\n",
    "        tweet_count = 0\n",
    "        for tweet in tweepy.Cursor(api.user_timeline, \n",
    "                                   screen_name=account,\n",
    "                                   tweet_mode='extended').items(n_tweets):\n",
    "    \n",
    "                    # 1. Transform the json into a dataframe\n",
    "                    df_tweet = pd.DataFrame.from_dict(tweet._json, orient='index', \n",
    "                                                      columns=[tweet_count]) # , sleep_on_rate_limit=True\n",
    "    \n",
    "                    # 2. adds screen name as a row\n",
    "                    #df_tweet=df_tweet.append(pd.DataFrame({tweet_count:[target]}, index=['twitter_handle']))\n",
    "    \n",
    "                    # 3. Concatenate the tweet dataframe to the df_tweets dataframe\n",
    "                    df_out = pd.concat([df_tweet, df_out], axis=1)\n",
    "    \n",
    "                    # count the number of tweets fetched\n",
    "                    tweet_count += 1 \n",
    "    \n",
    "        time.sleep(1)\n",
    "    \n",
    "    # except if TweepError arises\n",
    "    except tweepy.TweepError: #the error arises when the user has protected tweets\n",
    "        print(\"Failed to run the command \"\n",
    "              \"on user {}, Skipping...\".format(account))\n",
    "    \n",
    "    # except if RateLimitError arises\n",
    "    except tweepy.RateLimitError:\n",
    "        print(\"resource usage limit: {} skipped\".format(account))\n",
    "        time.sleep(15 * 60) # wait 15 mins\n",
    "    \n",
    "    # transpose\n",
    "    df_out = df_out.transpose()\n",
    "    \n",
    "    # try auto-inferring dtypes to cast columns from dtype \"object\" to more \n",
    "    # appropriate and memory-efficient dtypes\n",
    "    df_out = df_out.infer_objects()\n",
    "    \n",
    "    # manually deal with the remaining column dtypes\n",
    "    df_out['created_at'] = pd.to_datetime(df_out['created_at'])\n",
    "    \n",
    "    # set datetime index\n",
    "    df_out = df_out.set_index('created_at')\n",
    "    return df_out\n",
    "\n",
    "\n",
    "def occurrence_counter(string_list, search_string):\n",
    "    \"\"\"counts occurence of word(s) in string\"\"\"\n",
    "    return sum(map(lambda x: x in string_list, search_string.split(' ')))\n",
    "\n",
    "\n",
    "def read_data(infile, parse_col, date_str='%Y-%m-%d', sep=','):\n",
    "    \"\"\"\n",
    "    Function to read data.\n",
    "\n",
    "    Parameters\n",
    "    ----------\n",
    "    infile : str\n",
    "        Path to data.\n",
    "    parse_col : str\n",
    "        Column name of time variable.\n",
    "    date_str : str\n",
    "        String for datetime conversion.\n",
    "\n",
    "    returns\n",
    "    -------\n",
    "    data : pd.DataFrame\n",
    "    \"\"\"\n",
    "    def dateparse(x): return pd.datetime.strptime(x, date_str)\n",
    "    data = pd.read_csv(infile, sep=sep, \n",
    "                       parse_dates=[parse_col], date_parser=dateparse)\n",
    "    data.index = data[parse_col]\n",
    "    data = data.drop(labels=parse_col, axis=1)\n",
    "    return data\n",
    "\n",
    "\n",
    "def fetch_stock_data(ticker, start, end, period=\"1d\", save=True):\n",
    "    \"\"\"fetch stock market data via yahoo finance api\"\"\"\n",
    "    stock_data = yf.download(tickers=ticker, \n",
    "                             # start coincides with start of 3M twitter account\n",
    "                             start=start, \n",
    "                             end=end, \n",
    "                             period=period)\n",
    "    if save: \n",
    "        stock_data.to_csv('data/{}_yfinance_{}_{}.csv'.format(\n",
    "            ticker, start, end), sep=';')\n",
    "        return stock_data\n",
    "    else:\n",
    "        return stock_data\n",
    "    \n",
    "\n",
    "def correlation_matrix(df):\n",
    "    \"\"\"\n",
    "    Given a pd.DataFrame, calculate Pearson's R\n",
    "    and the p-values of the correlation.\n",
    "\n",
    "    Parameters\n",
    "    ----------\n",
    "    df : pd.DataFrame\n",
    "        Dataframe containing numeric values.\n",
    "    Returns\n",
    "    -------\n",
    "    (correlations, p_values) : tuple\n",
    "        Tuple of dataframes.\n",
    "    \"\"\"\n",
    "    df = df.dropna()._get_numeric_data()\n",
    "    cols = pd.DataFrame(columns=df.columns)\n",
    "\n",
    "    correlations = cols.transpose().join(cols, how='outer')\n",
    "    p_values = cols.transpose().join(cols, how='outer')\n",
    "\n",
    "    for r in df.columns:\n",
    "        for c in df.columns:\n",
    "            # pearsonr returns a tuple like (corr, pval)\n",
    "            correlations[r][c] = round(pearsonr(df[r], df[c])[0], 4)\n",
    "            p_values[r][c] = round(pearsonr(df[r], df[c])[1], 4)\n",
    "\n",
    "    return (correlations.apply(pd.to_numeric),\n",
    "            p_values.apply(pd.to_numeric))\n",
    "\n",
    "\n",
    "def correlation_matrix_plot(df, significance_level=0.05, cbar_levels=8,\n",
    "                            figsize=(6,6)):\n",
    "    \"\"\"Plot corrmat considering p-vals.\"\"\"\n",
    "    corr, pvals = correlation_matrix(df)\n",
    "\n",
    "    # create triangular mask for heatmap\n",
    "    mask = np.zeros_like(corr)\n",
    "    mask[np.triu_indices_from(mask)] = True\n",
    "\n",
    "    # mask corrs based on p-values\n",
    "    pvals_plot = np.where(pvals > significance_level, np.nan, corr)\n",
    "\n",
    "    # plot\n",
    "    # -------------------------------------------------------------------------\n",
    "    # define correct cbar height and pass to sns.heatmap function\n",
    "    fig, ax = plt.subplots(figsize=figsize)\n",
    "    cbar_kws = {\"fraction\": 0.046, \"pad\": 0.04}\n",
    "    sns.heatmap(corr,\n",
    "                mask=mask,\n",
    "                cmap=sns.diverging_palette(20, 220, n=cbar_levels),\n",
    "                square=True,\n",
    "                vmin=-1,\n",
    "                center=0,\n",
    "                vmax=1,\n",
    "                annot=pvals_plot,\n",
    "                cbar_kws=cbar_kws)\n",
    "    plt.title(\"p < {:.2f}\".format(significance_level))\n",
    "    plt.tight_layout()\n",
    "    return fig, ax\n",
    "\n",
    "\n",
    "def compute_sentiments(text, all_scores=True):\n",
    "    \"\"\"\n",
    "    Compute sentiment score for text. Can be applied to pd.DataFrame\n",
    "    via .apply()\n",
    "\n",
    "    Parameters\n",
    "    ----------\n",
    "    text : str\n",
    "        Text snippet.\n",
    "\n",
    "    all_scores : bool\n",
    "        If False, return compound sentiment score only. If True, return dict\n",
    "        with all four sentiment scores.\n",
    "\n",
    "    Returns\n",
    "    -------\n",
    "    Sentiment scores as tuple of ('neg', 'neu', 'pos', 'compound')\n",
    "    \"\"\"\n",
    "    sentiments = sid.polarity_scores(text)\n",
    "    sentiment_scores = tuple(sentiments.values())\n",
    "\n",
    "    if all_scores:\n",
    "        return sentiment_scores\n",
    "    else:\n",
    "        return sentiment_scores[3]"
   ]
  },
  {
   "cell_type": "markdown",
   "metadata": {},
   "source": [
    "Twitter API: please use your own credentials."
   ]
  },
  {
   "cell_type": "code",
   "execution_count": 4,
   "metadata": {},
   "outputs": [
    {
     "name": "stdout",
     "output_type": "stream",
     "text": [
      "Authentication OK\n"
     ]
    }
   ],
   "source": [
    "# Credentials\n",
    "api_key = \"\" # API key\n",
    "api_key_secret = \"\" # API secret key\n",
    "access_token = \"\"\n",
    "access_token_secret = \"\"\n",
    "\n",
    "# Authentification\n",
    "auth = OAuthHandler(api_key, api_key_secret) #creating an OAuthHandler instance\n",
    "auth.set_access_token(access_token, access_token_secret) # set tokens\n",
    "api = tweepy.API(auth, wait_on_rate_limit=True, wait_on_rate_limit_notify=True)# create api connection\n",
    "\n",
    "# test authentication\n",
    "try:\n",
    "    api.verify_credentials()\n",
    "    print(\"Authentication OK\")\n",
    "except:\n",
    "    print(\"Error during authentication\")"
   ]
  },
  {
   "cell_type": "markdown",
   "metadata": {},
   "source": [
    "---------------------------\n",
    "After having decided the setting (your own or the company + corresponding timespan) that you will study, you should follow the following steps:"
   ]
  },
  {
   "cell_type": "markdown",
   "metadata": {},
   "source": [
    "**Step 1a: `X` variables** [week 2]\n",
    "- Fetch the data using the **twitter API** or any other API or website that you are interested in.\n",
    "- Beware of the rate limits and organize your program so as to overcome them if needed\n",
    "- The data should include some text, but might also have other interesting variables (retweets, favorites...)\n",
    "- Create some (non-text based) `X_num` variables that you will use for the prediction"
   ]
  },
  {
   "cell_type": "markdown",
   "metadata": {},
   "source": [
    "Specify the **ticker name** (`target_ticker`) of stock-market listed company likely affected by the COVID-19 pandemic and it's corresponding **twitter account name** (`target_account`). "
   ]
  },
  {
   "cell_type": "code",
   "execution_count": 5,
   "metadata": {},
   "outputs": [],
   "source": [
    "target_account, target_ticker = (\"3M\", \"MMM\")\n",
    "#target_account, target_ticker = (\"corona\", \"ABI.BR\")"
   ]
  },
  {
   "cell_type": "code",
   "execution_count": 6,
   "metadata": {
    "jupyter": {
     "outputs_hidden": false
    },
    "pycharm": {
     "name": "#%%\n"
    }
   },
   "outputs": [
    {
     "name": "stdout",
     "output_type": "stream",
     "text": [
      "file exists. reading.\n"
     ]
    }
   ],
   "source": [
    "# read tweet data\n",
    "file = \"data/{}_tweets_{}.csv\".format(target_account, \"2020-05-31\")\n",
    "\n",
    "if os.path.exists(file):\n",
    "    print(\"file exists. reading.\")\n",
    "    df_tweets = pd.read_csv(file, sep=',', index_col='created_at')\n",
    "    df_tweets.index = pd.to_datetime(df_tweets.index)\n",
    "else:\n",
    "    print(\"file does not exist. fetching tweets from scratch.\")\n",
    "    df_tweets = fetch_tweets(target_account)\n",
    "    df_tweets.to_csv(file)"
   ]
  },
  {
   "cell_type": "code",
   "execution_count": 7,
   "metadata": {},
   "outputs": [
    {
     "data": {
      "text/html": [
       "<div>\n",
       "<style scoped>\n",
       "    .dataframe tbody tr th:only-of-type {\n",
       "        vertical-align: middle;\n",
       "    }\n",
       "\n",
       "    .dataframe tbody tr th {\n",
       "        vertical-align: top;\n",
       "    }\n",
       "\n",
       "    .dataframe thead th {\n",
       "        text-align: right;\n",
       "    }\n",
       "</style>\n",
       "<table border=\"1\" class=\"dataframe\">\n",
       "  <thead>\n",
       "    <tr style=\"text-align: right;\">\n",
       "      <th></th>\n",
       "      <th>confirmed</th>\n",
       "      <th>deaths</th>\n",
       "      <th>confirmed_d1</th>\n",
       "      <th>deaths_d1</th>\n",
       "      <th>confirmed_d2</th>\n",
       "      <th>deaths_d2</th>\n",
       "    </tr>\n",
       "    <tr>\n",
       "      <th>time</th>\n",
       "      <th></th>\n",
       "      <th></th>\n",
       "      <th></th>\n",
       "      <th></th>\n",
       "      <th></th>\n",
       "      <th></th>\n",
       "    </tr>\n",
       "  </thead>\n",
       "  <tbody>\n",
       "    <tr>\n",
       "      <th>2020-01-22</th>\n",
       "      <td>1</td>\n",
       "      <td>0</td>\n",
       "      <td>0.0</td>\n",
       "      <td>0.0</td>\n",
       "      <td>0.50</td>\n",
       "      <td>0.00</td>\n",
       "    </tr>\n",
       "    <tr>\n",
       "      <th>2020-01-23</th>\n",
       "      <td>1</td>\n",
       "      <td>0</td>\n",
       "      <td>0.5</td>\n",
       "      <td>0.0</td>\n",
       "      <td>0.25</td>\n",
       "      <td>0.00</td>\n",
       "    </tr>\n",
       "    <tr>\n",
       "      <th>2020-01-24</th>\n",
       "      <td>2</td>\n",
       "      <td>0</td>\n",
       "      <td>0.5</td>\n",
       "      <td>0.0</td>\n",
       "      <td>0.50</td>\n",
       "      <td>0.00</td>\n",
       "    </tr>\n",
       "    <tr>\n",
       "      <th>2020-01-25</th>\n",
       "      <td>2</td>\n",
       "      <td>0</td>\n",
       "      <td>1.5</td>\n",
       "      <td>0.0</td>\n",
       "      <td>0.50</td>\n",
       "      <td>0.00</td>\n",
       "    </tr>\n",
       "    <tr>\n",
       "      <th>2020-01-26</th>\n",
       "      <td>5</td>\n",
       "      <td>0</td>\n",
       "      <td>1.5</td>\n",
       "      <td>0.0</td>\n",
       "      <td>-0.75</td>\n",
       "      <td>0.00</td>\n",
       "    </tr>\n",
       "    <tr>\n",
       "      <th>...</th>\n",
       "      <td>...</td>\n",
       "      <td>...</td>\n",
       "      <td>...</td>\n",
       "      <td>...</td>\n",
       "      <td>...</td>\n",
       "      <td>...</td>\n",
       "    </tr>\n",
       "    <tr>\n",
       "      <th>2020-05-26</th>\n",
       "      <td>1675579</td>\n",
       "      <td>98808</td>\n",
       "      <td>18280.5</td>\n",
       "      <td>1101.0</td>\n",
       "      <td>720.75</td>\n",
       "      <td>377.50</td>\n",
       "    </tr>\n",
       "    <tr>\n",
       "      <th>2020-05-27</th>\n",
       "      <td>1693570</td>\n",
       "      <td>100317</td>\n",
       "      <td>20227.0</td>\n",
       "      <td>1350.5</td>\n",
       "      <td>2483.00</td>\n",
       "      <td>45.50</td>\n",
       "    </tr>\n",
       "    <tr>\n",
       "      <th>2020-05-28</th>\n",
       "      <td>1716033</td>\n",
       "      <td>101509</td>\n",
       "      <td>23246.5</td>\n",
       "      <td>1192.0</td>\n",
       "      <td>1860.50</td>\n",
       "      <td>-136.75</td>\n",
       "    </tr>\n",
       "    <tr>\n",
       "      <th>2020-05-29</th>\n",
       "      <td>1740063</td>\n",
       "      <td>102701</td>\n",
       "      <td>23948.0</td>\n",
       "      <td>1077.0</td>\n",
       "      <td>309.75</td>\n",
       "      <td>-115.00</td>\n",
       "    </tr>\n",
       "    <tr>\n",
       "      <th>2020-05-30</th>\n",
       "      <td>1763929</td>\n",
       "      <td>103663</td>\n",
       "      <td>23866.0</td>\n",
       "      <td>962.0</td>\n",
       "      <td>-82.00</td>\n",
       "      <td>-115.00</td>\n",
       "    </tr>\n",
       "  </tbody>\n",
       "</table>\n",
       "<p>130 rows × 6 columns</p>\n",
       "</div>"
      ],
      "text/plain": [
       "            confirmed  deaths  confirmed_d1  deaths_d1  confirmed_d2  \\\n",
       "time                                                                   \n",
       "2020-01-22          1       0           0.0        0.0          0.50   \n",
       "2020-01-23          1       0           0.5        0.0          0.25   \n",
       "2020-01-24          2       0           0.5        0.0          0.50   \n",
       "2020-01-25          2       0           1.5        0.0          0.50   \n",
       "2020-01-26          5       0           1.5        0.0         -0.75   \n",
       "...               ...     ...           ...        ...           ...   \n",
       "2020-05-26    1675579   98808       18280.5     1101.0        720.75   \n",
       "2020-05-27    1693570  100317       20227.0     1350.5       2483.00   \n",
       "2020-05-28    1716033  101509       23246.5     1192.0       1860.50   \n",
       "2020-05-29    1740063  102701       23948.0     1077.0        309.75   \n",
       "2020-05-30    1763929  103663       23866.0      962.0        -82.00   \n",
       "\n",
       "            deaths_d2  \n",
       "time                   \n",
       "2020-01-22       0.00  \n",
       "2020-01-23       0.00  \n",
       "2020-01-24       0.00  \n",
       "2020-01-25       0.00  \n",
       "2020-01-26       0.00  \n",
       "...               ...  \n",
       "2020-05-26     377.50  \n",
       "2020-05-27      45.50  \n",
       "2020-05-28    -136.75  \n",
       "2020-05-29    -115.00  \n",
       "2020-05-30    -115.00  \n",
       "\n",
       "[130 rows x 6 columns]"
      ]
     },
     "execution_count": 7,
     "metadata": {},
     "output_type": "execute_result"
    }
   ],
   "source": [
    "# read CSSE data\n",
    "csse = xr.open_dataset(\"data/csse_data_merged.nc\", engine='netcdf4')\n",
    "csse_us = csse.sum(dim='county').to_dataframe()\n",
    "\n",
    "csse_us['confirmed_d1'] = np.gradient(csse_us['confirmed'].values)\n",
    "csse_us['deaths_d1'] = np.gradient(csse_us['deaths'].values)\n",
    "\n",
    "csse_us['confirmed_d2'] = np.gradient(csse_us['confirmed_d1'].values)\n",
    "csse_us['deaths_d2'] = np.gradient(csse_us['deaths_d1'].values)\n",
    "csse_us"
   ]
  },
  {
   "cell_type": "markdown",
   "metadata": {
    "pycharm": {
     "name": "#%% md\n"
    }
   },
   "source": [
    "## Create numeric X variable(s) based on fetched tweets"
   ]
  },
  {
   "cell_type": "markdown",
   "metadata": {},
   "source": [
    "### Counts of certain covid-related keywords"
   ]
  },
  {
   "cell_type": "code",
   "execution_count": 8,
   "metadata": {
    "jupyter": {
     "outputs_hidden": false
    },
    "pycharm": {
     "name": "#%%\n"
    }
   },
   "outputs": [
    {
     "data": {
      "text/plain": [
       "n_text        22\n",
       "n_hashtags    13\n",
       "n_total       35\n",
       "dtype: int64"
      ]
     },
     "execution_count": 8,
     "metadata": {},
     "output_type": "execute_result"
    },
    {
     "data": {
      "image/png": "[encoded data removed]",
      "text/plain": [
       "<Figure size 720x360 with 1 Axes>"
      ]
     },
     "metadata": {},
     "output_type": "display_data"
    },
    {
     "data": {
      "image/png": "[encoded data removed]",
      "text/plain": [
       "<Figure size 432x288 with 1 Axes>"
      ]
     },
     "metadata": {},
     "output_type": "display_data"
    }
   ],
   "source": [
    "# empty X_num df\n",
    "X_num = pd.DataFrame(index=df_tweets.index, columns=['n_text', 'n_hashtags'])\n",
    "\n",
    "# define list of search strings\n",
    "keywords = ['coronavirus', 'covid19', 'covid', 'virus', 'covid-19', 'COVID-19', 'COVID' 'corona']\n",
    "hashtag_search_strings = keywords\n",
    "text_search_strings = keywords\n",
    "\n",
    "# counter \n",
    "idx_num = 0\n",
    "\n",
    "for idx, row in df_tweets.iterrows():\n",
    "    # 1) infer number of times the search strings were mentioned as a hashtag\n",
    "    # -------------------------------------------------------------------------\n",
    "    # parse string representation of dict to dict using ast module\n",
    "    if isinstance(row['entities'], dict):\n",
    "        hashtags_list_of_dicts = row['entities']['hashtags']\n",
    "    else:\n",
    "        hashtags_list_of_dicts = ast.literal_eval(row['entities']).get('hashtags')\n",
    "    if len(hashtags_list_of_dicts) != 0:\n",
    "        hashtags = []\n",
    "        for hashtag_entry in hashtags_list_of_dicts:\n",
    "            hashtags.append(hashtag_entry.get('text'))\n",
    "        \n",
    "        # count ocurrences of words defined in search_strings\n",
    "        hashtag_counts = []\n",
    "        for keyword in hashtag_search_strings:\n",
    "            hashtag_counts.append(occurrence_counter(string_list=hashtags, \n",
    "                                                     search_string=keyword))\n",
    "        # append count\n",
    "        X_num.iloc[idx_num]['n_hashtags'] = sum(hashtag_counts)\n",
    "    else:\n",
    "        X_num.iloc[idx_num]['n_hashtags'] = 0\n",
    "        \n",
    "    # 2) infer number of times the search strings were mentioned in tweet text\n",
    "    # -------------------------------------------------------------------------\n",
    "    full_text = row['full_text'].split()\n",
    "    \n",
    "    # count ocurrences of words defined in search_strings\n",
    "    text_counts = []\n",
    "    for keyword in text_search_strings:\n",
    "            text_counts.append(occurrence_counter(string_list=full_text, \n",
    "                                                  search_string=keyword))\n",
    "    # append count\n",
    "    if sum(text_counts) != 0:\n",
    "        X_num.iloc[idx_num]['n_text'] = sum(text_counts)\n",
    "    else:\n",
    "        X_num.iloc[idx_num]['n_text'] = 0\n",
    "    # end of loop: update counter\n",
    "    idx_num += 1\n",
    "\n",
    "\n",
    "# combine text and hashtag ocurrences in additional column\n",
    "X_num['n_total'] = X_num['n_text'] + X_num['n_hashtags']\n",
    "X_num_daily = X_num.resample('D').sum()\n",
    "X_num_daily.plot(figsize=(10,5))\n",
    "X_num_daily.plot.hist(stacked=True)\n",
    "X_num_daily.describe()\n",
    "\n",
    "X_num_daily.sum(axis=0)"
   ]
  },
  {
   "cell_type": "markdown",
   "metadata": {},
   "source": [
    "As you can see, I played around with word occurences as potential covariates. However, for the Regression and Classification tasks I stuck with the sentiment and CSSE data."
   ]
  },
  {
   "cell_type": "markdown",
   "metadata": {},
   "source": [
    "**Step 3: text analysis** [week 4]\n",
    "- Featurize tweets (or another text dataset related to your subject): transform the text into a standard document-level dataset `X_doc`"
   ]
  },
  {
   "cell_type": "code",
   "execution_count": 9,
   "metadata": {},
   "outputs": [],
   "source": [
    "sentiment_scores = df_tweets['full_text'].apply(compute_sentiments)\n",
    "\n",
    "sentiment_data = {}\n",
    "col_names = ['neg', 'neu', 'pos', 'compound']\n",
    "sentiment_colname = 'sentiments'\n",
    "        \n",
    "df_sentiments = pd.DataFrame(data=sentiment_scores.values,\n",
    "                                         columns=[sentiment_colname],\n",
    "                                         index=df_tweets.index)\n",
    "\n",
    "# tuple to multiple columns\n",
    "for n, col in enumerate(col_names):\n",
    "    df_sentiments[col] = df_sentiments[sentiment_colname].apply(\n",
    "        lambda sentiments: sentiments[n])\n",
    "\n",
    "sentiment_data = df_sentiments.drop(sentiment_colname, axis=1)"
   ]
  },
  {
   "cell_type": "code",
   "execution_count": 10,
   "metadata": {},
   "outputs": [],
   "source": [
    "# resample\n",
    "X_num_daily = sentiment_data.resample('D').mean()\n",
    "\n",
    "# smooth with 3-day windowed moving average to reduce noise\n",
    "X_num_daily = X_num_daily.rolling(window=\"3d\", center=False).mean()\n",
    "\n",
    "# localize tz of csse df\n",
    "try:\n",
    "    csse_us.index = csse_us.index.tz_localize('UTC')\n",
    "except TypeError as e:\n",
    "    print(e)\n",
    "    pass\n",
    "\n",
    "# merge in csse data\n",
    "X_num_daily = pd.merge(X_num_daily, csse_us, left_index=True, right_index=True)"
   ]
  },
  {
   "cell_type": "markdown",
   "metadata": {},
   "source": [
    "**Step 1b: continuous `y` variables** [week 2]\n",
    "- Fetching the data: \n",
    "    - if you work on the suggested idea, you can easily access daily stock \n",
    "    prices using the [`yfinance` package](https://pypi.org/project/yfinance/) (see below)\n",
    "    - otherwise, you can find some interesting data listed in the syllabus"
   ]
  },
  {
   "cell_type": "code",
   "execution_count": 11,
   "metadata": {
    "pycharm": {
     "name": "#%%\n"
    }
   },
   "outputs": [
    {
     "name": "stderr",
     "output_type": "stream",
     "text": [
      "/Users/felix/miniconda3/envs/bd4pp/lib/python3.7/site-packages/ipykernel_launcher.py:74: FutureWarning: The pandas.datetime class is deprecated and will be removed from pandas in a future version. Import from datetime module instead.\n"
     ]
    }
   ],
   "source": [
    "# fetch 3M data\n",
    "file_ticker = \"data/{}_yfinance_2018-01-01_{}.csv\".format(target_ticker, \"2020-05-31\")\n",
    "if os.path.exists(file_ticker):\n",
    "     # read existing data\n",
    "    stock_data = read_data(infile=file_ticker, parse_col=\"Date\", sep=';')\n",
    "else:\n",
    "    # fetch from scratch\n",
    "    stock_data = fetch_stock_data(ticker=target_ticker, \n",
    "                              start= \"2018-01-01\", \n",
    "                              end=\"{}\".format(\"2020-05-31\"),\n",
    "                              save=True)"
   ]
  },
  {
   "cell_type": "markdown",
   "metadata": {},
   "source": [
    "**Step 1c: merge `X_num` and `y`** [week 2]\n",
    "- Beware of the temporality: in the case of the proposed study on stock market prices, you will have to deal with the fact that the X is at the tweet level while `y` is daily."
   ]
  },
  {
   "cell_type": "code",
   "execution_count": 12,
   "metadata": {
    "pycharm": {
     "name": "#%%\n"
    }
   },
   "outputs": [],
   "source": [
    "try:\n",
    "    stock_data.index = stock_data.index.tz_localize('UTC')\n",
    "except TypeError as e:\n",
    "    print(e)\n",
    "    pass\n",
    "\n",
    "#stock_data.index = stock_data.index.tz_convert(None)\n",
    "df_merged = pd.merge(X_num_daily, stock_data, left_index=True, right_index=True)"
   ]
  },
  {
   "cell_type": "code",
   "execution_count": 13,
   "metadata": {
    "jupyter": {
     "outputs_hidden": false
    },
    "pycharm": {
     "name": "#%% \n"
    }
   },
   "outputs": [
    {
     "data": {
      "text/plain": [
       "(<Figure size 720x720 with 2 Axes>,\n",
       " <matplotlib.axes._subplots.AxesSubplot at 0x124d51d10>)"
      ]
     },
     "execution_count": 13,
     "metadata": {},
     "output_type": "execute_result"
    },
    {
     "data": {
      "image/png": "[encoded data removed]",
      "text/plain": [
       "<Figure size 720x720 with 2 Axes>"
      ]
     },
     "metadata": {},
     "output_type": "display_data"
    }
   ],
   "source": [
    "correlation_matrix_plot(df=df_merged, figsize=(10,10))"
   ]
  },
  {
   "cell_type": "markdown",
   "metadata": {},
   "source": [
    "There are significant (at p < 0.05) correlations between the variable of interest `Adj Close`, the closing price of the stock for a given day, and sentiment scores as well as number of covid19 related deaths/infections and their time-derivatives. This is a positive sign, as it means that we can likely exploit these correlations to obtain meaningful predictions."
   ]
  },
  {
   "cell_type": "markdown",
   "metadata": {},
   "source": [
    "**Sample split.** Do the standard 80% / 20% training/test split using all days in the data. In addition, do a separate temporal split where the training set is the first 80% of days in the time series.\n",
    "\n",
    "**For all machine learning models**, report performance measure in test and train samples.\n",
    "\n",
    "**Note from Felix:** I decided to only do a 5-fold Time series cross validation and report the mean validation metrics. These results are much less sensitive to the way the split is chosen."
   ]
  },
  {
   "cell_type": "code",
   "execution_count": 14,
   "metadata": {
    "jupyter": {
     "outputs_hidden": false
    },
    "pycharm": {
     "name": "#%% \n"
    }
   },
   "outputs": [],
   "source": [
    "from sklearn.model_selection import train_test_split, TimeSeriesSplit\n",
    "\n",
    "def ts_crossval(model, n_folds=5, plot=False):\n",
    "    \"\"\"Performs time series CV on any sklearn regression model\"\"\"\n",
    "    \n",
    "    tscv = TimeSeriesSplit(n_splits=n_folds)\n",
    "    \n",
    "    # store metrics for each fold\n",
    "    crossval = {\"R2_is\": [],\n",
    "                \"R2_oos\": [],\n",
    "                \"RMSE_is\": [],\n",
    "                \"RMSE_oos\": []}\n",
    "\n",
    "    i = 1\n",
    "    for train_index, test_index in tscv.split(X):\n",
    "\n",
    "        # split\n",
    "        X_train, X_test = X[train_index], X[test_index]\n",
    "        y_train, y_test = y[train_index], y[test_index]\n",
    "\n",
    "        # in-sample performance\n",
    "        # ------------------------------------------------------------\n",
    "        model_is = model.fit(X_train, y_train)\n",
    "        y_train_pred = model_is.predict(X_train)\n",
    "\n",
    "        # R^2, MSE and RMSE\n",
    "        r2_is = r2_score(y_train, y_train_pred)\n",
    "        mse_is = mean_squared_error(y_train, y_train_pred)\n",
    "        rmse_is = np.sqrt(mse_is)\n",
    "\n",
    "        # append to crossval dict\n",
    "        crossval[\"R2_is\"].append(r2_is)\n",
    "        crossval[\"RMSE_is\"].append(rmse_is)\n",
    "\n",
    "        # out-of-sample performance\n",
    "        # ------------------------------------------------------------\n",
    "        model_oos = model.fit(X_test, y_test)\n",
    "        y_test_pred = model_oos.predict(X_test)   \n",
    "\n",
    "        # R^2, MSE and RMSE\n",
    "        r2_oos = r2_score(y_test, y_test_pred)\n",
    "        mse_oos = mean_squared_error(y_test, y_test_pred)\n",
    "        rmse_oos = np.sqrt(mse_oos)\n",
    "\n",
    "        # append to crossval dict\n",
    "        crossval[\"R2_oos\"].append(r2_oos)\n",
    "        crossval[\"RMSE_oos\"].append(rmse_oos)\n",
    "\n",
    "        # Regplot (optional)\n",
    "        # ------------------------------------------------------------\n",
    "        if plot:\n",
    "            g=sns.regplot(x=y_test_pred, y=y_test, x_bins=100)\n",
    "            g=g.set_title(\"Fold {}\".format(i))\n",
    "            plt.annotate('In-sample R2={:.2f}'.format(r2_is),\n",
    "                        xy=(1, 0.05),  xycoords='axes fraction',\n",
    "                        horizontalalignment='right',\n",
    "                        verticalalignment='bottom')\n",
    "            plt.annotate('Out-of-sample R2={:.2f}'.format(r2_oos),\n",
    "                        xy=(1, 0),  xycoords='axes fraction',\n",
    "                        horizontalalignment='right',\n",
    "                        verticalalignment='bottom')\n",
    "            plt.xlabel(\"Adj Close Predicted ($)\")\n",
    "            plt.ylabel(\"Adj Close ($)\")\n",
    "            plt.axis('tight')\n",
    "            plt.tight_layout()\n",
    "            plt.show(g)\n",
    "        \n",
    "        # update counter\n",
    "        i+=1\n",
    "\n",
    "    # store metrics in data frame\n",
    "    df_crossval = pd.DataFrame.from_dict(crossval)\n",
    "    print(\"Mean metrics from {} folds\".format(n_folds))\n",
    "    print(df_crossval.mean(axis=0))\n",
    "    print(\"\")\n",
    "    \n",
    "\n",
    "def ts_crossval_classification(model, n_folds=5):\n",
    "    \"\"\"Performs time series CV on any sklearn classification model\"\"\"\n",
    "    \n",
    "    tscv = TimeSeriesSplit(n_splits=n_folds)\n",
    "    \n",
    "    # store metrics for each fold\n",
    "    crossval = {\"precision_is\": [],\n",
    "                \"precision_oos\": [],\n",
    "                \"recall_is\": [],\n",
    "                \"recall_oos\": [],\n",
    "                \"f1_is\": [],\n",
    "                \"f1_oos\": [],\n",
    "                \"accuracy_is\": [],\n",
    "                \"accuracy_oos\": [],\n",
    "                \"auc_is\": [],\n",
    "                \"auc_oos\": [],\n",
    "               }\n",
    "\n",
    "    i = 1\n",
    "    for train_index, test_index in tscv.split(X):\n",
    "\n",
    "        # split\n",
    "        X_train, X_test = X[train_index], X[test_index]\n",
    "        y_train, y_test = y[train_index], y[test_index]\n",
    "\n",
    "        # in-sample performance\n",
    "        # ------------------------------------------------------------\n",
    "        # Fit\n",
    "        model_is = model.fit(X_train, y_train)\n",
    "        y_train_pred = model_is.predict(X_train)\n",
    "        \n",
    "        # validation metrics for classification problems\n",
    "        crossval[\"precision_is\"].append(precision_score(y_train, y_train_pred))\n",
    "        crossval[\"recall_is\"].append(recall_score(y_train, y_train_pred))\n",
    "        crossval[\"f1_is\"].append(f1_score(y_train, y_train_pred))\n",
    "        crossval[\"accuracy_is\"].append(accuracy_score(y_train, y_train_pred))\n",
    "        crossval[\"auc_is\"].append(roc_auc_score(y_train, y_train_pred))\n",
    "\n",
    "        # out-of-sample performance\n",
    "        # ------------------------------------------------------------\n",
    "        model_oos = model.fit(X_test, y_test)\n",
    "        y_test_pred = model_oos.predict(X_test)   \n",
    "\n",
    "        # validation metrics for classification problems\n",
    "        crossval[\"precision_oos\"].append(precision_score(y_test, y_test_pred))\n",
    "        crossval[\"recall_oos\"].append(recall_score(y_test, y_test_pred))\n",
    "        crossval[\"f1_oos\"].append(f1_score(y_test, y_test_pred))\n",
    "        crossval[\"accuracy_oos\"].append(accuracy_score(y_test, y_test_pred))\n",
    "        crossval[\"auc_oos\"].append(roc_auc_score(y_test, y_test_pred))\n",
    "\n",
    "        # update counter\n",
    "        i+=1\n",
    "\n",
    "    # store metrics in data frame\n",
    "    df_crossval = pd.DataFrame.from_dict(crossval)\n",
    "    #print(\"Mean metrics from {} folds\".format(n_folds))\n",
    "    f, ax = plt.subplots()\n",
    "    ax = df_crossval.mean(axis=0).plot.bar()\n",
    "    ax.set_ylim(0,1)\n",
    "    ax.set_title(str(type(model)))\n",
    "    print(\"\")"
   ]
  },
  {
   "cell_type": "markdown",
   "metadata": {
    "pycharm": {
     "name": "#%% md\n"
    }
   },
   "source": [
    "**Step 2a: estimate different regression models using `X_num` and `y`** [week 3]\n",
    "***Milestone 2 - March 31th***  *You can submit the previous steps as a second notebook.*"
   ]
  },
  {
   "cell_type": "code",
   "execution_count": 15,
   "metadata": {},
   "outputs": [
    {
     "name": "stdout",
     "output_type": "stream",
     "text": [
      "Sample size of data set: 89\n",
      "\n",
      "Linear regression\n",
      "Mean metrics from 5 folds\n",
      "R2_is       0.515113\n",
      "R2_oos      0.583989\n",
      "RMSE_is     7.287483\n",
      "RMSE_oos    3.614673\n",
      "dtype: float64\n",
      "\n",
      "Ridge regression\n",
      "Mean metrics from 5 folds\n",
      "R2_is       0.503269\n",
      "R2_oos      0.572184\n",
      "RMSE_is     7.350472\n",
      "RMSE_oos    3.647749\n",
      "dtype: float64\n",
      "\n",
      "Lasso regression\n",
      "Mean metrics from 5 folds\n",
      "R2_is       0.461361\n",
      "R2_oos      0.524751\n",
      "RMSE_is     7.591854\n",
      "RMSE_oos    3.779368\n",
      "dtype: float64\n",
      "\n",
      "Elastic Net regression\n",
      "Mean metrics from 5 folds\n",
      "R2_is       0.469361\n",
      "R2_oos      0.529482\n",
      "RMSE_is     7.550811\n",
      "RMSE_oos    3.766765\n",
      "dtype: float64\n",
      "\n",
      "Random forest regression\n",
      "Mean metrics from 5 folds\n",
      "R2_is       0.962081\n",
      "R2_oos      0.889520\n",
      "RMSE_is     1.850713\n",
      "RMSE_oos    1.852621\n",
      "dtype: float64\n",
      "\n"
     ]
    }
   ],
   "source": [
    "import warnings\n",
    "warnings.filterwarnings('ignore')\n",
    "\n",
    "# numeric covariates\n",
    "sample = df_merged[['Adj Close', 'confirmed', 'deaths', 'confirmed_d1', 'deaths_d1', 'confirmed_d2', 'deaths_d2']]\n",
    "sample_dropna = sample.dropna(axis=0)\n",
    "\n",
    "X_num = sample_dropna[['confirmed', 'deaths', 'confirmed_d1', 'deaths_d1', 'confirmed_d2', 'deaths_d2']]\n",
    "X = X_num.values\n",
    "\n",
    "# y \n",
    "y_full = sample_dropna['Adj Close']\n",
    "y = y_full.values\n",
    "\n",
    "print(\"Sample size of data set: {}\\n\".format(len(y)))\n",
    "# -----------------------------------------------------------------\n",
    "\n",
    "# 1) Linear regression\n",
    "lin_reg = LinearRegression()\n",
    "print(\"Linear regression\")\n",
    "ts_crossval(lin_reg)\n",
    "\n",
    "# 2) Ridge regression\n",
    "from sklearn.linear_model import Ridge\n",
    "ridge_reg = Ridge(alpha=2, solver='cholesky', random_state=42) \n",
    "print(\"Ridge regression\")\n",
    "ts_crossval(ridge_reg)\n",
    "\n",
    "# 3) Lasso regression\n",
    "from sklearn.linear_model import Lasso\n",
    "lasso_reg = Lasso(alpha=1, random_state=42)\n",
    "print(\"Lasso regression\")\n",
    "ts_crossval(lasso_reg)\n",
    "\n",
    "# 4) Elastic Net\n",
    "from sklearn.linear_model import ElasticNet\n",
    "elanet_reg = ElasticNet(random_state=42)\n",
    "print(\"Elastic Net regression\")\n",
    "ts_crossval(elanet_reg)\n",
    "\n",
    "# 5) Random Forest\n",
    "from sklearn.ensemble import RandomForestRegressor\n",
    "rf_reg = RandomForestRegressor(random_state=42)\n",
    "print(\"Random forest regression\")\n",
    "ts_crossval(rf_reg)"
   ]
  },
  {
   "cell_type": "markdown",
   "metadata": {},
   "source": [
    "The untuned random forest model by far outperforms the other models based on the X_num covariates."
   ]
  },
  {
   "cell_type": "markdown",
   "metadata": {},
   "source": [
    "**Step 2b: estimate different regression models using `X_doc` and `y`** [week 3]"
   ]
  },
  {
   "cell_type": "code",
   "execution_count": 16,
   "metadata": {
    "jupyter": {
     "outputs_hidden": false
    },
    "pycharm": {
     "name": "#%%\n"
    }
   },
   "outputs": [
    {
     "name": "stdout",
     "output_type": "stream",
     "text": [
      "Sample size of data set: 89\n",
      "\n",
      "Linear regression\n",
      "Mean metrics from 5 folds\n",
      "R2_is       0.264121\n",
      "R2_oos      0.619538\n",
      "RMSE_is     8.980906\n",
      "RMSE_oos    3.528709\n",
      "dtype: float64\n",
      "\n",
      "Ridge regression\n",
      "Mean metrics from 5 folds\n",
      "R2_is       0.074784\n",
      "R2_oos      0.066081\n",
      "RMSE_is     9.984235\n",
      "RMSE_oos    5.721585\n",
      "dtype: float64\n",
      "\n",
      "Lasso regression\n",
      "Mean metrics from 5 folds\n",
      "R2_is        0.000000\n",
      "R2_oos       0.000000\n",
      "RMSE_is     10.449398\n",
      "RMSE_oos     5.955658\n",
      "dtype: float64\n",
      "\n",
      "Elastic Net regression\n",
      "Mean metrics from 5 folds\n",
      "R2_is        0.003476\n",
      "R2_oos       0.007415\n",
      "RMSE_is     10.427897\n",
      "RMSE_oos     5.928181\n",
      "dtype: float64\n",
      "\n",
      "Random forest regression\n",
      "Mean metrics from 5 folds\n",
      "R2_is       0.862471\n",
      "R2_oos      0.859164\n",
      "RMSE_is     3.751475\n",
      "RMSE_oos    2.165029\n",
      "dtype: float64\n",
      "\n"
     ]
    }
   ],
   "source": [
    "import warnings\n",
    "warnings.filterwarnings('ignore')\n",
    "\n",
    "# text-based covariates: \n",
    "# note that corona does not post a lot of tweets, so I needed to drop the missing values.\n",
    "# the obtained results are not robust at all due to the small sample size. \n",
    "sample = df_merged[['Adj Close', 'neg', 'neu', 'pos', 'compound']]\n",
    "sample_dropna = sample.dropna(axis=0)\n",
    "\n",
    "X_num = sample_dropna[['neg', 'neu', 'pos', 'compound']]\n",
    "X = X_num.values\n",
    "\n",
    "# y \n",
    "y_full = sample_dropna['Adj Close']\n",
    "y = y_full.values\n",
    "\n",
    "print(\"Sample size of data set: {}\\n\".format(len(y)))\n",
    "# -----------------------------------------------------------------\n",
    "\n",
    "# 1) Linear regression\n",
    "lin_reg = LinearRegression()\n",
    "print(\"Linear regression\")\n",
    "ts_crossval(lin_reg)\n",
    "\n",
    "# 2) Ridge regression\n",
    "from sklearn.linear_model import Ridge\n",
    "ridge_reg = Ridge(alpha=2, solver='cholesky', random_state=42) \n",
    "print(\"Ridge regression\")\n",
    "ts_crossval(ridge_reg)\n",
    "\n",
    "# 3) Lasso regression\n",
    "from sklearn.linear_model import Lasso\n",
    "lasso_reg = Lasso(alpha=1, random_state=42)\n",
    "print(\"Lasso regression\")\n",
    "ts_crossval(lasso_reg)\n",
    "\n",
    "# 4) Elastic Net\n",
    "from sklearn.linear_model import ElasticNet\n",
    "elanet_reg = ElasticNet(random_state=42)\n",
    "print(\"Elastic Net regression\")\n",
    "ts_crossval(elanet_reg)\n",
    "\n",
    "# 5) Random Forest\n",
    "from sklearn.ensemble import RandomForestRegressor\n",
    "rf_reg = RandomForestRegressor(random_state=42)\n",
    "print(\"Random forest regression\")\n",
    "ts_crossval(rf_reg)"
   ]
  },
  {
   "cell_type": "markdown",
   "metadata": {},
   "source": [
    "Again, the untuned random forest model by far outperforms the other models, here based on the X_doc covariates."
   ]
  },
  {
   "cell_type": "markdown",
   "metadata": {},
   "source": [
    "**Bonus:** both X_doc and X_num as covariates"
   ]
  },
  {
   "cell_type": "code",
   "execution_count": 17,
   "metadata": {},
   "outputs": [
    {
     "name": "stdout",
     "output_type": "stream",
     "text": [
      "Sample size of data set: 89\n",
      "\n",
      "Linear regression\n",
      "Mean metrics from 5 folds\n",
      "R2_is       0.618652\n",
      "R2_oos      0.822954\n",
      "RMSE_is     6.451791\n",
      "RMSE_oos    2.103520\n",
      "dtype: float64\n",
      "\n",
      "Ridge regression\n",
      "Mean metrics from 5 folds\n",
      "R2_is       0.515108\n",
      "R2_oos      0.574178\n",
      "RMSE_is     7.259579\n",
      "RMSE_oos    3.637010\n",
      "dtype: float64\n",
      "\n",
      "Lasso regression\n",
      "Mean metrics from 5 folds\n",
      "R2_is       0.461361\n",
      "R2_oos      0.524751\n",
      "RMSE_is     7.591854\n",
      "RMSE_oos    3.779368\n",
      "dtype: float64\n",
      "\n",
      "Elastic Net regression\n",
      "Mean metrics from 5 folds\n",
      "R2_is       0.469362\n",
      "R2_oos      0.529482\n",
      "RMSE_is     7.550811\n",
      "RMSE_oos    3.766765\n",
      "dtype: float64\n",
      "\n",
      "Random forest regression\n",
      "Mean metrics from 5 folds\n",
      "R2_is       0.955280\n",
      "R2_oos      0.887796\n",
      "RMSE_is     1.981063\n",
      "RMSE_oos    1.881420\n",
      "dtype: float64\n",
      "\n"
     ]
    }
   ],
   "source": [
    "import warnings\n",
    "warnings.filterwarnings('ignore')\n",
    "\n",
    "# using all covariates\n",
    "sample = df_merged\n",
    "sample_dropna = sample.dropna(axis=0)\n",
    "\n",
    "X_num = sample_dropna[['neg', 'neu', 'pos', 'compound', 'confirmed', 'deaths', \n",
    "                       'confirmed_d1', 'deaths_d1', 'confirmed_d2', 'deaths_d2']]\n",
    "X = X_num.values\n",
    "\n",
    "# y \n",
    "y_full = sample_dropna['Adj Close']\n",
    "y = y_full.values\n",
    "\n",
    "print(\"Sample size of data set: {}\\n\".format(len(y)))\n",
    "# -----------------------------------------------------------------\n",
    "\n",
    "# 1) Linear regression\n",
    "lin_reg = LinearRegression()\n",
    "print(\"Linear regression\")\n",
    "ts_crossval(lin_reg)\n",
    "\n",
    "# 2) Ridge regression\n",
    "from sklearn.linear_model import Ridge\n",
    "ridge_reg = Ridge(alpha=2, solver='cholesky', random_state=42) \n",
    "print(\"Ridge regression\")\n",
    "ts_crossval(ridge_reg)\n",
    "\n",
    "# 3) Lasso regression\n",
    "from sklearn.linear_model import Lasso\n",
    "lasso_reg = Lasso(alpha=1, random_state=42)\n",
    "print(\"Lasso regression\")\n",
    "ts_crossval(lasso_reg)\n",
    "\n",
    "# 4) Elastic Net\n",
    "from sklearn.linear_model import ElasticNet\n",
    "elanet_reg = ElasticNet(random_state=42)\n",
    "print(\"Elastic Net regression\")\n",
    "ts_crossval(elanet_reg)\n",
    "\n",
    "# 5) Random Forest\n",
    "from sklearn.ensemble import RandomForestRegressor\n",
    "rf_reg = RandomForestRegressor(random_state=42)\n",
    "print(\"Random forest regression\")\n",
    "ts_crossval(rf_reg)"
   ]
  },
  {
   "cell_type": "markdown",
   "metadata": {},
   "source": [
    "Unsuprisingly, the untuned random forest model by far outperforms the other models also based on the combined set of covariates."
   ]
  },
  {
   "cell_type": "markdown",
   "metadata": {
    "pycharm": {
     "name": "#%% md\n"
    }
   },
   "source": [
    "**Step 4: estimate a classification models** [week 5]\n",
    "- propose a categorical variable `y_calc` that you can compute from the continuous one (`y`) (e.g. positive or negative growthin stock prices). For the `X` dimension, you can use `X_doc` or `X_num` or both. \n",
    "- you can use any other categorical variable that you find relevant"
   ]
  },
  {
   "cell_type": "markdown",
   "metadata": {},
   "source": [
    "**Categorical feature**: as suggested, I use a dummy variable `Adj Close positive` that equals 1 if stock price development is positive or stagnant and 0 otherwise."
   ]
  },
  {
   "cell_type": "code",
   "execution_count": 18,
   "metadata": {},
   "outputs": [],
   "source": [
    "df_merged['Adj Close d1'] = np.gradient(df_merged['Adj Close'])\n",
    "df_merged['Adj Close positive'] = np.where(df_merged['Adj Close d1'] >= 0, 1, 0)"
   ]
  },
  {
   "cell_type": "code",
   "execution_count": 19,
   "metadata": {},
   "outputs": [
    {
     "data": {
      "image/png": "[encoded data removed]",
      "text/plain": [
       "<Figure size 629.675x540 with 12 Axes>"
      ]
     },
     "metadata": {},
     "output_type": "display_data"
    }
   ],
   "source": [
    "subset = df_merged[['Adj Close positive', 'confirmed_d1', 'deaths_d1', 'compound']]\n",
    "sns.pairplot(subset, hue=\"Adj Close positive\", diag_kind=\"hist\", diag_kws = dict(alpha=.5) );"
   ]
  },
  {
   "cell_type": "markdown",
   "metadata": {},
   "source": [
    "Based on the this pairplot, it is hard to find clear, visually distinctive linear (!) separations between the 2 classes. Nevertheless, the histogram shows a shift in the compound score."
   ]
  },
  {
   "cell_type": "markdown",
   "metadata": {},
   "source": [
    "**numeric covariates `X_num`**"
   ]
  },
  {
   "cell_type": "code",
   "execution_count": 20,
   "metadata": {},
   "outputs": [
    {
     "name": "stdout",
     "output_type": "stream",
     "text": [
      "Sample size of data set: 89\n",
      "\n",
      "\n",
      "\n",
      "\n"
     ]
    },
    {
     "data": {
      "image/png": "[encoded data removed]",
      "text/plain": [
       "<Figure size 432x288 with 1 Axes>"
      ]
     },
     "metadata": {},
     "output_type": "display_data"
    },
    {
     "data": {
      "image/png": "[encoded data removed]",
      "text/plain": [
       "<Figure size 432x288 with 1 Axes>"
      ]
     },
     "metadata": {},
     "output_type": "display_data"
    },
    {
     "data": {
      "image/png": "[encoded data removed]",
      "text/plain": [
       "<Figure size 432x288 with 1 Axes>"
      ]
     },
     "metadata": {},
     "output_type": "display_data"
    }
   ],
   "source": [
    "# numeric covariates\n",
    "sample = df_merged[['Adj Close positive', 'confirmed', 'deaths', 'confirmed_d1', 'deaths_d1', 'confirmed_d2', 'deaths_d2']]\n",
    "sample_dropna = sample.dropna(axis=0)\n",
    "\n",
    "X_num = sample_dropna[['confirmed', 'deaths', 'confirmed_d1', 'deaths_d1', 'confirmed_d2', 'deaths_d2']]\n",
    "X = X_num.values\n",
    "\n",
    "# y \n",
    "y_full = sample_dropna['Adj Close positive']\n",
    "y = y_full.values\n",
    "\n",
    "print(\"Sample size of data set: {}\\n\".format(len(y)))\n",
    "# -----------------------------------------------------------------\n",
    "\n",
    "# 1) Logistic regression\n",
    "from sklearn.linear_model import LogisticRegression\n",
    "model = LogisticRegression()\n",
    "ts_crossval_classification(model)\n",
    "\n",
    "# 2) Linear SVC\n",
    "from sklearn.svm import LinearSVC\n",
    "model = LinearSVC()\n",
    "ts_crossval_classification(model)\n",
    "\n",
    "# 3) Kernel SVC\n",
    "from sklearn.svm import SVC\n",
    "model = SVC(kernel='rbf', gamma=20)\n",
    "ts_crossval_classification(model)"
   ]
  },
  {
   "cell_type": "markdown",
   "metadata": {},
   "source": [
    "Kernel-based SVC clearly wins!"
   ]
  },
  {
   "cell_type": "markdown",
   "metadata": {},
   "source": [
    "**Step 6: Dimension reduction** [week 6]\n",
    "- Use one of the dimension reductions methods to dimension-reduce the features\n",
    "    - PCA or topic model (LDA or STM) or k-means clustering on the featurized text `X_doc`\n",
    "- Run another classifier"
   ]
  },
  {
   "cell_type": "code",
   "execution_count": 21,
   "metadata": {},
   "outputs": [],
   "source": [
    "from sklearn.preprocessing import scale\n",
    "from sklearn.decomposition import PCA\n",
    "from sklearn.cluster import KMeans\n",
    "from scipy.cluster import hierarchy"
   ]
  },
  {
   "cell_type": "code",
   "execution_count": 22,
   "metadata": {},
   "outputs": [
    {
     "data": {
      "text/plain": [
       "array([0.9371959, 0.0627864])"
      ]
     },
     "execution_count": 22,
     "metadata": {},
     "output_type": "execute_result"
    }
   ],
   "source": [
    "# apply mean-stdv scaling\n",
    "X = df_merged.drop('Adj Close positive', axis=1)\n",
    "X_scaled = pd.DataFrame(scale(X.values), index=X.index, columns=X.columns)\n",
    "\n",
    "# Fit the PCA model and transform X to get the principal components\n",
    "components = 2\n",
    "pca = PCA(n_components=components) \n",
    "df_pca = pd.DataFrame(data = pca.fit_transform(X), \n",
    "                      columns = ['PC{}'.format(i+1) for i in range(components)], \n",
    "                      index = X.index)\n",
    "pca.explained_variance_ratio_"
   ]
  },
  {
   "cell_type": "markdown",
   "metadata": {},
   "source": [
    "Two principal components suffice to explain ~ 99% of the variance of the covariates."
   ]
  },
  {
   "cell_type": "code",
   "execution_count": 23,
   "metadata": {},
   "outputs": [
    {
     "name": "stdout",
     "output_type": "stream",
     "text": [
      "\n",
      "\n",
      "\n"
     ]
    },
    {
     "data": {
      "image/png": "[encoded data removed]",
      "text/plain": [
       "<Figure size 432x288 with 1 Axes>"
      ]
     },
     "metadata": {},
     "output_type": "display_data"
    },
    {
     "data": {
      "image/png": "[encoded data removed]",
      "text/plain": [
       "<Figure size 432x288 with 1 Axes>"
      ]
     },
     "metadata": {},
     "output_type": "display_data"
    },
    {
     "data": {
      "image/png": "[encoded data removed]",
      "text/plain": [
       "<Figure size 432x288 with 1 Axes>"
      ]
     },
     "metadata": {},
     "output_type": "display_data"
    }
   ],
   "source": [
    "X = df_pca.values\n",
    "y = y_full.values\n",
    "\n",
    "# ------------------------------------------------------------------\n",
    "\n",
    "# 1) Logistic regression\n",
    "from sklearn.linear_model import LogisticRegression\n",
    "model = LogisticRegression()\n",
    "ts_crossval_classification(model)\n",
    "\n",
    "# 2) Linear SVC\n",
    "from sklearn.svm import LinearSVC\n",
    "model = LinearSVC()\n",
    "ts_crossval_classification(model)\n",
    "\n",
    "# 3) Kernel SVC\n",
    "from sklearn.svm import SVC\n",
    "model = SVC(kernel='rbf', gamma=20)\n",
    "ts_crossval_classification(model)"
   ]
  },
  {
   "cell_type": "markdown",
   "metadata": {},
   "source": [
    "Classification performance does decrease somewhat for the Logistic Regression and Linear SVC. The performance of kernel-based SVC even increases, possibly due to the reduction of noise."
   ]
  },
  {
   "cell_type": "markdown",
   "metadata": {},
   "source": [
    "**Step bonus: Econometric identification** [week 8]\n",
    "- Find an exogenous shock affecting this firm (but not all the firms) and a control group of firms not affected\n",
    "    - example: a natural disaster/shock to the exchange rate/change in ownership... affects the functionning of this firm but not the other firms of the stock market index.  \n",
    "- scale up the previous data collection to the firms in the control group\n",
    "- use one of the technique studied in class to causally identify the impact of the exogenous shock on the stock market of the affected firm"
   ]
  },
  {
   "cell_type": "markdown",
   "metadata": {},
   "source": [
    "Unfortunately, I didn't have time for the bonus exercise."
   ]
  }
 ],
 "metadata": {
  "kernelspec": {
   "display_name": "PyCharm (bd4pp)",
   "language": "python",
   "name": "pycharm-3837c9a2"
  },
  "language_info": {
   "codemirror_mode": {
    "name": "ipython",
    "version": 3
   },
   "file_extension": ".py",
   "mimetype": "text/x-python",
   "name": "python",
   "nbconvert_exporter": "python",
   "pygments_lexer": "ipython3",
   "version": "3.7.6"
  },
  "toc": {
   "base_numbering": 1,
   "nav_menu": {},
   "number_sections": true,
   "sideBar": true,
   "skip_h1_title": false,
   "title_cell": "Table of Contents",
   "title_sidebar": "Contents",
   "toc_cell": false,
   "toc_position": {
    "height": "calc(100% - 180px)",
    "left": "10px",
    "top": "150px",
    "width": "165px"
   },
   "toc_section_display": true,
   "toc_window_display": true
  },
  "varInspector": {
   "cols": {
    "lenName": 16,
    "lenType": 16,
    "lenVar": 40
   },
   "kernels_config": {
    "python": {
     "delete_cmd_postfix": "",
     "delete_cmd_prefix": "del ",
     "library": "var_list.py",
     "varRefreshCmd": "print(var_dic_list())"
    },
    "r": {
     "delete_cmd_postfix": ") ",
     "delete_cmd_prefix": "rm(",
     "library": "var_list.r",
     "varRefreshCmd": "cat(var_dic_list()) "
    }
   },
   "types_to_exclude": [
    "module",
    "function",
    "builtin_function_or_method",
    "instance",
    "_Feature"
   ],
   "window_display": false
  }
 },
 "nbformat": 4,
 "nbformat_minor": 4
}