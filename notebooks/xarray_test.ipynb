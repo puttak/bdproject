{
 "cells": [
  {
   "cell_type": "markdown",
   "source": [
    "# Notebook goal\n",
    "See if xarray could be a good way of storing our data.\n",
    "The nice thing is that it can handle multidimensional arrays\n",
    "while retaining meta data information.\n",
    "\n",
    "# Notebook conclusions\n",
    "this looks pretty good. we can store both deaths and confirmed cases in the\n",
    "xr.Dataset structure. It's a labeled 3D array. In addition, we can add\n",
    "any metadata from the separate ancillary files we would like."
   ],
   "metadata": {
    "collapsed": false
   }
  },
  {
   "cell_type": "code",
   "execution_count": 1,
   "metadata": {
    "collapsed": true
   },
   "outputs": [],
   "source": [
    "import os\n",
    "import numpy as np\n",
    "import pandas as pd\n",
    "import xarray as xr\n",
    "from src.utils.paths import get_parent_dir\n",
    "from src.data.reader import read_csse2df"
   ]
  },
  {
   "cell_type": "code",
   "execution_count": 2,
   "outputs": [],
   "source": [
    "pdir = get_parent_dir(2)"
   ],
   "metadata": {
    "collapsed": false,
    "pycharm": {
     "name": "#%%\n"
    }
   }
  },
  {
   "cell_type": "markdown",
   "source": [
    "Read CSSE timeseries data"
   ],
   "metadata": {
    "collapsed": false
   }
  },
  {
   "cell_type": "code",
   "execution_count": 3,
   "outputs": [],
   "source": [
    "csse_dir = os.path.join(pdir, 'data', 'processed', 'csse', 'US')\n",
    "\n",
    "fname_confirmed = \"time_series_covid19_confirmed_US_timeseries.csv\"\n",
    "fname_deaths = \"time_series_covid19_deaths_US_timeseries.csv\"\n",
    "\n",
    "path_confirmed = os.path.join(csse_dir, fname_confirmed)\n",
    "path_deaths = os.path.join(csse_dir, fname_deaths)\n",
    "\n",
    "ts_confirmed = read_csse2df(path_confirmed)\n",
    "ts_deaths = read_csse2df(path_deaths)\n",
    "\n",
    "ts_confirmed.index.name = 'time'\n",
    "ts_deaths.index.name = 'time'"
   ],
   "metadata": {
    "collapsed": false,
    "pycharm": {
     "name": "#%%\n"
    }
   }
  },
  {
   "cell_type": "markdown",
   "source": [
    "cheap temporary solutions for renaming the problematic \"Unnamed: ...\" columns"
   ],
   "metadata": {
    "collapsed": false
   }
  },
  {
   "cell_type": "code",
   "execution_count": 4,
   "outputs": [],
   "source": [
    "# ts_confirmed\n",
    "search = np.array([\"Unnamed\" in x for x in ts_confirmed.columns.values])\n",
    "cols = ts_confirmed.columns[search].values\n",
    "\n",
    "coldict = {}\n",
    "for col in cols:\n",
    "    coldict[col] = [int(s) for s in col.split() if s.isdigit()][0]\n",
    "\n",
    "ts_confirmed = ts_confirmed.rename(columns=coldict)\n",
    "ts_confirmed.columns = pd.to_numeric(ts_confirmed.columns,\n",
    "                                     downcast='integer')\n",
    "\n",
    "# ts_deaths\n",
    "search = np.array([\"Unnamed\" in x for x in ts_deaths.columns.values])\n",
    "cols = ts_deaths.columns[search].values\n",
    "\n",
    "coldict = {}\n",
    "for col in cols:\n",
    "    coldict[col] = [int(s) for s in col.split() if s.isdigit()][0]\n",
    "\n",
    "ts_deaths = ts_deaths.rename(columns=coldict)\n",
    "ts_deaths.columns = pd.to_numeric(ts_deaths.columns,\n",
    "                                  downcast='integer')"
   ],
   "metadata": {
    "collapsed": false,
    "pycharm": {
     "name": "#%%\n"
    }
   }
  },
  {
   "cell_type": "code",
   "execution_count": 5,
   "outputs": [],
   "source": [
    "# diffs in cols or index?\n",
    "assert np.alltrue(ts_confirmed.columns == ts_deaths.columns)\n",
    "assert np.alltrue(ts_confirmed.index == ts_deaths.index)\n",
    "\n",
    "# create coord vars\n",
    "times = ts_confirmed.index.values\n",
    "locs = ts_confirmed.columns.values\n",
    "\n",
    "# create dims\n",
    "dims=['time', 'county']"
   ],
   "metadata": {
    "collapsed": false,
    "pycharm": {
     "name": "#%%\n"
    }
   }
  },
  {
   "cell_type": "markdown",
   "source": [
    "lets try a DataArray object"
   ],
   "metadata": {
    "collapsed": false,
    "pycharm": {
     "name": "#%% md\n"
    }
   }
  },
  {
   "cell_type": "code",
   "execution_count": 6,
   "outputs": [
    {
     "name": "stdout",
     "output_type": "stream",
     "text": [
      "<xarray.DataArray (time: 86, county: 3252)>\n",
      "array([[  0,   0,   0, ...,   0,   0,   0],\n",
      "       [  0,   0,   0, ...,   0,   0,   0],\n",
      "       [  0,   0,   0, ...,   0,   0,   0],\n",
      "       ...,\n",
      "       [  0, 133,   6, ...,   1,   0, 103],\n",
      "       [  0, 135,   6, ...,   1,   0, 103],\n",
      "       [  0, 135,   6, ...,   0,   0, 103]])\n",
      "Coordinates:\n",
      "  * time     (time) datetime64[ns] 2020-01-22 2020-01-23 ... 2020-04-16\n",
      "  * county   (county) int64 60 66 69 72 78 ... 90053 90054 90055 90056 99999\n"
     ]
    }
   ],
   "source": [
    "da = xr.DataArray(data=ts_confirmed.values,\n",
    "                  coords=[times, locs],\n",
    "                  dims=dims)\n",
    "print(da)"
   ],
   "metadata": {
    "collapsed": false,
    "pycharm": {
     "name": "#%%\n"
    }
   }
  },
  {
   "cell_type": "markdown",
   "source": [
    "lets try a Dataset object"
   ],
   "metadata": {
    "collapsed": false,
    "pycharm": {
     "name": "#%% md\n"
    }
   }
  },
  {
   "cell_type": "code",
   "execution_count": 8,
   "outputs": [
    {
     "name": "stdout",
     "output_type": "stream",
     "text": [
      "<xarray.Dataset>\n",
      "Dimensions:    (county: 3252, time: 86)\n",
      "Coordinates:\n",
      "  * time       (time) datetime64[ns] 2020-01-22 2020-01-23 ... 2020-04-16\n",
      "  * county     (county) int64 60 66 69 72 78 ... 90053 90054 90055 90056 99999\n",
      "Data variables:\n",
      "    confirmed  (time, county) int64 0 0 0 0 0 0 0 0 0 ... 0 0 15 0 272 0 0 0 103\n",
      "    deaths     (time, county) int64 0 0 0 0 0 0 0 0 0 0 ... 0 0 7 0 77 0 6 0 1 0\n"
     ]
    }
   ],
   "source": [
    "data_vars = {'confirmed': (dims, ts_confirmed.values),\n",
    "             'deaths': (dims, ts_deaths.values)}\n",
    "coords = {'time': times,\n",
    "          'county': locs}\n",
    "ds = xr.Dataset(data_vars=data_vars,\n",
    "                coords=coords)"
   ],
   "metadata": {
    "collapsed": false,
    "pycharm": {
     "name": "#%%\n"
    }
   }
  },
  {
   "cell_type": "code",
   "execution_count": 10,
   "outputs": [
    {
     "data": {
      "text/plain": "                   deaths\ntime       county        \n2020-01-22 60           0\n           66           0\n           69           0\n           72           0\n           78           0\n...                   ...\n2020-04-16 90053        0\n           90054        6\n           90055        0\n           90056        1\n           99999        0\n\n[279672 rows x 1 columns]",
      "text/html": "<div>\n<style scoped>\n    .dataframe tbody tr th:only-of-type {\n        vertical-align: middle;\n    }\n\n    .dataframe tbody tr th {\n        vertical-align: top;\n    }\n\n    .dataframe thead th {\n        text-align: right;\n    }\n</style>\n<table border=\"1\" class=\"dataframe\">\n  <thead>\n    <tr style=\"text-align: right;\">\n      <th></th>\n      <th></th>\n      <th>deaths</th>\n    </tr>\n    <tr>\n      <th>time</th>\n      <th>county</th>\n      <th></th>\n    </tr>\n  </thead>\n  <tbody>\n    <tr>\n      <th rowspan=\"5\" valign=\"top\">2020-01-22</th>\n      <th>60</th>\n      <td>0</td>\n    </tr>\n    <tr>\n      <th>66</th>\n      <td>0</td>\n    </tr>\n    <tr>\n      <th>69</th>\n      <td>0</td>\n    </tr>\n    <tr>\n      <th>72</th>\n      <td>0</td>\n    </tr>\n    <tr>\n      <th>78</th>\n      <td>0</td>\n    </tr>\n    <tr>\n      <th>...</th>\n      <th>...</th>\n      <td>...</td>\n    </tr>\n    <tr>\n      <th rowspan=\"5\" valign=\"top\">2020-04-16</th>\n      <th>90053</th>\n      <td>0</td>\n    </tr>\n    <tr>\n      <th>90054</th>\n      <td>6</td>\n    </tr>\n    <tr>\n      <th>90055</th>\n      <td>0</td>\n    </tr>\n    <tr>\n      <th>90056</th>\n      <td>1</td>\n    </tr>\n    <tr>\n      <th>99999</th>\n      <td>0</td>\n    </tr>\n  </tbody>\n</table>\n<p>279672 rows × 1 columns</p>\n</div>"
     },
     "execution_count": 10,
     "metadata": {},
     "output_type": "execute_result"
    }
   ],
   "source": [
    "ds.deaths.to_dataframe()"
   ],
   "metadata": {
    "collapsed": false,
    "pycharm": {
     "name": "#%%\n"
    }
   }
  }
 ],
 "metadata": {
  "kernelspec": {
   "name": "pycharm-3837c9a2",
   "language": "python",
   "display_name": "PyCharm (bd4pp)"
  },
  "language_info": {
   "codemirror_mode": {
    "name": "ipython",
    "version": 2
   },
   "file_extension": ".py",
   "mimetype": "text/x-python",
   "name": "python",
   "nbconvert_exporter": "python",
   "pygments_lexer": "ipython2",
   "version": "2.7.6"
  }
 },
 "nbformat": 4,
 "nbformat_minor": 0
}