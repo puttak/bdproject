{
 "cells": [
  {
   "cell_type": "code",
   "execution_count": 1,
   "metadata": {},
   "outputs": [],
   "source": [
    "import os\n",
    "import numpy as np\n",
    "import pandas as pd"
   ]
  },
  {
   "cell_type": "markdown",
   "metadata": {},
   "source": [
    "**This code calculates quantiles, mean and sd while resampling to a daily sampling. It should be applied once we have created the ordered, county-level tweet files.**\n",
    "\n",
    "A check a la std = 0 could be used to drop all columns that have zero variation over time. This is the case for several quantiles of the different sentiment scores."
   ]
  },
  {
   "cell_type": "code",
   "execution_count": 3,
   "metadata": {},
   "outputs": [
    {
     "name": "stdout",
     "output_type": "stream",
     "text": [
      "\n",
      "--------------- Resampling file 06019.pkl ---------------\n",
      "\n",
      "--------------- Resampling file 05077.pkl ---------------\n",
      "\n",
      "--------------- Resampling file 05117.pkl ---------------\n",
      "\n",
      "--------------- Resampling file 05107.pkl ---------------\n",
      "\n",
      "--------------- Resampling file 01003.pkl ---------------\n",
      "\n",
      "--------------- Resampling file 01001.pkl ---------------\n",
      "\n",
      "--------------- Resampling file 12033.pkl ---------------\n",
      "\n",
      "--------------- Resampling file 05001.pkl ---------------\n",
      "\n",
      "--------------- Resampling file 06041.pkl ---------------\n",
      "\n",
      "--------------- Resampling file 06055.pkl ---------------\n",
      "\n",
      "--------------- Resampling file 06095.pkl ---------------\n",
      "\n",
      "--------------- Resampling file 06081.pkl ---------------\n",
      "\n",
      "--------------- Resampling file 06075.pkl ---------------\n",
      "\n",
      "--------------- Resampling file 01097.pkl ---------------\n",
      "\n",
      "--------------- Resampling file 05147.pkl ---------------\n",
      "\n",
      "--------------- Resampling file 06077.pkl ---------------\n",
      "\n",
      "--------------- Resampling file 05095.pkl ---------------\n",
      "\n",
      "--------------- Resampling file 06013.pkl ---------------\n",
      "\n",
      "--------------- Resampling file 05123.pkl ---------------\n",
      "\n",
      "--------------- Resampling file 12113.pkl ---------------\n",
      "\n",
      "--------------- Resampling file 05085.pkl ---------------\n",
      "\n",
      "--------------- Resampling file 06001.pkl ---------------\n",
      "\n",
      "--------------- Resampling file 05119.pkl ---------------\n"
     ]
    }
   ],
   "source": [
    "in_dir = \"/Users/felix/Downloads/fips_sorted\"\n",
    "out_dir = \"/Users/felix/Downloads/processed_daily\"\n",
    "\n",
    "in_flist = os.listdir(in_dir)\n",
    "\n",
    "# here, on the very top we would have a loop over the raw files:\n",
    "for fname in in_flist:\n",
    "    print(\"\\n--------------- Resampling file {} ---------------\".format(fname))\n",
    "\n",
    "    # read file, auto-convert dtypes and set date time index\n",
    "    df = pd.read_pickle(os.path.join(in_dir, fname))\n",
    "\n",
    "    # copy\n",
    "    df_out = df.copy()\n",
    "\n",
    "    # iterate over the sentiment score columns\n",
    "    dfs_sentiments = []\n",
    "    sentiment_cols = ['polarity', 'subjectivity', 'positive', 'negative', 'neutral']\n",
    "\n",
    "    for col in sentiment_cols:\n",
    "        # quantiles\n",
    "        df_q = df_out[col].resample(\"D\").quantile(q=[0., 0.025, 0.25, 0.5, 0.75, 0.095, 1.])\n",
    "        df_q.index = df_q.index.set_names([\"date\", \"quantile\"])\n",
    "        df_q = df_q.unstack()\n",
    "        new_col = [\"{}_{}\".format(col, q) for q in df_q.columns]\n",
    "        df_q = df_q.rename(columns=dict(zip(df_q.columns, new_col)))\n",
    "\n",
    "        # mean and sd\n",
    "        df_q[\"{}_mean\".format(col)] = df_out[col].resample(\"D\").mean()\n",
    "        df_q[\"{}_sd\".format(col)] = df_out[col].resample(\"D\").std()\n",
    "\n",
    "        # sum of retweets\n",
    "        dfs_sentiments.append(df_q)\n",
    "\n",
    "    # concatenate\n",
    "    df_merged_daily = pd.concat(dfs_sentiments, axis=1)\n",
    "\n",
    "    # add the daily sum of retweets\n",
    "    df_merged_daily[\"retweets_total\".format(col)] = df_out[\"Retweets\"].resample(\"D\").sum()\n",
    "    \n",
    "    # store daily resampled data to pickle file\n",
    "    df_merged_daily.to_pickle(os.path.join(out_dir, fname))"
   ]
  }
 ],
 "metadata": {
  "kernelspec": {
   "display_name": "PyCharm (bd4pp)",
   "language": "python",
   "name": "pycharm-3837c9a2"
  },
  "language_info": {
   "codemirror_mode": {
    "name": "ipython",
    "version": 3
   },
   "file_extension": ".py",
   "mimetype": "text/x-python",
   "name": "python",
   "nbconvert_exporter": "python",
   "pygments_lexer": "ipython3",
   "version": "3.7.6"
  }
 },
 "nbformat": 4,
 "nbformat_minor": 4
}
