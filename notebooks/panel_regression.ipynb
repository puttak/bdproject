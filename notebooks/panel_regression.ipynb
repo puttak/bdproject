{
 "cells": [
  {
   "cell_type": "code",
   "execution_count": 1,
   "outputs": [],
   "source": [
    "import os\n",
    "import numpy as np\n",
    "import pandas as pd\n",
    "import addfips\n",
    "from src.utils.paths import get_parent_dir\n",
    "from linearmodels.panel import PooledOLS, PanelOLS\n",
    "import statsmodels.api as sm"
   ],
   "metadata": {
    "collapsed": false,
    "pycharm": {
     "name": "#%%\n",
     "is_executing": false
    }
   }
  },
  {
   "cell_type": "code",
   "execution_count": 2,
   "outputs": [],
   "source": [
    "pdir = get_parent_dir(2)"
   ],
   "metadata": {
    "collapsed": false,
    "pycharm": {
     "name": "#%%\n",
     "is_executing": false
    }
   }
  },
  {
   "cell_type": "markdown",
   "source": [
    "### 1) Prepare data"
   ],
   "metadata": {
    "collapsed": false
   }
  },
  {
   "cell_type": "code",
   "execution_count": 3,
   "outputs": [],
   "source": [
    "def read_csse(path):\n",
    "    df = pd.read_csv(path)\n",
    "    df = df.set_index(\"Unnamed: 0\")\n",
    "    df.index = pd.to_datetime(df.index)\n",
    "    return df\n",
    "\n",
    "def read_sahie(path, granularity='county'):\n",
    "    df = (pd.read_csv(path, header=68, sep=',')\n",
    "          .drop(columns=['Unnamed: 25', 'year', 'version',\n",
    "                          'statefips', 'countyfips', 'geocat'])  \n",
    "          .apply(lambda s : s.str.strip() if s.dtype is np.object else s)\n",
    "          .infer_objects()\n",
    "          )\n",
    "    # deal with whitespace\n",
    "    \n",
    "    # split data: county/state\n",
    "    if granularity == 'county':\n",
    "        df = df.query(\"county_name != ''\")\n",
    "    elif granularity == 'state':\n",
    "        df = df.query(\"county_name == ''\")\n",
    "    else: \n",
    "        return df\n",
    "    return df"
   ],
   "metadata": {
    "collapsed": false,
    "pycharm": {
     "name": "#%%\n",
     "is_executing": false
    }
   }
  },
  {
   "cell_type": "markdown",
   "source": [
    "Read health data"
   ],
   "metadata": {
    "collapsed": false
   }
  },
  {
   "cell_type": "code",
   "execution_count": 4,
   "outputs": [
    {
     "name": "stderr",
     "text": [
      "/Users/felix/miniconda3/envs/bd4pp/lib/python3.7/site-packages/IPython/core/interactiveshell.py:3254: DtypeWarning: Columns (9,10,11,12,13,14,15,16,17,18,19,20,21,22) have mixed types.Specify dtype option on import or set low_memory=False.\n",
      "  if (await self.run_code(code, result,  async_=asy)):\n"
     ],
     "output_type": "stream"
    }
   ],
   "source": [
    "data_dir = os.path.join(pdir, 'data')\n",
    "path_sahie_raw = os.path.join(data_dir, 'raw', 'health', 'SAHIE_2017.csv')\n",
    "sahie = read_sahie(path=path_sahie_raw, granularity='all')\n",
    "\n",
    "outfile = os.path.join(data_dir, 'processed', 'health',\n",
    "                          'SAHIE_2017_cleaned.csv')\n",
    "if not os.path.exists(outfile):\n",
    "    sahie.to_csv(outfile)"
   ],
   "metadata": {
    "collapsed": false,
    "pycharm": {
     "name": "#%% \n",
     "is_executing": false
    }
   }
  },
  {
   "cell_type": "code",
   "execution_count": 5,
   "outputs": [
    {
     "data": {
      "text/plain": "agecat          int64\nracecat         int64\nsexcat          int64\niprcat          int64\nNIPR           object\nnipr_moe       object\nNUI            object\nnui_moe        object\nNIC            object\nnic_moe        object\nPCTUI          object\npctui_moe      object\nPCTIC          object\npctic_moe      object\nPCTELIG        object\npctelig_moe    object\nPCTLIIC        object\npctliic_moe    object\nstate_name     object\ncounty_name    object\ndtype: object"
     },
     "metadata": {},
     "output_type": "execute_result",
     "execution_count": 5
    }
   ],
   "source": [
    "sahie.dtypes"
   ],
   "metadata": {
    "collapsed": false,
    "pycharm": {
     "name": "#%%\n",
     "is_executing": false
    }
   }
  },
  {
   "cell_type": "code",
   "execution_count": 6,
   "outputs": [],
   "source": [
    "string_cols = ['county_name', 'state_name']\n",
    "sahie[string_cols] = sahie[string_cols].convert_dtypes()"
   ],
   "metadata": {
    "collapsed": false,
    "pycharm": {
     "name": "#%%\n",
     "is_executing": false
    }
   }
  },
  {
   "cell_type": "code",
   "execution_count": 7,
   "outputs": [
    {
     "name": "stdout",
     "text": [
      "<class 'pandas.core.frame.DataFrame'>\n",
      "RangeIndex: 320298 entries, 0 to 320297\n",
      "Data columns (total 20 columns):\n",
      " #   Column       Non-Null Count   Dtype  \n",
      "---  ------       --------------   -----  \n",
      " 0   agecat       320298 non-null  int64  \n",
      " 1   racecat      320298 non-null  int64  \n",
      " 2   sexcat       320298 non-null  int64  \n",
      " 3   iprcat       320298 non-null  int64  \n",
      " 4   NIPR         287530 non-null  float64\n",
      " 5   nipr_moe     287530 non-null  float64\n",
      " 6   NUI          287530 non-null  float64\n",
      " 7   nui_moe      287530 non-null  float64\n",
      " 8   NIC          287530 non-null  float64\n",
      " 9   nic_moe      287530 non-null  float64\n",
      " 10  PCTUI        287530 non-null  float64\n",
      " 11  pctui_moe    287530 non-null  float64\n",
      " 12  PCTIC        287530 non-null  float64\n",
      " 13  pctic_moe    287530 non-null  float64\n",
      " 14  PCTELIG      287530 non-null  float64\n",
      " 15  pctelig_moe  287530 non-null  float64\n",
      " 16  PCTLIIC      287530 non-null  float64\n",
      " 17  pctliic_moe  287530 non-null  float64\n",
      " 18  state_name   320298 non-null  string \n",
      " 19  county_name  320298 non-null  string \n",
      "dtypes: float64(14), int64(4), string(2)\n",
      "memory usage: 48.9 MB\n"
     ],
     "output_type": "stream"
    }
   ],
   "source": [
    "numeric_cols = ['NIPR', 'nipr_moe', 'NUI',\n",
    "'nui_moe', 'NIC', 'nic_moe', 'PCTUI', 'pctui_moe', 'PCTIC', 'pctic_moe',\n",
    "'PCTELIG', 'pctelig_moe', 'PCTLIIC', 'pctliic_moe']\n",
    "\n",
    "for col in numeric_cols:\n",
    "    sahie[col] = sahie[col].replace('.', np.nan, regex=True)\n",
    "    sahie[col] = pd.to_numeric(sahie[col], downcast='signed')\n",
    "sahie.info()"
   ],
   "metadata": {
    "collapsed": false,
    "pycharm": {
     "name": "#%%\n",
     "is_executing": false
    }
   }
  },
  {
   "cell_type": "code",
   "execution_count": 8,
   "outputs": [],
   "source": [
    "sahie[['county_name', 'state_name']] = sahie[['county_name', 'state_name']].apply(lambda s : s.str.strip())"
   ],
   "metadata": {
    "collapsed": false,
    "pycharm": {
     "name": "#%%\n",
     "is_executing": false
    }
   }
  },
  {
   "cell_type": "code",
   "execution_count": 9,
   "outputs": [],
   "source": [
    "cols = sahie.columns.to_list()\n",
    "cols = cols[-2:] + cols[:-2]\n",
    "sahie = sahie[cols]"
   ],
   "metadata": {
    "collapsed": false,
    "pycharm": {
     "name": "#%%\n",
     "is_executing": false
    }
   }
  },
  {
   "cell_type": "code",
   "execution_count": 9,
   "outputs": [],
   "source": [],
   "metadata": {
    "collapsed": false,
    "pycharm": {
     "name": "#%%\n",
     "is_executing": false
    }
   }
  },
  {
   "cell_type": "code",
   "execution_count": 10,
   "outputs": [],
   "source": [
    "# query for county data only\n",
    "sahie_county_data_only = sahie.query(\"county_name != ''\")\n",
    "sahie_county_data_only.reset_index(drop=True, inplace=True)"
   ],
   "metadata": {
    "collapsed": false,
    "pycharm": {
     "name": "#%%\n",
     "is_executing": false
    }
   }
  },
  {
   "cell_type": "code",
   "execution_count": 11,
   "outputs": [
    {
     "name": "stdout",
     "text": [
      "<class 'pandas.core.frame.DataFrame'>\n",
      "RangeIndex: 301632 entries, 0 to 301631\n",
      "Data columns (total 20 columns):\n",
      " #   Column       Non-Null Count   Dtype  \n",
      "---  ------       --------------   -----  \n",
      " 0   state_name   301632 non-null  string \n",
      " 1   county_name  301632 non-null  string \n",
      " 2   agecat       301632 non-null  int64  \n",
      " 3   racecat      301632 non-null  int64  \n",
      " 4   sexcat       301632 non-null  int64  \n",
      " 5   iprcat       301632 non-null  int64  \n",
      " 6   NIPR         271426 non-null  float64\n",
      " 7   nipr_moe     271426 non-null  float64\n",
      " 8   NUI          271426 non-null  float64\n",
      " 9   nui_moe      271426 non-null  float64\n",
      " 10  NIC          271426 non-null  float64\n",
      " 11  nic_moe      271426 non-null  float64\n",
      " 12  PCTUI        271426 non-null  float64\n",
      " 13  pctui_moe    271426 non-null  float64\n",
      " 14  PCTIC        271426 non-null  float64\n",
      " 15  pctic_moe    271426 non-null  float64\n",
      " 16  PCTELIG      271426 non-null  float64\n",
      " 17  pctelig_moe  271426 non-null  float64\n",
      " 18  PCTLIIC      271426 non-null  float64\n",
      " 19  pctliic_moe  271426 non-null  float64\n",
      "dtypes: float64(14), int64(4), string(2)\n",
      "memory usage: 46.0 MB\n"
     ],
     "output_type": "stream"
    }
   ],
   "source": [
    "sahie_county_data_only.info()"
   ],
   "metadata": {
    "collapsed": false,
    "pycharm": {
     "name": "#%%\n",
     "is_executing": false
    }
   }
  },
  {
   "cell_type": "code",
   "execution_count": 12,
   "outputs": [],
   "source": [
    "sahie_cleaned = pd.get_dummies(\n",
    "    sahie_county_data_only,\n",
    "    columns=['sexcat', 'iprcat', 'agecat', 'racecat'],\n",
    "    drop_first=True) # only store n-1 dummies to avoid \"dummy variable trap\""
   ],
   "metadata": {
    "collapsed": false,
    "pycharm": {
     "name": "#%%\n",
     "is_executing": false
    }
   }
  },
  {
   "cell_type": "code",
   "execution_count": 13,
   "outputs": [],
   "source": [
    "sahie_cleaned = sahie_cleaned.groupby(['county_name'], as_index=False).first()\n",
    "sahie_cleaned.rename(columns={'county_name': 'county',\n",
    "                              'state_name': 'state'},\n",
    "                     inplace=True)\n"
   ],
   "metadata": {
    "collapsed": false,
    "pycharm": {
     "name": "#%%\n",
     "is_executing": false
    }
   }
  },
  {
   "cell_type": "code",
   "execution_count": 14,
   "outputs": [],
   "source": [
    "# add fips\n",
    "af = addfips.AddFIPS()\n",
    "\n",
    "sahie_county_fips_codes = []\n",
    "for i, row in sahie_cleaned.iterrows():\n",
    "    county_fips_code = af.get_county_fips(county=row.county, state=row.state)\n",
    "    sahie_county_fips_codes.append(county_fips_code)\n",
    "\n",
    "sahie_cleaned['FIPS'] = sahie_county_fips_codes\n",
    "\n",
    "# --> TODO: fix None rows !"
   ],
   "metadata": {
    "collapsed": false,
    "pycharm": {
     "name": "#%%\n",
     "is_executing": false
    }
   }
  },
  {
   "cell_type": "code",
   "execution_count": 15,
   "outputs": [],
   "source": [
    "#sahie_cleaned[sahie_cleaned['county'] == \"Anchorage Borough\"]['FIPS'] = '02020'\n",
    "#print(sahie_cleaned['FIPS'].head(40))"
   ],
   "metadata": {
    "collapsed": false,
    "pycharm": {
     "name": "#%%\n",
     "is_executing": false
    }
   }
  },
  {
   "cell_type": "code",
   "execution_count": 16,
   "outputs": [],
   "source": [
    "# drop Anchorage Borough with missing FIPS, deal with that later"
   ],
   "metadata": {
    "collapsed": false,
    "pycharm": {
     "name": "#%%\n",
     "is_executing": false
    }
   }
  },
  {
   "cell_type": "code",
   "execution_count": 16,
   "outputs": [],
   "source": [],
   "metadata": {
    "collapsed": false,
    "pycharm": {
     "name": "#%%\n",
     "is_executing": false
    }
   }
  },
  {
   "cell_type": "code",
   "execution_count": 17,
   "outputs": [],
   "source": [
    "csse_dir = os.path.join(pdir, 'data', 'processed', 'csse', 'US')\n",
    "\n",
    "fname_confirmed = \"time_series_covid19_confirmed_US_timeseries.csv\" \n",
    "fname_deaths = \"time_series_covid19_deaths_US_timeseries.csv\"\n",
    "\n",
    "path_confirmed = os.path.join(csse_dir, fname_confirmed)\n",
    "path_deaths = os.path.join(csse_dir, fname_deaths)"
   ],
   "metadata": {
    "collapsed": false,
    "pycharm": {
     "name": "#%%\n",
     "is_executing": false
    }
   }
  },
  {
   "cell_type": "code",
   "execution_count": 18,
   "outputs": [],
   "source": [
    "ts_confirmed = read_csse(path_confirmed)\n",
    "ts_deaths = read_csse(path_deaths)\n",
    "\n",
    "ts_confirmed.index.name = 'time'\n",
    "ts_deaths.index.name = 'time'"
   ],
   "metadata": {
    "collapsed": false,
    "pycharm": {
     "name": "#%%\n",
     "is_executing": false
    }
   }
  },
  {
   "cell_type": "code",
   "execution_count": 19,
   "outputs": [
    {
     "name": "stdout",
     "text": [
      "        state  pop2019_state FIPS_state\n",
      "0     Alabama        4903185         01\n",
      "1      Alaska         731545         02\n",
      "2     Arizona        7278717         04\n",
      "3    Arkansas        3017804         05\n",
      "4  California       39512223         06\n",
      "     state          county  pop2019_county   FIPS\n",
      "1  Alabama  Autauga County           55869  01001\n",
      "2  Alabama  Baldwin County          223234  01003\n",
      "3  Alabama  Barbour County           24686  01005\n",
      "4  Alabama     Bibb County           22394  01007\n",
      "5  Alabama   Blount County           57826  01009\n"
     ],
     "output_type": "stream"
    }
   ],
   "source": [
    "demographic_dir = os.path.join(pdir, 'data', 'raw', 'demography')\n",
    "popdata = pd.read_csv(os.path.join(demographic_dir, \n",
    "                                   \"POPEST_2019.csv\"),\n",
    "                      encoding = \"ISO-8859-1\")\n",
    "\n",
    "# POPESTIMATE2019: 7/1/2019 resident total population estimate\n",
    "df_pop = popdata[['STNAME', 'CTYNAME', 'POPESTIMATE2019']]\n",
    "df_pop_counties = df_pop.query(\"STNAME != CTYNAME\")\n",
    "df_pop_counties = df_pop_counties.rename(columns={'STNAME': 'state',\n",
    "                                                  'CTYNAME': 'county',\n",
    "                                                  'POPESTIMATE2019': 'pop2019_county'})\n",
    "\n",
    "df_pop_states = df_pop.query(\"STNAME == CTYNAME\")\n",
    "df_pop_states = df_pop_states.reset_index(drop=True)\n",
    "df_pop_states = df_pop_states.rename(columns={'STNAME': 'state',\n",
    "                                              'CTYNAME': 'county',\n",
    "                                              'POPESTIMATE2019': 'pop2019_state'})\n",
    "df_pop_states.drop(columns='county', inplace=True)\n",
    "\n",
    "af = addfips.AddFIPS()\n",
    "\n",
    "county_fips_codes = []\n",
    "for i, row in df_pop_counties.iterrows():\n",
    "    county_fips_code = af.get_county_fips(county=row.county, state=row.state)\n",
    "    county_fips_codes.append(county_fips_code)\n",
    "    \n",
    "state_fips_codes = []\n",
    "for i, row in df_pop_states.iterrows():\n",
    "    state_fips_code = af.get_state_fips(state=row.state)\n",
    "    state_fips_codes.append(state_fips_code)\n",
    "    \n",
    "df_pop_counties['FIPS'] = county_fips_codes\n",
    "df_pop_states['FIPS_state'] = state_fips_codes\n",
    "print(df_pop_states.head())\n",
    "print(df_pop_counties.head())"
   ],
   "metadata": {
    "collapsed": false,
    "pycharm": {
     "name": "#%%\n",
     "is_executing": false
    }
   }
  },
  {
   "cell_type": "code",
   "execution_count": 20,
   "outputs": [],
   "source": [
    "ts_confirmedT = ts_confirmed.transpose()\n",
    "ts_confirmedT.index.name = \"FIPS\"\n",
    "tsconfm = ts_confirmedT.stack()"
   ],
   "metadata": {
    "collapsed": false,
    "pycharm": {
     "name": "#%%\n",
     "is_executing": false
    }
   }
  },
  {
   "cell_type": "code",
   "execution_count": 21,
   "outputs": [],
   "source": [
    "tsconfm.name = \"confirmed_cases\" \n",
    "tsconfm = tsconfm.reset_index()"
   ],
   "metadata": {
    "collapsed": false,
    "pycharm": {
     "name": "#%%\n",
     "is_executing": false
    }
   }
  },
  {
   "cell_type": "markdown",
   "source": [
    "### 2) Merge independent and dependent variables "
   ],
   "metadata": {
    "collapsed": false
   }
  },
  {
   "cell_type": "code",
   "execution_count": 22,
   "outputs": [],
   "source": [
    "df_merged = pd.merge(left=tsconfm.reset_index(),\n",
    "                     right=df_pop_counties,\n",
    "                     on='FIPS')\n",
    "df_merged = pd.merge(left=df_merged,\n",
    "                     right=df_pop_states,\n",
    "                     on='state')\n",
    "df_merged.drop(columns='index', inplace=True)"
   ],
   "metadata": {
    "collapsed": false,
    "pycharm": {
     "name": "#%%\n",
     "is_executing": false
    }
   }
  },
  {
   "cell_type": "code",
   "execution_count": 23,
   "outputs": [],
   "source": [
    "# merge sahie\n",
    "df_merged = pd.merge(left=df_merged,\n",
    "                     right=sahie_cleaned,\n",
    "                     on='FIPS')"
   ],
   "metadata": {
    "collapsed": false,
    "pycharm": {
     "name": "#%%\n",
     "is_executing": false
    }
   }
  },
  {
   "cell_type": "markdown",
   "source": [
    "### 3) Construct panel using pandas Multi-index "
   ],
   "metadata": {
    "collapsed": false
   }
  },
  {
   "cell_type": "code",
   "execution_count": 24,
   "outputs": [],
   "source": [
    "# fips => entity FE, time => time FE\n",
    "panel = df_merged.set_index(['FIPS', 'time'])"
   ],
   "metadata": {
    "collapsed": false,
    "pycharm": {
     "name": "#%%\n",
     "is_executing": false
    }
   }
  },
  {
   "cell_type": "code",
   "execution_count": 25,
   "outputs": [],
   "source": [
    "# county pop share with respect to state pop\n",
    "# TODO: meaningful? \n",
    "panel['county_pop_share_2019'] = \\\n",
    "    panel['pop2019_county'].divide(panel['pop2019_state'])"
   ],
   "metadata": {
    "collapsed": false,
    "pycharm": {
     "name": "#%%\n",
     "is_executing": false
    }
   }
  },
  {
   "cell_type": "code",
   "execution_count": 26,
   "outputs": [
    {
     "data": {
      "text/plain": "                  confirmed_cases   state_x     county_x  pop2019_county  \\\nFIPS  time                                                                 \n10001 2020-01-22                0  Delaware  Kent County          180786   \n      2020-01-23                0  Delaware  Kent County          180786   \n      2020-01-24                0  Delaware  Kent County          180786   \n      2020-01-25                0  Delaware  Kent County          180786   \n      2020-01-26                0  Delaware  Kent County          180786   \n\n                  pop2019_state FIPS_state     county_y   state_y     NIPR  \\\nFIPS  time                                                                   \n10001 2020-01-22         973764         10  Kent County  Delaware  13131.0   \n      2020-01-23         973764         10  Kent County  Delaware  13131.0   \n      2020-01-24         973764         10  Kent County  Delaware  13131.0   \n      2020-01-25         973764         10  Kent County  Delaware  13131.0   \n      2020-01-26         973764         10  Kent County  Delaware  13131.0   \n\n                  nipr_moe  ...  iprcat_2  iprcat_3  iprcat_4  iprcat_5  \\\nFIPS  time                  ...                                           \n10001 2020-01-22       0.0  ...         0         0         0         0   \n      2020-01-23       0.0  ...         0         0         0         0   \n      2020-01-24       0.0  ...         0         0         0         0   \n      2020-01-25       0.0  ...         0         0         0         0   \n      2020-01-26       0.0  ...         0         0         0         0   \n\n                  agecat_1  agecat_2  agecat_3  agecat_4  agecat_5  \\\nFIPS  time                                                           \n10001 2020-01-22         0         0         0         0         0   \n      2020-01-23         0         0         0         0         0   \n      2020-01-24         0         0         0         0         0   \n      2020-01-25         0         0         0         0         0   \n      2020-01-26         0         0         0         0         0   \n\n                  county_pop_share_2019  \nFIPS  time                               \n10001 2020-01-22               0.185657  \n      2020-01-23               0.185657  \n      2020-01-24               0.185657  \n      2020-01-25               0.185657  \n      2020-01-26               0.185657  \n\n[5 rows x 35 columns]",
      "text/html": "<div>\n<style scoped>\n    .dataframe tbody tr th:only-of-type {\n        vertical-align: middle;\n    }\n\n    .dataframe tbody tr th {\n        vertical-align: top;\n    }\n\n    .dataframe thead th {\n        text-align: right;\n    }\n</style>\n<table border=\"1\" class=\"dataframe\">\n  <thead>\n    <tr style=\"text-align: right;\">\n      <th></th>\n      <th></th>\n      <th>confirmed_cases</th>\n      <th>state_x</th>\n      <th>county_x</th>\n      <th>pop2019_county</th>\n      <th>pop2019_state</th>\n      <th>FIPS_state</th>\n      <th>county_y</th>\n      <th>state_y</th>\n      <th>NIPR</th>\n      <th>nipr_moe</th>\n      <th>...</th>\n      <th>iprcat_2</th>\n      <th>iprcat_3</th>\n      <th>iprcat_4</th>\n      <th>iprcat_5</th>\n      <th>agecat_1</th>\n      <th>agecat_2</th>\n      <th>agecat_3</th>\n      <th>agecat_4</th>\n      <th>agecat_5</th>\n      <th>county_pop_share_2019</th>\n    </tr>\n    <tr>\n      <th>FIPS</th>\n      <th>time</th>\n      <th></th>\n      <th></th>\n      <th></th>\n      <th></th>\n      <th></th>\n      <th></th>\n      <th></th>\n      <th></th>\n      <th></th>\n      <th></th>\n      <th></th>\n      <th></th>\n      <th></th>\n      <th></th>\n      <th></th>\n      <th></th>\n      <th></th>\n      <th></th>\n      <th></th>\n      <th></th>\n      <th></th>\n    </tr>\n  </thead>\n  <tbody>\n    <tr>\n      <th rowspan=\"5\" valign=\"top\">10001</th>\n      <th>2020-01-22</th>\n      <td>0</td>\n      <td>Delaware</td>\n      <td>Kent County</td>\n      <td>180786</td>\n      <td>973764</td>\n      <td>10</td>\n      <td>Kent County</td>\n      <td>Delaware</td>\n      <td>13131.0</td>\n      <td>0.0</td>\n      <td>...</td>\n      <td>0</td>\n      <td>0</td>\n      <td>0</td>\n      <td>0</td>\n      <td>0</td>\n      <td>0</td>\n      <td>0</td>\n      <td>0</td>\n      <td>0</td>\n      <td>0.185657</td>\n    </tr>\n    <tr>\n      <th>2020-01-23</th>\n      <td>0</td>\n      <td>Delaware</td>\n      <td>Kent County</td>\n      <td>180786</td>\n      <td>973764</td>\n      <td>10</td>\n      <td>Kent County</td>\n      <td>Delaware</td>\n      <td>13131.0</td>\n      <td>0.0</td>\n      <td>...</td>\n      <td>0</td>\n      <td>0</td>\n      <td>0</td>\n      <td>0</td>\n      <td>0</td>\n      <td>0</td>\n      <td>0</td>\n      <td>0</td>\n      <td>0</td>\n      <td>0.185657</td>\n    </tr>\n    <tr>\n      <th>2020-01-24</th>\n      <td>0</td>\n      <td>Delaware</td>\n      <td>Kent County</td>\n      <td>180786</td>\n      <td>973764</td>\n      <td>10</td>\n      <td>Kent County</td>\n      <td>Delaware</td>\n      <td>13131.0</td>\n      <td>0.0</td>\n      <td>...</td>\n      <td>0</td>\n      <td>0</td>\n      <td>0</td>\n      <td>0</td>\n      <td>0</td>\n      <td>0</td>\n      <td>0</td>\n      <td>0</td>\n      <td>0</td>\n      <td>0.185657</td>\n    </tr>\n    <tr>\n      <th>2020-01-25</th>\n      <td>0</td>\n      <td>Delaware</td>\n      <td>Kent County</td>\n      <td>180786</td>\n      <td>973764</td>\n      <td>10</td>\n      <td>Kent County</td>\n      <td>Delaware</td>\n      <td>13131.0</td>\n      <td>0.0</td>\n      <td>...</td>\n      <td>0</td>\n      <td>0</td>\n      <td>0</td>\n      <td>0</td>\n      <td>0</td>\n      <td>0</td>\n      <td>0</td>\n      <td>0</td>\n      <td>0</td>\n      <td>0.185657</td>\n    </tr>\n    <tr>\n      <th>2020-01-26</th>\n      <td>0</td>\n      <td>Delaware</td>\n      <td>Kent County</td>\n      <td>180786</td>\n      <td>973764</td>\n      <td>10</td>\n      <td>Kent County</td>\n      <td>Delaware</td>\n      <td>13131.0</td>\n      <td>0.0</td>\n      <td>...</td>\n      <td>0</td>\n      <td>0</td>\n      <td>0</td>\n      <td>0</td>\n      <td>0</td>\n      <td>0</td>\n      <td>0</td>\n      <td>0</td>\n      <td>0</td>\n      <td>0.185657</td>\n    </tr>\n  </tbody>\n</table>\n<p>5 rows × 35 columns</p>\n</div>"
     },
     "metadata": {},
     "output_type": "execute_result",
     "execution_count": 26
    }
   ],
   "source": [
    "panel.head()"
   ],
   "metadata": {
    "collapsed": false,
    "pycharm": {
     "name": "#%%\n",
     "is_executing": false
    }
   }
  },
  {
   "cell_type": "code",
   "execution_count": 27,
   "outputs": [],
   "source": [
    "# select vars\n",
    "panel_subset = panel[\n",
    "    ['confirmed_cases', 'pop2019_county', 'county_pop_share_2019', 'NIPR', \n",
    "     'nipr_moe', 'NUI', 'nui_moe', 'NIC', 'nic_moe', 'PCTUI', 'pctui_moe',\n",
    "     'PCTIC', 'pctic_moe', 'PCTELIG', 'pctelig_moe', 'PCTLIIC',\n",
    "     'pctliic_moe', 'sexcat_1', 'sexcat_2',\n",
    "     'iprcat_1', 'iprcat_2', 'iprcat_3', 'iprcat_4', 'iprcat_5',\n",
    "     'agecat_1', 'agecat_2', 'agecat_3', 'agecat_4', 'agecat_5']]"
   ],
   "metadata": {
    "collapsed": false,
    "pycharm": {
     "name": "#%%\n",
     "is_executing": false
    }
   }
  },
  {
   "cell_type": "markdown",
   "source": [
    "### 4) Run pooled and panel regression \n",
    "entity fixed effects don't work. this makes sense as the population\n",
    "shares per county add up to 100% per county.\n",
    "time fixed effects on the other hand yield the same results as \n",
    "the simple pooled regression above, which makes sense because there\n",
    "is no variation over time in our current data. looking good!"
   ],
   "metadata": {
    "collapsed": false
   }
  },
  {
   "cell_type": "markdown",
   "source": [
    "A) Merged with SAHIE data (significantly less data!)"
   ],
   "metadata": {
    "collapsed": false
   }
  },
  {
   "cell_type": "code",
   "execution_count": 39,
   "outputs": [
    {
     "name": "stderr",
     "text": [
      "/Users/felix/miniconda3/envs/bd4pp/lib/python3.7/site-packages/linearmodels/utility.py:549: MissingValueWarning: \n",
      "Inputs contain missing values. Dropping rows with missing observations.\n",
      "  warnings.warn(missing_value_warning_msg, MissingValueWarning)\n"
     ],
     "output_type": "stream"
    },
    {
     "name": "stdout",
     "text": [
      "                          PooledOLS Estimation Summary                          \n",
      "================================================================================\n",
      "Dep. Variable:        confirmed_cases   R-squared:                        0.0160\n",
      "Estimator:                  PooledOLS   R-squared (Between):              0.0913\n",
      "No. Observations:              110200   R-squared (Within):               0.0000\n",
      "Date:                Tue, Apr 07 2020   R-squared (Overall):              0.0160\n",
      "Time:                        15:12:20   Log-likelihood                 -8.48e+05\n",
      "Cov. Estimator:            Unadjusted                                           \n",
      "                                        F-statistic:                      897.10\n",
      "Entities:                        1450   P-value                           0.0000\n",
      "Avg Obs:                       76.000   Distribution:                F(2,110197)\n",
      "Min Obs:                       76.000                                           \n",
      "Max Obs:                       76.000   F-statistic (robust):             897.10\n",
      "                                        P-value                           0.0000\n",
      "Time periods:                      76   Distribution:                F(2,110197)\n",
      "Avg Obs:                       1450.0                                           \n",
      "Min Obs:                       1450.0                                           \n",
      "Max Obs:                       1450.0                                           \n",
      "                                                                                \n",
      "                               Parameter Estimates                                \n",
      "==================================================================================\n",
      "                Parameter  Std. Err.     T-stat    P-value    Lower CI    Upper CI\n",
      "----------------------------------------------------------------------------------\n",
      "const             -15.101     1.7475    -8.6415     0.0000     -18.526     -11.676\n",
      "pop2019_county     0.0004  9.418e-06     39.623     0.0000      0.0004      0.0004\n",
      "NUI               -0.0005  6.305e-05    -8.1024     0.0000     -0.0006     -0.0004\n",
      "==================================================================================\n",
      "                          PanelOLS Estimation Summary                           \n",
      "================================================================================\n",
      "Dep. Variable:        confirmed_cases   R-squared:                        0.0161\n",
      "Estimator:                   PanelOLS   R-squared (Between):              0.0913\n",
      "No. Observations:              110200   R-squared (Within):               0.0000\n",
      "Date:                Tue, Apr 07 2020   R-squared (Overall):              0.0160\n",
      "Time:                        15:12:21   Log-likelihood                -8.478e+05\n",
      "Cov. Estimator:            Unadjusted                                           \n",
      "                                        F-statistic:                      899.53\n",
      "Entities:                        1450   P-value                           0.0000\n",
      "Avg Obs:                       76.000   Distribution:                F(2,110122)\n",
      "Min Obs:                       76.000                                           \n",
      "Max Obs:                       76.000   F-statistic (robust):             899.53\n",
      "                                        P-value                           0.0000\n",
      "Time periods:                      76   Distribution:                F(2,110122)\n",
      "Avg Obs:                       1450.0                                           \n",
      "Min Obs:                       1450.0                                           \n",
      "Max Obs:                       1450.0                                           \n",
      "                                                                                \n",
      "                               Parameter Estimates                                \n",
      "==================================================================================\n",
      "                Parameter  Std. Err.     T-stat    P-value    Lower CI    Upper CI\n",
      "----------------------------------------------------------------------------------\n",
      "const             -15.101     1.7452    -8.6532     0.0000     -18.522     -11.681\n",
      "pop2019_county     0.0004  9.405e-06     39.676     0.0000      0.0004      0.0004\n",
      "NUI               -0.0005  6.297e-05    -8.1133     0.0000     -0.0006     -0.0004\n",
      "==================================================================================\n",
      "\n",
      "F-test for Poolability: 4.9728\n",
      "P-value: 0.0000\n",
      "Distribution: F(75,110122)\n",
      "\n",
      "Included effects: Time\n"
     ],
     "output_type": "stream"
    }
   ],
   "source": [
    "exog_vars = \\\n",
    "    ['pop2019_county', # County population\n",
    "     #'NIPR', # Number in demographic group for <income category>\n",
    "     'NUI' # Number uninsured\n",
    "     #'PCTELIG'\n",
    "     ] # Percent uninsured in demographic group for all income levels\n",
    "\n",
    "exog = sm.add_constant(panel_subset[exog_vars])\n",
    "\n",
    "# pooled regression\n",
    "mod_pooled = PooledOLS(dependent=panel_subset.confirmed_cases, \n",
    "                       exog=exog)\n",
    "pooled_res = mod_pooled.fit()\n",
    "print(pooled_res)\n",
    "\n",
    "# panel regression\n",
    "mod_panel_entity = PanelOLS(dependent=panel_subset.confirmed_cases, \n",
    "                            exog=exog,\n",
    "                            time_effects=True)\n",
    "panel_entity_res = mod_panel_entity.fit()\n",
    "print(panel_entity_res)"
   ],
   "metadata": {
    "collapsed": false,
    "pycharm": {
     "name": "#%%\n",
     "is_executing": false
    }
   }
  },
  {
   "cell_type": "markdown",
   "source": [
    "B) Population data only"
   ],
   "metadata": {
    "collapsed": false
   }
  },
  {
   "cell_type": "code",
   "execution_count": 40,
   "outputs": [
    {
     "name": "stdout",
     "text": [
      "                          PooledOLS Estimation Summary                          \n",
      "================================================================================\n",
      "Dep. Variable:        confirmed_cases   R-squared:                        0.0148\n",
      "Estimator:                  PooledOLS   R-squared (Between):              0.0846\n",
      "No. Observations:              120308   R-squared (Within):               0.0000\n",
      "Date:                Tue, Apr 07 2020   R-squared (Overall):              0.0148\n",
      "Time:                        15:12:34   Log-likelihood                -9.208e+05\n",
      "Cov. Estimator:            Unadjusted                                           \n",
      "                                        F-statistic:                      905.56\n",
      "Entities:                        1583   P-value                           0.0000\n",
      "Avg Obs:                       76.000   Distribution:                F(2,120305)\n",
      "Min Obs:                       76.000                                           \n",
      "Max Obs:                       76.000   F-statistic (robust):             905.56\n",
      "                                        P-value                           0.0000\n",
      "Time periods:                      76   Distribution:                F(2,120305)\n",
      "Avg Obs:                       1583.0                                           \n",
      "Min Obs:                       1583.0                                           \n",
      "Max Obs:                       1583.0                                           \n",
      "                                                                                \n",
      "                                   Parameter Estimates                                   \n",
      "=========================================================================================\n",
      "                       Parameter  Std. Err.     T-stat    P-value    Lower CI    Upper CI\n",
      "-----------------------------------------------------------------------------------------\n",
      "const                    -9.6304     1.6212    -5.9401     0.0000     -12.808     -6.4527\n",
      "pop2019_county            0.0003  8.025e-06     40.190     0.0000      0.0003      0.0003\n",
      "county_pop_share_2019    -436.73     42.757    -10.214     0.0000     -520.53     -352.92\n",
      "=========================================================================================\n",
      "                          PanelOLS Estimation Summary                           \n",
      "================================================================================\n",
      "Dep. Variable:        confirmed_cases   R-squared:                        0.0149\n",
      "Estimator:                   PanelOLS   R-squared (Between):              0.0846\n",
      "No. Observations:              120308   R-squared (Within):               0.0000\n",
      "Date:                Tue, Apr 07 2020   R-squared (Overall):              0.0148\n",
      "Time:                        15:12:34   Log-likelihood                -9.206e+05\n",
      "Cov. Estimator:            Unadjusted                                           \n",
      "                                        F-statistic:                      908.22\n",
      "Entities:                        1583   P-value                           0.0000\n",
      "Avg Obs:                       76.000   Distribution:                F(2,120230)\n",
      "Min Obs:                       76.000                                           \n",
      "Max Obs:                       76.000   F-statistic (robust):             908.22\n",
      "                                        P-value                           0.0000\n",
      "Time periods:                      76   Distribution:                F(2,120230)\n",
      "Avg Obs:                       1583.0                                           \n",
      "Min Obs:                       1583.0                                           \n",
      "Max Obs:                       1583.0                                           \n",
      "                                                                                \n",
      "                                   Parameter Estimates                                   \n",
      "=========================================================================================\n",
      "                       Parameter  Std. Err.     T-stat    P-value    Lower CI    Upper CI\n",
      "-----------------------------------------------------------------------------------------\n",
      "const                    -9.6304     1.6189    -5.9488     0.0000     -12.803     -6.4574\n",
      "pop2019_county            0.0003  8.013e-06     40.249     0.0000      0.0003      0.0003\n",
      "county_pop_share_2019    -436.73     42.695    -10.229     0.0000     -520.41     -353.05\n",
      "=========================================================================================\n",
      "\n",
      "F-test for Poolability: 5.7075\n",
      "P-value: 0.0000\n",
      "Distribution: F(75,120230)\n",
      "\n",
      "Included effects: Time\n"
     ],
     "output_type": "stream"
    }
   ],
   "source": [
    "exog_vars = \\\n",
    "    ['pop2019_county', # County population\n",
    "     'county_pop_share_2019'] # Percent uninsured in demographic group for all income levels\n",
    "exog = sm.add_constant(panel_subset[exog_vars])\n",
    "\n",
    "# pooled regression\n",
    "mod_pooled = PooledOLS(dependent=panel_subset.confirmed_cases, \n",
    "                       exog=exog)\n",
    "pooled_res = mod_pooled.fit()\n",
    "print(pooled_res)\n",
    "\n",
    "# panel regression\n",
    "mod_panel_entity = PanelOLS(dependent=panel_subset.confirmed_cases, \n",
    "                            exog=exog,\n",
    "                            time_effects=True)\n",
    "panel_entity_res = mod_panel_entity.fit()\n",
    "print(panel_entity_res)"
   ],
   "metadata": {
    "collapsed": false,
    "pycharm": {
     "name": "#%%\n",
     "is_executing": false
    }
   }
  }
 ],
 "metadata": {
  "kernelspec": {
   "name": "pycharm-3837c9a2",
   "language": "python",
   "display_name": "PyCharm (bd4pp)"
  },
  "language_info": {
   "codemirror_mode": {
    "name": "ipython",
    "version": 2
   },
   "file_extension": ".py",
   "mimetype": "text/x-python",
   "name": "python",
   "nbconvert_exporter": "python",
   "pygments_lexer": "ipython2",
   "version": "2.7.6"
  },
  "pycharm": {
   "stem_cell": {
    "cell_type": "raw",
    "source": [],
    "metadata": {
     "collapsed": false
    }
   }
  }
 },
 "nbformat": 4,
 "nbformat_minor": 0
}