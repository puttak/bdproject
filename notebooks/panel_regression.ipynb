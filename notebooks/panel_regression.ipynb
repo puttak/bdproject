{
 "cells": [
  {
   "cell_type": "code",
   "execution_count": 1,
   "metadata": {
    "collapsed": true,
    "pycharm": {
     "is_executing": false
    }
   },
   "outputs": [],
   "source": [
    "import os\n",
    "import numpy as np\n",
    "import pandas as pd\n",
    "import addfips\n",
    "from src.utils.paths import get_parent_dir\n",
    "from linearmodels.panel import PooledOLS, PanelOLS\n",
    "import statsmodels.api as sm"
   ]
  },
  {
   "cell_type": "markdown",
   "source": [
    "### 1) Prepare data"
   ],
   "metadata": {
    "collapsed": false,
    "pycharm": {
     "name": "#%% md\n"
    }
   }
  },
  {
   "cell_type": "code",
   "execution_count": 2,
   "outputs": [],
   "source": [
    "def read_csse(path):\n",
    "    df = pd.read_csv(path)\n",
    "    df = df.set_index(\"Unnamed: 0\")\n",
    "    df.index = pd.to_datetime(df.index)\n",
    "    return df\n",
    "\n",
    "pdir = get_parent_dir(2)"
   ],
   "metadata": {
    "collapsed": false,
    "pycharm": {
     "name": "#%%\n",
     "is_executing": false
    }
   }
  },
  {
   "cell_type": "markdown",
   "source": [
    "Read health data"
   ],
   "metadata": {
    "collapsed": false,
    "pycharm": {
     "name": "#%% md\n"
    }
   }
  },
  {
   "cell_type": "code",
   "execution_count": 3,
   "outputs": [
    {
     "name": "stdout",
     "text": [
      "   year   version  statefips  countyfips  geocat  agecat  racecat  sexcat  \\\n",
      "0  2017                    1           0      40       0        0       0   \n",
      "1  2017                    1           0      40       0        0       0   \n",
      "2  2017                    1           0      40       0        0       0   \n",
      "3  2017                    1           0      40       0        0       0   \n",
      "4  2017                    1           0      40       0        0       0   \n",
      "\n",
      "   iprcat     NIPR  ... pctui_moe PCTIC pctic_moe PCTELIG pctelig_moe PCTLIIC  \\\n",
      "0       0  3966117  ...       0.3    89       0.3      11         0.3      89   \n",
      "1       1  1487986  ...       0.6  81.7       0.6     6.9         0.2    30.6   \n",
      "2       2  1836277  ...       0.5  82.7       0.5       8         0.3    38.3   \n",
      "3       3  1014380  ...       0.7  80.6       0.7       5         0.2    20.6   \n",
      "4       4  2701984  ...       0.4  85.5       0.4     9.8         0.3    58.3   \n",
      "\n",
      "  pctliic_moe                                         state_name  \\\n",
      "0         0.3  Alabama                                       ...   \n",
      "1         0.4  Alabama                                       ...   \n",
      "2         0.4  Alabama                                       ...   \n",
      "3         0.3  Alabama                                       ...   \n",
      "4         0.4  Alabama                                       ...   \n",
      "\n",
      "                                     county_name Unnamed: 25  \n",
      "0                                                        NaN  \n",
      "1                                                        NaN  \n",
      "2                                                        NaN  \n",
      "3                                                        NaN  \n",
      "4                                                        NaN  \n",
      "\n",
      "[5 rows x 26 columns]\n",
      "(320298, 26)\n"
     ],
     "output_type": "stream"
    },
    {
     "name": "stderr",
     "text": [
      "/Users/felix/miniconda3/envs/bd4pp/lib/python3.7/site-packages/IPython/core/interactiveshell.py:3063: DtypeWarning: Columns (9,10,11,12,13,14,15,16,17,18,19,20,21,22) have mixed types.Specify dtype option on import or set low_memory=False.\n",
      "  interactivity=interactivity, compiler=compiler, result=result)\n"
     ],
     "output_type": "stream"
    }
   ],
   "source": [
    "health_dir = os.path.join(pdir, 'data', 'raw', 'health')\n",
    "sahie = pd.read_csv(os.path.join(health_dir, \"SAHIE_2017.csv\"),\n",
    "                    header=68,\n",
    "                    sep=',')\n",
    "\n",
    "print(sahie.head())\n",
    "print(sahie.shape)"
   ],
   "metadata": {
    "collapsed": false,
    "pycharm": {
     "name": "#%% \n",
     "is_executing": false
    }
   }
  },
  {
   "cell_type": "code",
   "execution_count": 4,
   "outputs": [
    {
     "data": {
      "text/plain": "Index(['agecat', 'racecat', 'sexcat', 'iprcat', 'NIPR', 'nipr_moe', 'NUI',\n       'nui_moe', 'NIC', 'nic_moe', 'PCTUI', 'pctui_moe', 'PCTIC', 'pctic_moe',\n       'PCTELIG', 'pctelig_moe', 'PCTLIIC', 'pctliic_moe', 'state_name',\n       'county_name'],\n      dtype='object')"
     },
     "metadata": {},
     "output_type": "execute_result",
     "execution_count": 4
    }
   ],
   "source": [
    "#   prepare\n",
    "sahie = sahie.drop(columns=['Unnamed: 25', 'year', 'version',\n",
    "                            'statefips', 'countyfips', 'geocat'])\n",
    "sahie.columns"
   ],
   "metadata": {
    "collapsed": false,
    "pycharm": {
     "name": "#%%\n",
     "is_executing": false
    }
   }
  },
  {
   "cell_type": "code",
   "execution_count": 5,
   "outputs": [],
   "source": [
    "# sahie.head()\n",
    "# sahie_long = sahie.stack().reset_index()\n",
    "# sahie_long.drop(columns=['level_0'], inplace=True)"
   ],
   "metadata": {
    "collapsed": false,
    "pycharm": {
     "name": "#%%\n",
     "is_executing": false
    }
   }
  },
  {
   "cell_type": "code",
   "execution_count": 6,
   "outputs": [
    {
     "data": {
      "text/plain": "Index(['level_1', 0], dtype='object')"
     },
     "metadata": {},
     "output_type": "execute_result",
     "execution_count": 6
    }
   ],
   "source": [
    "# sahie_long.columns"
   ],
   "metadata": {
    "collapsed": false,
    "pycharm": {
     "name": "#%%\n",
     "is_executing": false
    }
   }
  },
  {
   "cell_type": "code",
   "execution_count": 7,
   "outputs": [],
   "source": [
    "# sahie_long.rename(columns={'level_1': 'variable',\n",
    "#                            0: 'measurement'}, inplace=True)\n",
    "# "
   ],
   "metadata": {
    "collapsed": false,
    "pycharm": {
     "name": "#%%\n",
     "is_executing": false
    }
   }
  },
  {
   "cell_type": "code",
   "execution_count": 8,
   "outputs": [],
   "source": [
    "# sahie_pivot = sahie_long.pivot(columns='variable', values='measurement')"
   ],
   "metadata": {
    "collapsed": false,
    "pycharm": {
     "name": "#%%\n",
     "is_executing": false
    }
   }
  },
  {
   "cell_type": "code",
   "execution_count": 5,
   "outputs": [],
   "source": [
    "cols = sahie.columns.to_list()\n",
    "cols = cols[-2:] + cols[:-2]\n",
    "sahie = sahie[cols]"
   ],
   "metadata": {
    "collapsed": false,
    "pycharm": {
     "name": "#%%\n",
     "is_executing": false
    }
   }
  },
  {
   "cell_type": "code",
   "execution_count": 6,
   "outputs": [],
   "source": [
    "# remove whitespace\n",
    "sahie = sahie.apply(lambda s : s.str.strip() if s.dtype == \"object\" else s)"
   ],
   "metadata": {
    "collapsed": false,
    "pycharm": {
     "name": "#%%\n",
     "is_executing": false
    }
   }
  },
  {
   "cell_type": "code",
   "execution_count": 12,
   "outputs": [],
   "source": [
    "# query for county data only\n",
    "sahie_county_data_only = sahie.query(\"county_name != ''\")\n",
    "sahie_county_data_only.reset_index(drop=True, inplace=True)"
   ],
   "metadata": {
    "collapsed": false,
    "pycharm": {
     "name": "#%%\n",
     "is_executing": false
    }
   }
  },
  {
   "cell_type": "code",
   "execution_count": 91,
   "outputs": [],
   "source": [
    "sahie_cleaned = pd.get_dummies(sahie_county_data_only, \n",
    "               columns=['sexcat', 'iprcat', 'agecat', 'racecat'])"
   ],
   "metadata": {
    "collapsed": false,
    "pycharm": {
     "name": "#%%\n",
     "is_executing": false
    }
   }
  },
  {
   "cell_type": "code",
   "execution_count": 92,
   "outputs": [
    {
     "name": "stdout",
     "text": [
      "<class 'pandas.core.frame.DataFrame'>\n",
      "RangeIndex: 301632 entries, 0 to 301631\n",
      "Data columns (total 32 columns):\n",
      " #   Column       Non-Null Count   Dtype  \n",
      "---  ------       --------------   -----  \n",
      " 0   state_name   301632 non-null  object \n",
      " 1   county_name  301632 non-null  object \n",
      " 2   NIPR         30110 non-null   float64\n",
      " 3   nipr_moe     30110 non-null   float64\n",
      " 4   NUI          30110 non-null   float64\n",
      " 5   nui_moe      30110 non-null   float64\n",
      " 6   NIC          30110 non-null   float64\n",
      " 7   nic_moe      30110 non-null   float64\n",
      " 8   PCTUI        30110 non-null   float64\n",
      " 9   pctui_moe    30110 non-null   float64\n",
      " 10  PCTIC        30110 non-null   float64\n",
      " 11  pctic_moe    30110 non-null   float64\n",
      " 12  PCTELIG      30110 non-null   float64\n",
      " 13  pctelig_moe  30110 non-null   float64\n",
      " 14  PCTLIIC      30110 non-null   float64\n",
      " 15  pctliic_moe  30110 non-null   float64\n",
      " 16  sexcat_0     301632 non-null  uint8  \n",
      " 17  sexcat_1     301632 non-null  uint8  \n",
      " 18  sexcat_2     301632 non-null  uint8  \n",
      " 19  iprcat_0     301632 non-null  uint8  \n",
      " 20  iprcat_1     301632 non-null  uint8  \n",
      " 21  iprcat_2     301632 non-null  uint8  \n",
      " 22  iprcat_3     301632 non-null  uint8  \n",
      " 23  iprcat_4     301632 non-null  uint8  \n",
      " 24  iprcat_5     301632 non-null  uint8  \n",
      " 25  agecat_0     301632 non-null  uint8  \n",
      " 26  agecat_1     301632 non-null  uint8  \n",
      " 27  agecat_2     301632 non-null  uint8  \n",
      " 28  agecat_3     301632 non-null  uint8  \n",
      " 29  agecat_4     301632 non-null  uint8  \n",
      " 30  agecat_5     301632 non-null  uint8  \n",
      " 31  racecat_0    301632 non-null  uint8  \n",
      "dtypes: float64(14), object(2), uint8(16)\n",
      "memory usage: 41.4+ MB\n"
     ],
     "output_type": "stream"
    }
   ],
   "source": [
    "numeric_cols = ['NIPR', 'nipr_moe', 'NUI', 'nui_moe',\n",
    "       'NIC', 'nic_moe', 'PCTUI', 'pctui_moe', 'PCTIC', 'pctic_moe', 'PCTELIG',\n",
    "       'pctelig_moe', 'PCTLIIC', 'pctliic_moe']\n",
    "for col in numeric_cols:\n",
    "    sahie_cleaned[col] = sahie_cleaned[col].replace('.', np.nan).astype(float)\n",
    "sahie_cleaned.info()"
   ],
   "metadata": {
    "collapsed": false,
    "pycharm": {
     "name": "#%%\n",
     "is_executing": false
    }
   }
  },
  {
   "cell_type": "code",
   "execution_count": 93,
   "outputs": [],
   "source": [
    "sahie_cleaned = sahie_cleaned.groupby(['county_name'], as_index=False).first()\n",
    "sahie_cleaned.rename(columns={'county_name': 'county',\n",
    "                              'state_name': 'state'},\n",
    "                     inplace=True)\n"
   ],
   "metadata": {
    "collapsed": false,
    "pycharm": {
     "name": "#%%\n",
     "is_executing": false
    }
   }
  },
  {
   "cell_type": "code",
   "execution_count": 94,
   "outputs": [
    {
     "data": {
      "text/plain": "['45001',\n '22001',\n '51001',\n '16001',\n '19001',\n '08001',\n '50001',\n '45003',\n '27001',\n '12001',\n '37001',\n '06001',\n '08003',\n '36001',\n '51003',\n '26001',\n '28003',\n '02013',\n '02016',\n '17003',\n '51510',\n '40003',\n '26003',\n '19005',\n '26005',\n '24001',\n '37005',\n '42003',\n '18003',\n '22003',\n '45005',\n '26007',\n '06003',\n '06005',\n '51007',\n '51009',\n '28005',\n None,\n '20003',\n '29003',\n '48003',\n '23001',\n '48005',\n '24003',\n '27003',\n '37007',\n '31003',\n '26009',\n '04001',\n '19007',\n '13001',\n '51011',\n '48007',\n '08005',\n '48009',\n '08007',\n '26011',\n '05001',\n '51013',\n '42005',\n '23003',\n '31005',\n '22005',\n '37009',\n '39005',\n '05003',\n '39007',\n '53003',\n '22007',\n '48013',\n '20005',\n '39009',\n '13003',\n '34001',\n '40005',\n '28007',\n '29007',\n '19009',\n '39011',\n '51015',\n '46003',\n '48015',\n '01001',\n '37011',\n '22009',\n '08009',\n '13005',\n '48017',\n '12003',\n '01003',\n '21007',\n '24005',\n '24510',\n '45009',\n '48019',\n '13011',\n '31007',\n '16005',\n '26013',\n '20007',\n '01005',\n '38003',\n '25001',\n '45011',\n '21009',\n '55005',\n '13013',\n '26015',\n '18005',\n '20009',\n '13015',\n '48021',\n '29013',\n '21011',\n '05005',\n '12005',\n '55007',\n '48023',\n '46005',\n '16007',\n '37013',\n '22011',\n '40007',\n '30001',\n '27005',\n '40009',\n '42009',\n '48025',\n '33001',\n '21013',\n '39013',\n '27007',\n '13017',\n '16009',\n '46007',\n '50003',\n '38005',\n '08011',\n '05007',\n '26019',\n '34003',\n '45015',\n '42011',\n '25003',\n '35001',\n '13019',\n '37015',\n '02050',\n '48029',\n '01007',\n '22013',\n '30003',\n '27011',\n '38007',\n '16011',\n '19013',\n '18009',\n '37017',\n '16013',\n '42013',\n '48031',\n '51021',\n '13023',\n '47007',\n '01009',\n '27013',\n '16015',\n '28011',\n '29017',\n '46009',\n '17005',\n '16017',\n '16019',\n '05009',\n '48033',\n '48035',\n '22015',\n '51023',\n '38009',\n '08013',\n '16021',\n '20011',\n '48037',\n '38011',\n '31013',\n '49003',\n '21019',\n '21021',\n '21023',\n '12007',\n '05011',\n '26023',\n '13025',\n '54007',\n '48039',\n '48041',\n '21025',\n '21027',\n '19017',\n '12009',\n '48043',\n '48045',\n '02060',\n '25005',\n '51520',\n '30007',\n '36005',\n '54009',\n '46011',\n '13027',\n '36007',\n '08014',\n '12011',\n '17009',\n '46015',\n '37019',\n '13029',\n '19019',\n '51029',\n '42017',\n '19021',\n '51530',\n '31019',\n '21029',\n '13031',\n '01011',\n '37021',\n '17011',\n '13033',\n '38015',\n '48051',\n '34005',\n '48053',\n '55013',\n '31021',\n '01013',\n '06007',\n '13035',\n '37025',\n '54011',\n '49005',\n '40015',\n '22017',\n '06009',\n '22019',\n '21033',\n '22021',\n '50005',\n '01015',\n '48059',\n '29027',\n '21035',\n '55015',\n '24009',\n '16025',\n '42021',\n '13039',\n '42023',\n '22023',\n '48063',\n '21037',\n '40017',\n '13043',\n '47015',\n '16027',\n '29031',\n '34009',\n '30009',\n '16029',\n '21039',\n '27017',\n '24011',\n '05015',\n '32510',\n '48065',\n '21043',\n '37031',\n '27019',\n '30013',\n '21045',\n '17017',\n '16031',\n '48069',\n '37033',\n '22025',\n '37035',\n '13047',\n '35003',\n '36009',\n '38019',\n '36011',\n '24015',\n '19031',\n '42027',\n '19033',\n '08015',\n '01017',\n '17019',\n '29041',\n '51036',\n '24017',\n '46023',\n '45019',\n '26029',\n '12015',\n '51540',\n '13049',\n '20017',\n '13051',\n '13053',\n '13055',\n '20019',\n '35005',\n '47021',\n '26031',\n '53007',\n '36015',\n '36017',\n '01019',\n '31031',\n '51550',\n '33005',\n '42029',\n '45025',\n '08017',\n '19037',\n '05017',\n '48075',\n '01021',\n '26033',\n '27025',\n '50007',\n '01023',\n '30015',\n '37041',\n '17021',\n '32001',\n '35006',\n '40025',\n '12017',\n '41005',\n '28021',\n '22027',\n '53009',\n '26035',\n '45027',\n '42031',\n '05019',\n '01025',\n '41007',\n '01027',\n '13063',\n '08019',\n '42033',\n '16035',\n '01029',\n '39025',\n '05025',\n '13065',\n '17027',\n '20029',\n '28027',\n '40029',\n '13067',\n '04003',\n '48079',\n '47029',\n '04005',\n '46029',\n '01031',\n '20031',\n '48081',\n '01033',\n '29051',\n '48083',\n '17029',\n '31037',\n '45029',\n '12021',\n '48085',\n '48087',\n '51570',\n '48089',\n '13071',\n '05027',\n '39029',\n '37047',\n '06011',\n '48091',\n '20033',\n '48095',\n '22029',\n '01035',\n '08021',\n '06013',\n '56009',\n '05029',\n '13075',\n '48097',\n '29053',\n '33007',\n '01037',\n '28029',\n '46031',\n '36023',\n '48099',\n '39031',\n '08023',\n '48101',\n '40033',\n '27033',\n '01039',\n '51580',\n '13077',\n '20035',\n '53015',\n '40035',\n '05031',\n '48103',\n '37049',\n '05033',\n '40037',\n '01041',\n '13081',\n '05035',\n '47033',\n '41013',\n '48107',\n '05037',\n '27035',\n '08025',\n '48109',\n '01043',\n '51047',\n '17035',\n '31039',\n '37053',\n '35009',\n '08027',\n '39035',\n '13083',\n '49009',\n '27037',\n '01045',\n '48111',\n '01047',\n '55025',\n '30019',\n '51590',\n '37055',\n '39037',\n '45031',\n '42043',\n '37057',\n '37059',\n '18027',\n '19051',\n '46035',\n '31045',\n '13085',\n '46037',\n None,\n '22031',\n '17039',\n None,\n '01049',\n '12027',\n '48123',\n '48117',\n '18029',\n '13087',\n '30023',\n '39039',\n '06015',\n '18035',\n '08029',\n '02068',\n '29065',\n '48121',\n '08031',\n '19057',\n '41017',\n '05041',\n '31049',\n '40043',\n '48125',\n '51051',\n '38021',\n '19059',\n '47043',\n '02070',\n '45033',\n '48127',\n '51053',\n '11001',\n '38023',\n '12029',\n '31051',\n '54017',\n '13091',\n '08033',\n '35013',\n '20043',\n '48129',\n '13093',\n '55029',\n '24019',\n '13095',\n '08035',\n '05043',\n '17043',\n '18037',\n '19061',\n '49013',\n '25007',\n '31057',\n '29069',\n '38025',\n '37061',\n '37063',\n '36027',\n '12031',\n '47045',\n '08037',\n '13099',\n '22033',\n '22035',\n '22037',\n '48133',\n '26045',\n '55035',\n '13101',\n '48135',\n '35015',\n '17045',\n '37065',\n '45037',\n '21061',\n '46045',\n '17047',\n '13103',\n '06017',\n '08041',\n '08039',\n '20049',\n '18039',\n '32007',\n '21063',\n '20051',\n '20053',\n '01051',\n '13107',\n '49015',\n '19063',\n '38029',\n '51595',\n '48143',\n '36029',\n '01053',\n '32009',\n '25009',\n '21065',\n '01055',\n '32011',\n '22039',\n '13109',\n '02090',\n '51059',\n '51600',\n '09001',\n '46047',\n '30025',\n '51610',\n '48145',\n '13111',\n '27043',\n '46049',\n '05045',\n '51061',\n '01057',\n '47049',\n '30027',\n '53019',\n '27045',\n '20055',\n '48151',\n '12035',\n '30029',\n '21069',\n '45041',\n '13115',\n '51065',\n '48155',\n '55039',\n '17053',\n '42053',\n '28035',\n '13117',\n '48157',\n '38031',\n '18045',\n '01059',\n '22041',\n '51620',\n '24021',\n '51630',\n '27047',\n '48161',\n '08043',\n '06019',\n '48163',\n '31063',\n '05049',\n '31065',\n '12039',\n '31067',\n '48165',\n '51640',\n '17059',\n '39053',\n '48167',\n '31069',\n '08045',\n '05051',\n '21079',\n '24023',\n '40049',\n '48169',\n '29073',\n '37071',\n '37073',\n '20061',\n '39055',\n '16045',\n '26049',\n '01061',\n '29075',\n '28039',\n '45043',\n '18051',\n '04007',\n '12041',\n '47055',\n '48171',\n '41021',\n '13123',\n '08047',\n '30035',\n '12043',\n '26051',\n '13125',\n '48173',\n '06021',\n '34015',\n '13127',\n '26053',\n '30037',\n '48175',\n '48177',\n '51075',\n '27049',\n '16047',\n '13129',\n '56015',\n '31073',\n '20063',\n '13131',\n '33009',\n '04009',\n '47057',\n '08049',\n '38035',\n '50013',\n '26055',\n '30039',\n '05053',\n '22043',\n '37077',\n '26057',\n '21083',\n '20069',\n '53027',\n '21085',\n '20071',\n '21087',\n '55047',\n '54025',\n '01063',\n '04011',\n '51081',\n '21089',\n '45045',\n '20073',\n '40055',\n '48183',\n '46053',\n '28043',\n '38039',\n '48185',\n '17063',\n '35019',\n '39059',\n '37081',\n '12045',\n '08051',\n '19077',\n '13135',\n '46055',\n '13137',\n '02100',\n '01065',\n '37083',\n '13139',\n '47063',\n '12047',\n '46057',\n '25013',\n '25015',\n '45049',\n '51650',\n '13141',\n '46059',\n '51085',\n '48195',\n '46061',\n '13143',\n '12049',\n '47069',\n '17069',\n '35021',\n '54031',\n '24025',\n '21095',\n '40057',\n '37085',\n '41025',\n '20077',\n '13145',\n '18061',\n '51660',\n '13147',\n '09003',\n '48205',\n '20079',\n '20081',\n '15001',\n '47073',\n '31085',\n '48209',\n '37087',\n '13149',\n '48211',\n '05057',\n '17071',\n '18063',\n '12051',\n '27053',\n '51087',\n '01067',\n '36043',\n '12053',\n '37091',\n '38041',\n '21105',\n '29085',\n '35023',\n '39071',\n '12055',\n '30041',\n '12057',\n '26059',\n '28049',\n '08053',\n '31087',\n '39073',\n '48219',\n '20083',\n '37093',\n '12059',\n '29087',\n '15003',\n '48221',\n '41027',\n '31091',\n '02105',\n '51670',\n '21107',\n '45051',\n '05059',\n '56017',\n '26061',\n '01069',\n '05061',\n '29091',\n '27057',\n '34017',\n '48229',\n '08055',\n '40063',\n '06023',\n '28053',\n '48231',\n '34019',\n '42061',\n '18069',\n '26063',\n '46067',\n '37095',\n '22045',\n '22047',\n '19093',\n '16049',\n '06025',\n '05063',\n '12061',\n '42063',\n '26065',\n '06027',\n '26067',\n '26069',\n '19095',\n '37097',\n '48235',\n '26071',\n '17075',\n '13155',\n '26073',\n '27059',\n '53029',\n '51093',\n '28055',\n '27061',\n '28057',\n '05065',\n '48237',\n '01071',\n '22049',\n '51095',\n '13159',\n '18075',\n '13161',\n '01073',\n '28065',\n '22053',\n '22051',\n '13165',\n '18079',\n '46073',\n '16053',\n '17083',\n '21113',\n '20089',\n '48247',\n '48249',\n '17085',\n '05071',\n '37101',\n '13169',\n '41033',\n '49023',\n '30045',\n None,\n '55057',\n '42067',\n '26077',\n '15005',\n '26079',\n '27065',\n '54039',\n '27067',\n '17089',\n '17091',\n '48255',\n '15007',\n '48257',\n '40071',\n '31099',\n '20093',\n '31101',\n '28069',\n '02122',\n '17093',\n '48261',\n '23011',\n '55059',\n '10001',\n '21117',\n '19107',\n '06029',\n '48265',\n '45055',\n '02130',\n '55061',\n '26083',\n '31103',\n '38043',\n '31105',\n '48267',\n '48269',\n '51099',\n '51101',\n '51097',\n '40073',\n '20095',\n '06031',\n '46077',\n '48271',\n '08061',\n '08063',\n '53035',\n '53037',\n '27069',\n '41035',\n '48273',\n '53039',\n '21119',\n '17095',\n '02150',\n '27071',\n '16055',\n '18085',\n '19109',\n '02158',\n '55063',\n '04012',\n '08067',\n None,\n None,\n '22059',\n '38045',\n '20099',\n '27073',\n '42069',\n '29105',\n '05073',\n '22055',\n '22057',\n '18087',\n '06033',\n '02164',\n '27077',\n '01075',\n '48279',\n '50015',\n '48281',\n '31109',\n '32015',\n '20101',\n '55067',\n '13173',\n '26087',\n '56021',\n '08069',\n '21123',\n '08071',\n '06035',\n '16057',\n '40077',\n '01077',\n '21125',\n '13175',\n '48285',\n '01079',\n '40079',\n '27079',\n '35025',\n '28079',\n '20103',\n '42075',\n '01081',\n '26089',\n '28083',\n '42077',\n '16059',\n '26091',\n '37107',\n '12073',\n '21131',\n '21133',\n '12075',\n '16061',\n '30049',\n '45063',\n '51678',\n '12077',\n '39089',\n '01083',\n '05079',\n '22061',\n '19113',\n '48295',\n '09005',\n '05081',\n '48297',\n '17105',\n '22063',\n '48299',\n '05083',\n '13183',\n '05085',\n ...]"
     },
     "metadata": {},
     "output_type": "execute_result",
     "execution_count": 94
    }
   ],
   "source": [
    "# add fips\n",
    "af = addfips.AddFIPS()\n",
    "\n",
    "sahie_county_fips_codes = []\n",
    "for i, row in sahie_cleaned.iterrows():\n",
    "    county_fips_code = af.get_county_fips(county=row.county, state=row.state)\n",
    "    sahie_county_fips_codes.append(county_fips_code)\n",
    "sahie_county_fips_codes\n",
    "\n",
    "sahie_cleaned['FIPS'] = sahie_county_fips_codes\n",
    "sahie_county_fips_codes"
   ],
   "metadata": {
    "collapsed": false,
    "pycharm": {
     "name": "#%%\n",
     "is_executing": false
    }
   }
  },
  {
   "cell_type": "code",
   "execution_count": 95,
   "outputs": [
    {
     "data": {
      "text/plain": "                        county           state      NIPR  nipr_moe      NUI  \\\n0             Abbeville County  South Carolina       NaN       NaN      NaN   \n1                Acadia Parish       Louisiana       NaN       NaN      NaN   \n2              Accomack County        Virginia       NaN       NaN      NaN   \n3                   Ada County           Idaho  388515.0       0.0  33969.0   \n4                 Adair County            Iowa       NaN       NaN      NaN   \n5                 Adams County        Colorado    2934.0       0.0    422.0   \n6               Addison County         Vermont       NaN       NaN      NaN   \n7                 Aiken County  South Carolina       NaN       NaN      NaN   \n8                Aitkin County       Minnesota       NaN       NaN      NaN   \n9               Alachua County         Florida  217434.0       0.0  25800.0   \n10             Alamance County  North Carolina       NaN       NaN      NaN   \n11              Alameda County      California       NaN       NaN      NaN   \n12              Alamosa County        Colorado       NaN       NaN      NaN   \n13               Albany County        New York       NaN       NaN      NaN   \n14            Albemarle County        Virginia       NaN       NaN      NaN   \n15               Alcona County        Michigan       NaN       NaN      NaN   \n16               Alcorn County     Mississippi       NaN       NaN      NaN   \n17      Aleutians East Borough          Alaska       NaN       NaN      NaN   \n18  Aleutians West Census Area          Alaska       NaN       NaN      NaN   \n19            Alexander County        Illinois    4886.0       0.0    311.0   \n20             Alexandria city        Virginia       NaN       NaN      NaN   \n21              Alfalfa County        Oklahoma       NaN       NaN      NaN   \n22                Alger County        Michigan       NaN       NaN      NaN   \n23            Allamakee County            Iowa       NaN       NaN      NaN   \n24              Allegan County        Michigan       NaN       NaN      NaN   \n25             Allegany County        Maryland       NaN       NaN      NaN   \n26            Alleghany County  North Carolina       NaN       NaN      NaN   \n27            Allegheny County    Pennsylvania       NaN       NaN      NaN   \n28                Allen County         Indiana       NaN       NaN      NaN   \n29                Allen Parish       Louisiana       NaN       NaN      NaN   \n30            Allendale County  South Carolina       NaN       NaN      NaN   \n31               Alpena County        Michigan       NaN       NaN      NaN   \n32               Alpine County      California       NaN       NaN      NaN   \n33               Amador County      California       NaN       NaN      NaN   \n34               Amelia County        Virginia       NaN       NaN      NaN   \n35              Amherst County        Virginia       NaN       NaN      NaN   \n36                Amite County     Mississippi       NaN       NaN      NaN   \n37           Anchorage Borough          Alaska       NaN       NaN      NaN   \n38             Anderson County          Kansas       NaN       NaN      NaN   \n39               Andrew County        Missouri       NaN       NaN      NaN   \n\n    nui_moe       NIC  nic_moe  PCTUI  pctui_moe  ...  iprcat_4  iprcat_5  \\\n0       NaN       NaN      NaN    NaN        NaN  ...         0         0   \n1       NaN       NaN      NaN    NaN        NaN  ...         0         0   \n2       NaN       NaN      NaN    NaN        NaN  ...         0         0   \n3    2623.0  354546.0   2623.0    8.7        0.7  ...         0         0   \n4       NaN       NaN      NaN    NaN        NaN  ...         0         0   \n5      53.0    2512.0     53.0   14.4        1.8  ...         0         0   \n6       NaN       NaN      NaN    NaN        NaN  ...         0         0   \n7       NaN       NaN      NaN    NaN        NaN  ...         0         0   \n8       NaN       NaN      NaN    NaN        NaN  ...         0         0   \n9    2358.0  191634.0   2358.0   11.9        1.1  ...         0         0   \n10      NaN       NaN      NaN    NaN        NaN  ...         0         0   \n11      NaN       NaN      NaN    NaN        NaN  ...         0         0   \n12      NaN       NaN      NaN    NaN        NaN  ...         0         0   \n13      NaN       NaN      NaN    NaN        NaN  ...         0         0   \n14      NaN       NaN      NaN    NaN        NaN  ...         0         0   \n15      NaN       NaN      NaN    NaN        NaN  ...         0         0   \n16      NaN       NaN      NaN    NaN        NaN  ...         0         0   \n17      NaN       NaN      NaN    NaN        NaN  ...         0         0   \n18      NaN       NaN      NaN    NaN        NaN  ...         0         0   \n19     47.0    4575.0     47.0    6.4        1.0  ...         0         0   \n20      NaN       NaN      NaN    NaN        NaN  ...         0         0   \n21      NaN       NaN      NaN    NaN        NaN  ...         0         0   \n22      NaN       NaN      NaN    NaN        NaN  ...         0         0   \n23      NaN       NaN      NaN    NaN        NaN  ...         0         0   \n24      NaN       NaN      NaN    NaN        NaN  ...         0         0   \n25      NaN       NaN      NaN    NaN        NaN  ...         0         0   \n26      NaN       NaN      NaN    NaN        NaN  ...         0         0   \n27      NaN       NaN      NaN    NaN        NaN  ...         0         0   \n28      NaN       NaN      NaN    NaN        NaN  ...         0         0   \n29      NaN       NaN      NaN    NaN        NaN  ...         0         0   \n30      NaN       NaN      NaN    NaN        NaN  ...         0         0   \n31      NaN       NaN      NaN    NaN        NaN  ...         0         0   \n32      NaN       NaN      NaN    NaN        NaN  ...         0         0   \n33      NaN       NaN      NaN    NaN        NaN  ...         0         0   \n34      NaN       NaN      NaN    NaN        NaN  ...         0         0   \n35      NaN       NaN      NaN    NaN        NaN  ...         0         0   \n36      NaN       NaN      NaN    NaN        NaN  ...         0         0   \n37      NaN       NaN      NaN    NaN        NaN  ...         0         0   \n38      NaN       NaN      NaN    NaN        NaN  ...         0         0   \n39      NaN       NaN      NaN    NaN        NaN  ...         0         0   \n\n    agecat_0  agecat_1  agecat_2  agecat_3  agecat_4  agecat_5  racecat_0  \\\n0          1         0         0         0         0         0          1   \n1          1         0         0         0         0         0          1   \n2          1         0         0         0         0         0          1   \n3          1         0         0         0         0         0          1   \n4          1         0         0         0         0         0          1   \n5          1         0         0         0         0         0          1   \n6          1         0         0         0         0         0          1   \n7          1         0         0         0         0         0          1   \n8          1         0         0         0         0         0          1   \n9          1         0         0         0         0         0          1   \n10         1         0         0         0         0         0          1   \n11         1         0         0         0         0         0          1   \n12         1         0         0         0         0         0          1   \n13         1         0         0         0         0         0          1   \n14         1         0         0         0         0         0          1   \n15         1         0         0         0         0         0          1   \n16         1         0         0         0         0         0          1   \n17         1         0         0         0         0         0          1   \n18         1         0         0         0         0         0          1   \n19         1         0         0         0         0         0          1   \n20         1         0         0         0         0         0          1   \n21         1         0         0         0         0         0          1   \n22         1         0         0         0         0         0          1   \n23         1         0         0         0         0         0          1   \n24         1         0         0         0         0         0          1   \n25         1         0         0         0         0         0          1   \n26         1         0         0         0         0         0          1   \n27         1         0         0         0         0         0          1   \n28         1         0         0         0         0         0          1   \n29         1         0         0         0         0         0          1   \n30         1         0         0         0         0         0          1   \n31         1         0         0         0         0         0          1   \n32         1         0         0         0         0         0          1   \n33         1         0         0         0         0         0          1   \n34         1         0         0         0         0         0          1   \n35         1         0         0         0         0         0          1   \n36         1         0         0         0         0         0          1   \n37         1         0         0         0         0         0          1   \n38         1         0         0         0         0         0          1   \n39         1         0         0         0         0         0          1   \n\n     FIPS  \n0   45001  \n1   22001  \n2   51001  \n3   16001  \n4   19001  \n5   08001  \n6   50001  \n7   45003  \n8   27001  \n9   12001  \n10  37001  \n11  06001  \n12  08003  \n13  36001  \n14  51003  \n15  26001  \n16  28003  \n17  02013  \n18  02016  \n19  17003  \n20  51510  \n21  40003  \n22  26003  \n23  19005  \n24  26005  \n25  24001  \n26  37005  \n27  42003  \n28  18003  \n29  22003  \n30  45005  \n31  26007  \n32  06003  \n33  06005  \n34  51007  \n35  51009  \n36  28005  \n37   None  \n38  20003  \n39  29003  \n\n[40 rows x 33 columns]",
      "text/html": "<div>\n<style scoped>\n    .dataframe tbody tr th:only-of-type {\n        vertical-align: middle;\n    }\n\n    .dataframe tbody tr th {\n        vertical-align: top;\n    }\n\n    .dataframe thead th {\n        text-align: right;\n    }\n</style>\n<table border=\"1\" class=\"dataframe\">\n  <thead>\n    <tr style=\"text-align: right;\">\n      <th></th>\n      <th>county</th>\n      <th>state</th>\n      <th>NIPR</th>\n      <th>nipr_moe</th>\n      <th>NUI</th>\n      <th>nui_moe</th>\n      <th>NIC</th>\n      <th>nic_moe</th>\n      <th>PCTUI</th>\n      <th>pctui_moe</th>\n      <th>...</th>\n      <th>iprcat_4</th>\n      <th>iprcat_5</th>\n      <th>agecat_0</th>\n      <th>agecat_1</th>\n      <th>agecat_2</th>\n      <th>agecat_3</th>\n      <th>agecat_4</th>\n      <th>agecat_5</th>\n      <th>racecat_0</th>\n      <th>FIPS</th>\n    </tr>\n  </thead>\n  <tbody>\n    <tr>\n      <th>0</th>\n      <td>Abbeville County</td>\n      <td>South Carolina</td>\n      <td>NaN</td>\n      <td>NaN</td>\n      <td>NaN</td>\n      <td>NaN</td>\n      <td>NaN</td>\n      <td>NaN</td>\n      <td>NaN</td>\n      <td>NaN</td>\n      <td>...</td>\n      <td>0</td>\n      <td>0</td>\n      <td>1</td>\n      <td>0</td>\n      <td>0</td>\n      <td>0</td>\n      <td>0</td>\n      <td>0</td>\n      <td>1</td>\n      <td>45001</td>\n    </tr>\n    <tr>\n      <th>1</th>\n      <td>Acadia Parish</td>\n      <td>Louisiana</td>\n      <td>NaN</td>\n      <td>NaN</td>\n      <td>NaN</td>\n      <td>NaN</td>\n      <td>NaN</td>\n      <td>NaN</td>\n      <td>NaN</td>\n      <td>NaN</td>\n      <td>...</td>\n      <td>0</td>\n      <td>0</td>\n      <td>1</td>\n      <td>0</td>\n      <td>0</td>\n      <td>0</td>\n      <td>0</td>\n      <td>0</td>\n      <td>1</td>\n      <td>22001</td>\n    </tr>\n    <tr>\n      <th>2</th>\n      <td>Accomack County</td>\n      <td>Virginia</td>\n      <td>NaN</td>\n      <td>NaN</td>\n      <td>NaN</td>\n      <td>NaN</td>\n      <td>NaN</td>\n      <td>NaN</td>\n      <td>NaN</td>\n      <td>NaN</td>\n      <td>...</td>\n      <td>0</td>\n      <td>0</td>\n      <td>1</td>\n      <td>0</td>\n      <td>0</td>\n      <td>0</td>\n      <td>0</td>\n      <td>0</td>\n      <td>1</td>\n      <td>51001</td>\n    </tr>\n    <tr>\n      <th>3</th>\n      <td>Ada County</td>\n      <td>Idaho</td>\n      <td>388515.0</td>\n      <td>0.0</td>\n      <td>33969.0</td>\n      <td>2623.0</td>\n      <td>354546.0</td>\n      <td>2623.0</td>\n      <td>8.7</td>\n      <td>0.7</td>\n      <td>...</td>\n      <td>0</td>\n      <td>0</td>\n      <td>1</td>\n      <td>0</td>\n      <td>0</td>\n      <td>0</td>\n      <td>0</td>\n      <td>0</td>\n      <td>1</td>\n      <td>16001</td>\n    </tr>\n    <tr>\n      <th>4</th>\n      <td>Adair County</td>\n      <td>Iowa</td>\n      <td>NaN</td>\n      <td>NaN</td>\n      <td>NaN</td>\n      <td>NaN</td>\n      <td>NaN</td>\n      <td>NaN</td>\n      <td>NaN</td>\n      <td>NaN</td>\n      <td>...</td>\n      <td>0</td>\n      <td>0</td>\n      <td>1</td>\n      <td>0</td>\n      <td>0</td>\n      <td>0</td>\n      <td>0</td>\n      <td>0</td>\n      <td>1</td>\n      <td>19001</td>\n    </tr>\n    <tr>\n      <th>5</th>\n      <td>Adams County</td>\n      <td>Colorado</td>\n      <td>2934.0</td>\n      <td>0.0</td>\n      <td>422.0</td>\n      <td>53.0</td>\n      <td>2512.0</td>\n      <td>53.0</td>\n      <td>14.4</td>\n      <td>1.8</td>\n      <td>...</td>\n      <td>0</td>\n      <td>0</td>\n      <td>1</td>\n      <td>0</td>\n      <td>0</td>\n      <td>0</td>\n      <td>0</td>\n      <td>0</td>\n      <td>1</td>\n      <td>08001</td>\n    </tr>\n    <tr>\n      <th>6</th>\n      <td>Addison County</td>\n      <td>Vermont</td>\n      <td>NaN</td>\n      <td>NaN</td>\n      <td>NaN</td>\n      <td>NaN</td>\n      <td>NaN</td>\n      <td>NaN</td>\n      <td>NaN</td>\n      <td>NaN</td>\n      <td>...</td>\n      <td>0</td>\n      <td>0</td>\n      <td>1</td>\n      <td>0</td>\n      <td>0</td>\n      <td>0</td>\n      <td>0</td>\n      <td>0</td>\n      <td>1</td>\n      <td>50001</td>\n    </tr>\n    <tr>\n      <th>7</th>\n      <td>Aiken County</td>\n      <td>South Carolina</td>\n      <td>NaN</td>\n      <td>NaN</td>\n      <td>NaN</td>\n      <td>NaN</td>\n      <td>NaN</td>\n      <td>NaN</td>\n      <td>NaN</td>\n      <td>NaN</td>\n      <td>...</td>\n      <td>0</td>\n      <td>0</td>\n      <td>1</td>\n      <td>0</td>\n      <td>0</td>\n      <td>0</td>\n      <td>0</td>\n      <td>0</td>\n      <td>1</td>\n      <td>45003</td>\n    </tr>\n    <tr>\n      <th>8</th>\n      <td>Aitkin County</td>\n      <td>Minnesota</td>\n      <td>NaN</td>\n      <td>NaN</td>\n      <td>NaN</td>\n      <td>NaN</td>\n      <td>NaN</td>\n      <td>NaN</td>\n      <td>NaN</td>\n      <td>NaN</td>\n      <td>...</td>\n      <td>0</td>\n      <td>0</td>\n      <td>1</td>\n      <td>0</td>\n      <td>0</td>\n      <td>0</td>\n      <td>0</td>\n      <td>0</td>\n      <td>1</td>\n      <td>27001</td>\n    </tr>\n    <tr>\n      <th>9</th>\n      <td>Alachua County</td>\n      <td>Florida</td>\n      <td>217434.0</td>\n      <td>0.0</td>\n      <td>25800.0</td>\n      <td>2358.0</td>\n      <td>191634.0</td>\n      <td>2358.0</td>\n      <td>11.9</td>\n      <td>1.1</td>\n      <td>...</td>\n      <td>0</td>\n      <td>0</td>\n      <td>1</td>\n      <td>0</td>\n      <td>0</td>\n      <td>0</td>\n      <td>0</td>\n      <td>0</td>\n      <td>1</td>\n      <td>12001</td>\n    </tr>\n    <tr>\n      <th>10</th>\n      <td>Alamance County</td>\n      <td>North Carolina</td>\n      <td>NaN</td>\n      <td>NaN</td>\n      <td>NaN</td>\n      <td>NaN</td>\n      <td>NaN</td>\n      <td>NaN</td>\n      <td>NaN</td>\n      <td>NaN</td>\n      <td>...</td>\n      <td>0</td>\n      <td>0</td>\n      <td>1</td>\n      <td>0</td>\n      <td>0</td>\n      <td>0</td>\n      <td>0</td>\n      <td>0</td>\n      <td>1</td>\n      <td>37001</td>\n    </tr>\n    <tr>\n      <th>11</th>\n      <td>Alameda County</td>\n      <td>California</td>\n      <td>NaN</td>\n      <td>NaN</td>\n      <td>NaN</td>\n      <td>NaN</td>\n      <td>NaN</td>\n      <td>NaN</td>\n      <td>NaN</td>\n      <td>NaN</td>\n      <td>...</td>\n      <td>0</td>\n      <td>0</td>\n      <td>1</td>\n      <td>0</td>\n      <td>0</td>\n      <td>0</td>\n      <td>0</td>\n      <td>0</td>\n      <td>1</td>\n      <td>06001</td>\n    </tr>\n    <tr>\n      <th>12</th>\n      <td>Alamosa County</td>\n      <td>Colorado</td>\n      <td>NaN</td>\n      <td>NaN</td>\n      <td>NaN</td>\n      <td>NaN</td>\n      <td>NaN</td>\n      <td>NaN</td>\n      <td>NaN</td>\n      <td>NaN</td>\n      <td>...</td>\n      <td>0</td>\n      <td>0</td>\n      <td>1</td>\n      <td>0</td>\n      <td>0</td>\n      <td>0</td>\n      <td>0</td>\n      <td>0</td>\n      <td>1</td>\n      <td>08003</td>\n    </tr>\n    <tr>\n      <th>13</th>\n      <td>Albany County</td>\n      <td>New York</td>\n      <td>NaN</td>\n      <td>NaN</td>\n      <td>NaN</td>\n      <td>NaN</td>\n      <td>NaN</td>\n      <td>NaN</td>\n      <td>NaN</td>\n      <td>NaN</td>\n      <td>...</td>\n      <td>0</td>\n      <td>0</td>\n      <td>1</td>\n      <td>0</td>\n      <td>0</td>\n      <td>0</td>\n      <td>0</td>\n      <td>0</td>\n      <td>1</td>\n      <td>36001</td>\n    </tr>\n    <tr>\n      <th>14</th>\n      <td>Albemarle County</td>\n      <td>Virginia</td>\n      <td>NaN</td>\n      <td>NaN</td>\n      <td>NaN</td>\n      <td>NaN</td>\n      <td>NaN</td>\n      <td>NaN</td>\n      <td>NaN</td>\n      <td>NaN</td>\n      <td>...</td>\n      <td>0</td>\n      <td>0</td>\n      <td>1</td>\n      <td>0</td>\n      <td>0</td>\n      <td>0</td>\n      <td>0</td>\n      <td>0</td>\n      <td>1</td>\n      <td>51003</td>\n    </tr>\n    <tr>\n      <th>15</th>\n      <td>Alcona County</td>\n      <td>Michigan</td>\n      <td>NaN</td>\n      <td>NaN</td>\n      <td>NaN</td>\n      <td>NaN</td>\n      <td>NaN</td>\n      <td>NaN</td>\n      <td>NaN</td>\n      <td>NaN</td>\n      <td>...</td>\n      <td>0</td>\n      <td>0</td>\n      <td>1</td>\n      <td>0</td>\n      <td>0</td>\n      <td>0</td>\n      <td>0</td>\n      <td>0</td>\n      <td>1</td>\n      <td>26001</td>\n    </tr>\n    <tr>\n      <th>16</th>\n      <td>Alcorn County</td>\n      <td>Mississippi</td>\n      <td>NaN</td>\n      <td>NaN</td>\n      <td>NaN</td>\n      <td>NaN</td>\n      <td>NaN</td>\n      <td>NaN</td>\n      <td>NaN</td>\n      <td>NaN</td>\n      <td>...</td>\n      <td>0</td>\n      <td>0</td>\n      <td>1</td>\n      <td>0</td>\n      <td>0</td>\n      <td>0</td>\n      <td>0</td>\n      <td>0</td>\n      <td>1</td>\n      <td>28003</td>\n    </tr>\n    <tr>\n      <th>17</th>\n      <td>Aleutians East Borough</td>\n      <td>Alaska</td>\n      <td>NaN</td>\n      <td>NaN</td>\n      <td>NaN</td>\n      <td>NaN</td>\n      <td>NaN</td>\n      <td>NaN</td>\n      <td>NaN</td>\n      <td>NaN</td>\n      <td>...</td>\n      <td>0</td>\n      <td>0</td>\n      <td>1</td>\n      <td>0</td>\n      <td>0</td>\n      <td>0</td>\n      <td>0</td>\n      <td>0</td>\n      <td>1</td>\n      <td>02013</td>\n    </tr>\n    <tr>\n      <th>18</th>\n      <td>Aleutians West Census Area</td>\n      <td>Alaska</td>\n      <td>NaN</td>\n      <td>NaN</td>\n      <td>NaN</td>\n      <td>NaN</td>\n      <td>NaN</td>\n      <td>NaN</td>\n      <td>NaN</td>\n      <td>NaN</td>\n      <td>...</td>\n      <td>0</td>\n      <td>0</td>\n      <td>1</td>\n      <td>0</td>\n      <td>0</td>\n      <td>0</td>\n      <td>0</td>\n      <td>0</td>\n      <td>1</td>\n      <td>02016</td>\n    </tr>\n    <tr>\n      <th>19</th>\n      <td>Alexander County</td>\n      <td>Illinois</td>\n      <td>4886.0</td>\n      <td>0.0</td>\n      <td>311.0</td>\n      <td>47.0</td>\n      <td>4575.0</td>\n      <td>47.0</td>\n      <td>6.4</td>\n      <td>1.0</td>\n      <td>...</td>\n      <td>0</td>\n      <td>0</td>\n      <td>1</td>\n      <td>0</td>\n      <td>0</td>\n      <td>0</td>\n      <td>0</td>\n      <td>0</td>\n      <td>1</td>\n      <td>17003</td>\n    </tr>\n    <tr>\n      <th>20</th>\n      <td>Alexandria city</td>\n      <td>Virginia</td>\n      <td>NaN</td>\n      <td>NaN</td>\n      <td>NaN</td>\n      <td>NaN</td>\n      <td>NaN</td>\n      <td>NaN</td>\n      <td>NaN</td>\n      <td>NaN</td>\n      <td>...</td>\n      <td>0</td>\n      <td>0</td>\n      <td>1</td>\n      <td>0</td>\n      <td>0</td>\n      <td>0</td>\n      <td>0</td>\n      <td>0</td>\n      <td>1</td>\n      <td>51510</td>\n    </tr>\n    <tr>\n      <th>21</th>\n      <td>Alfalfa County</td>\n      <td>Oklahoma</td>\n      <td>NaN</td>\n      <td>NaN</td>\n      <td>NaN</td>\n      <td>NaN</td>\n      <td>NaN</td>\n      <td>NaN</td>\n      <td>NaN</td>\n      <td>NaN</td>\n      <td>...</td>\n      <td>0</td>\n      <td>0</td>\n      <td>1</td>\n      <td>0</td>\n      <td>0</td>\n      <td>0</td>\n      <td>0</td>\n      <td>0</td>\n      <td>1</td>\n      <td>40003</td>\n    </tr>\n    <tr>\n      <th>22</th>\n      <td>Alger County</td>\n      <td>Michigan</td>\n      <td>NaN</td>\n      <td>NaN</td>\n      <td>NaN</td>\n      <td>NaN</td>\n      <td>NaN</td>\n      <td>NaN</td>\n      <td>NaN</td>\n      <td>NaN</td>\n      <td>...</td>\n      <td>0</td>\n      <td>0</td>\n      <td>1</td>\n      <td>0</td>\n      <td>0</td>\n      <td>0</td>\n      <td>0</td>\n      <td>0</td>\n      <td>1</td>\n      <td>26003</td>\n    </tr>\n    <tr>\n      <th>23</th>\n      <td>Allamakee County</td>\n      <td>Iowa</td>\n      <td>NaN</td>\n      <td>NaN</td>\n      <td>NaN</td>\n      <td>NaN</td>\n      <td>NaN</td>\n      <td>NaN</td>\n      <td>NaN</td>\n      <td>NaN</td>\n      <td>...</td>\n      <td>0</td>\n      <td>0</td>\n      <td>1</td>\n      <td>0</td>\n      <td>0</td>\n      <td>0</td>\n      <td>0</td>\n      <td>0</td>\n      <td>1</td>\n      <td>19005</td>\n    </tr>\n    <tr>\n      <th>24</th>\n      <td>Allegan County</td>\n      <td>Michigan</td>\n      <td>NaN</td>\n      <td>NaN</td>\n      <td>NaN</td>\n      <td>NaN</td>\n      <td>NaN</td>\n      <td>NaN</td>\n      <td>NaN</td>\n      <td>NaN</td>\n      <td>...</td>\n      <td>0</td>\n      <td>0</td>\n      <td>1</td>\n      <td>0</td>\n      <td>0</td>\n      <td>0</td>\n      <td>0</td>\n      <td>0</td>\n      <td>1</td>\n      <td>26005</td>\n    </tr>\n    <tr>\n      <th>25</th>\n      <td>Allegany County</td>\n      <td>Maryland</td>\n      <td>NaN</td>\n      <td>NaN</td>\n      <td>NaN</td>\n      <td>NaN</td>\n      <td>NaN</td>\n      <td>NaN</td>\n      <td>NaN</td>\n      <td>NaN</td>\n      <td>...</td>\n      <td>0</td>\n      <td>0</td>\n      <td>1</td>\n      <td>0</td>\n      <td>0</td>\n      <td>0</td>\n      <td>0</td>\n      <td>0</td>\n      <td>1</td>\n      <td>24001</td>\n    </tr>\n    <tr>\n      <th>26</th>\n      <td>Alleghany County</td>\n      <td>North Carolina</td>\n      <td>NaN</td>\n      <td>NaN</td>\n      <td>NaN</td>\n      <td>NaN</td>\n      <td>NaN</td>\n      <td>NaN</td>\n      <td>NaN</td>\n      <td>NaN</td>\n      <td>...</td>\n      <td>0</td>\n      <td>0</td>\n      <td>1</td>\n      <td>0</td>\n      <td>0</td>\n      <td>0</td>\n      <td>0</td>\n      <td>0</td>\n      <td>1</td>\n      <td>37005</td>\n    </tr>\n    <tr>\n      <th>27</th>\n      <td>Allegheny County</td>\n      <td>Pennsylvania</td>\n      <td>NaN</td>\n      <td>NaN</td>\n      <td>NaN</td>\n      <td>NaN</td>\n      <td>NaN</td>\n      <td>NaN</td>\n      <td>NaN</td>\n      <td>NaN</td>\n      <td>...</td>\n      <td>0</td>\n      <td>0</td>\n      <td>1</td>\n      <td>0</td>\n      <td>0</td>\n      <td>0</td>\n      <td>0</td>\n      <td>0</td>\n      <td>1</td>\n      <td>42003</td>\n    </tr>\n    <tr>\n      <th>28</th>\n      <td>Allen County</td>\n      <td>Indiana</td>\n      <td>NaN</td>\n      <td>NaN</td>\n      <td>NaN</td>\n      <td>NaN</td>\n      <td>NaN</td>\n      <td>NaN</td>\n      <td>NaN</td>\n      <td>NaN</td>\n      <td>...</td>\n      <td>0</td>\n      <td>0</td>\n      <td>1</td>\n      <td>0</td>\n      <td>0</td>\n      <td>0</td>\n      <td>0</td>\n      <td>0</td>\n      <td>1</td>\n      <td>18003</td>\n    </tr>\n    <tr>\n      <th>29</th>\n      <td>Allen Parish</td>\n      <td>Louisiana</td>\n      <td>NaN</td>\n      <td>NaN</td>\n      <td>NaN</td>\n      <td>NaN</td>\n      <td>NaN</td>\n      <td>NaN</td>\n      <td>NaN</td>\n      <td>NaN</td>\n      <td>...</td>\n      <td>0</td>\n      <td>0</td>\n      <td>1</td>\n      <td>0</td>\n      <td>0</td>\n      <td>0</td>\n      <td>0</td>\n      <td>0</td>\n      <td>1</td>\n      <td>22003</td>\n    </tr>\n    <tr>\n      <th>30</th>\n      <td>Allendale County</td>\n      <td>South Carolina</td>\n      <td>NaN</td>\n      <td>NaN</td>\n      <td>NaN</td>\n      <td>NaN</td>\n      <td>NaN</td>\n      <td>NaN</td>\n      <td>NaN</td>\n      <td>NaN</td>\n      <td>...</td>\n      <td>0</td>\n      <td>0</td>\n      <td>1</td>\n      <td>0</td>\n      <td>0</td>\n      <td>0</td>\n      <td>0</td>\n      <td>0</td>\n      <td>1</td>\n      <td>45005</td>\n    </tr>\n    <tr>\n      <th>31</th>\n      <td>Alpena County</td>\n      <td>Michigan</td>\n      <td>NaN</td>\n      <td>NaN</td>\n      <td>NaN</td>\n      <td>NaN</td>\n      <td>NaN</td>\n      <td>NaN</td>\n      <td>NaN</td>\n      <td>NaN</td>\n      <td>...</td>\n      <td>0</td>\n      <td>0</td>\n      <td>1</td>\n      <td>0</td>\n      <td>0</td>\n      <td>0</td>\n      <td>0</td>\n      <td>0</td>\n      <td>1</td>\n      <td>26007</td>\n    </tr>\n    <tr>\n      <th>32</th>\n      <td>Alpine County</td>\n      <td>California</td>\n      <td>NaN</td>\n      <td>NaN</td>\n      <td>NaN</td>\n      <td>NaN</td>\n      <td>NaN</td>\n      <td>NaN</td>\n      <td>NaN</td>\n      <td>NaN</td>\n      <td>...</td>\n      <td>0</td>\n      <td>0</td>\n      <td>1</td>\n      <td>0</td>\n      <td>0</td>\n      <td>0</td>\n      <td>0</td>\n      <td>0</td>\n      <td>1</td>\n      <td>06003</td>\n    </tr>\n    <tr>\n      <th>33</th>\n      <td>Amador County</td>\n      <td>California</td>\n      <td>NaN</td>\n      <td>NaN</td>\n      <td>NaN</td>\n      <td>NaN</td>\n      <td>NaN</td>\n      <td>NaN</td>\n      <td>NaN</td>\n      <td>NaN</td>\n      <td>...</td>\n      <td>0</td>\n      <td>0</td>\n      <td>1</td>\n      <td>0</td>\n      <td>0</td>\n      <td>0</td>\n      <td>0</td>\n      <td>0</td>\n      <td>1</td>\n      <td>06005</td>\n    </tr>\n    <tr>\n      <th>34</th>\n      <td>Amelia County</td>\n      <td>Virginia</td>\n      <td>NaN</td>\n      <td>NaN</td>\n      <td>NaN</td>\n      <td>NaN</td>\n      <td>NaN</td>\n      <td>NaN</td>\n      <td>NaN</td>\n      <td>NaN</td>\n      <td>...</td>\n      <td>0</td>\n      <td>0</td>\n      <td>1</td>\n      <td>0</td>\n      <td>0</td>\n      <td>0</td>\n      <td>0</td>\n      <td>0</td>\n      <td>1</td>\n      <td>51007</td>\n    </tr>\n    <tr>\n      <th>35</th>\n      <td>Amherst County</td>\n      <td>Virginia</td>\n      <td>NaN</td>\n      <td>NaN</td>\n      <td>NaN</td>\n      <td>NaN</td>\n      <td>NaN</td>\n      <td>NaN</td>\n      <td>NaN</td>\n      <td>NaN</td>\n      <td>...</td>\n      <td>0</td>\n      <td>0</td>\n      <td>1</td>\n      <td>0</td>\n      <td>0</td>\n      <td>0</td>\n      <td>0</td>\n      <td>0</td>\n      <td>1</td>\n      <td>51009</td>\n    </tr>\n    <tr>\n      <th>36</th>\n      <td>Amite County</td>\n      <td>Mississippi</td>\n      <td>NaN</td>\n      <td>NaN</td>\n      <td>NaN</td>\n      <td>NaN</td>\n      <td>NaN</td>\n      <td>NaN</td>\n      <td>NaN</td>\n      <td>NaN</td>\n      <td>...</td>\n      <td>0</td>\n      <td>0</td>\n      <td>1</td>\n      <td>0</td>\n      <td>0</td>\n      <td>0</td>\n      <td>0</td>\n      <td>0</td>\n      <td>1</td>\n      <td>28005</td>\n    </tr>\n    <tr>\n      <th>37</th>\n      <td>Anchorage Borough</td>\n      <td>Alaska</td>\n      <td>NaN</td>\n      <td>NaN</td>\n      <td>NaN</td>\n      <td>NaN</td>\n      <td>NaN</td>\n      <td>NaN</td>\n      <td>NaN</td>\n      <td>NaN</td>\n      <td>...</td>\n      <td>0</td>\n      <td>0</td>\n      <td>1</td>\n      <td>0</td>\n      <td>0</td>\n      <td>0</td>\n      <td>0</td>\n      <td>0</td>\n      <td>1</td>\n      <td>None</td>\n    </tr>\n    <tr>\n      <th>38</th>\n      <td>Anderson County</td>\n      <td>Kansas</td>\n      <td>NaN</td>\n      <td>NaN</td>\n      <td>NaN</td>\n      <td>NaN</td>\n      <td>NaN</td>\n      <td>NaN</td>\n      <td>NaN</td>\n      <td>NaN</td>\n      <td>...</td>\n      <td>0</td>\n      <td>0</td>\n      <td>1</td>\n      <td>0</td>\n      <td>0</td>\n      <td>0</td>\n      <td>0</td>\n      <td>0</td>\n      <td>1</td>\n      <td>20003</td>\n    </tr>\n    <tr>\n      <th>39</th>\n      <td>Andrew County</td>\n      <td>Missouri</td>\n      <td>NaN</td>\n      <td>NaN</td>\n      <td>NaN</td>\n      <td>NaN</td>\n      <td>NaN</td>\n      <td>NaN</td>\n      <td>NaN</td>\n      <td>NaN</td>\n      <td>...</td>\n      <td>0</td>\n      <td>0</td>\n      <td>1</td>\n      <td>0</td>\n      <td>0</td>\n      <td>0</td>\n      <td>0</td>\n      <td>0</td>\n      <td>1</td>\n      <td>29003</td>\n    </tr>\n  </tbody>\n</table>\n<p>40 rows × 33 columns</p>\n</div>"
     },
     "metadata": {},
     "output_type": "execute_result",
     "execution_count": 95
    }
   ],
   "source": [
    "#sahie_cleaned[sahie_cleaned['county'] == \"Anchorage Borough\"]['FIPS'] = '02020'\n",
    "#print(sahie_cleaned['FIPS'].head(40))\n",
    "sahie_cleaned.head(40)"
   ],
   "metadata": {
    "collapsed": false,
    "pycharm": {
     "name": "#%%\n",
     "is_executing": false
    }
   }
  },
  {
   "cell_type": "code",
   "execution_count": 98,
   "outputs": [
    {
     "data": {
      "text/plain": "                         county           state      NIPR  nipr_moe      NUI  \\\n0              Abbeville County  South Carolina       NaN       NaN      NaN   \n1                 Acadia Parish       Louisiana       NaN       NaN      NaN   \n2               Accomack County        Virginia       NaN       NaN      NaN   \n3                    Ada County           Idaho  388515.0       0.0  33969.0   \n4                  Adair County            Iowa       NaN       NaN      NaN   \n...                         ...             ...       ...       ...      ...   \n1872  Yukon-Koyukuk Census Area          Alaska       NaN       NaN      NaN   \n1873                Yuma County         Arizona       NaN       NaN      NaN   \n1874              Zapata County           Texas       NaN       NaN      NaN   \n1875              Zavala County           Texas       NaN       NaN      NaN   \n1876             Ziebach County    South Dakota       NaN       NaN      NaN   \n\n      nui_moe       NIC  nic_moe  PCTUI  pctui_moe  ...  iprcat_4  iprcat_5  \\\n0         NaN       NaN      NaN    NaN        NaN  ...         0         0   \n1         NaN       NaN      NaN    NaN        NaN  ...         0         0   \n2         NaN       NaN      NaN    NaN        NaN  ...         0         0   \n3      2623.0  354546.0   2623.0    8.7        0.7  ...         0         0   \n4         NaN       NaN      NaN    NaN        NaN  ...         0         0   \n...       ...       ...      ...    ...        ...  ...       ...       ...   \n1872      NaN       NaN      NaN    NaN        NaN  ...         0         0   \n1873      NaN       NaN      NaN    NaN        NaN  ...         0         0   \n1874      NaN       NaN      NaN    NaN        NaN  ...         0         0   \n1875      NaN       NaN      NaN    NaN        NaN  ...         0         0   \n1876      NaN       NaN      NaN    NaN        NaN  ...         0         0   \n\n      agecat_0  agecat_1  agecat_2  agecat_3  agecat_4  agecat_5  racecat_0  \\\n0            1         0         0         0         0         0          1   \n1            1         0         0         0         0         0          1   \n2            1         0         0         0         0         0          1   \n3            1         0         0         0         0         0          1   \n4            1         0         0         0         0         0          1   \n...        ...       ...       ...       ...       ...       ...        ...   \n1872         1         0         0         0         0         0          1   \n1873         1         0         0         0         0         0          1   \n1874         1         0         0         0         0         0          1   \n1875         1         0         0         0         0         0          1   \n1876         1         0         0         0         0         0          1   \n\n       FIPS  \n0     45001  \n1     22001  \n2     51001  \n3     16001  \n4     19001  \n...     ...  \n1872  02290  \n1873  04027  \n1874  48505  \n1875  48507  \n1876  46137  \n\n[1876 rows x 33 columns]",
      "text/html": "<div>\n<style scoped>\n    .dataframe tbody tr th:only-of-type {\n        vertical-align: middle;\n    }\n\n    .dataframe tbody tr th {\n        vertical-align: top;\n    }\n\n    .dataframe thead th {\n        text-align: right;\n    }\n</style>\n<table border=\"1\" class=\"dataframe\">\n  <thead>\n    <tr style=\"text-align: right;\">\n      <th></th>\n      <th>county</th>\n      <th>state</th>\n      <th>NIPR</th>\n      <th>nipr_moe</th>\n      <th>NUI</th>\n      <th>nui_moe</th>\n      <th>NIC</th>\n      <th>nic_moe</th>\n      <th>PCTUI</th>\n      <th>pctui_moe</th>\n      <th>...</th>\n      <th>iprcat_4</th>\n      <th>iprcat_5</th>\n      <th>agecat_0</th>\n      <th>agecat_1</th>\n      <th>agecat_2</th>\n      <th>agecat_3</th>\n      <th>agecat_4</th>\n      <th>agecat_5</th>\n      <th>racecat_0</th>\n      <th>FIPS</th>\n    </tr>\n  </thead>\n  <tbody>\n    <tr>\n      <th>0</th>\n      <td>Abbeville County</td>\n      <td>South Carolina</td>\n      <td>NaN</td>\n      <td>NaN</td>\n      <td>NaN</td>\n      <td>NaN</td>\n      <td>NaN</td>\n      <td>NaN</td>\n      <td>NaN</td>\n      <td>NaN</td>\n      <td>...</td>\n      <td>0</td>\n      <td>0</td>\n      <td>1</td>\n      <td>0</td>\n      <td>0</td>\n      <td>0</td>\n      <td>0</td>\n      <td>0</td>\n      <td>1</td>\n      <td>45001</td>\n    </tr>\n    <tr>\n      <th>1</th>\n      <td>Acadia Parish</td>\n      <td>Louisiana</td>\n      <td>NaN</td>\n      <td>NaN</td>\n      <td>NaN</td>\n      <td>NaN</td>\n      <td>NaN</td>\n      <td>NaN</td>\n      <td>NaN</td>\n      <td>NaN</td>\n      <td>...</td>\n      <td>0</td>\n      <td>0</td>\n      <td>1</td>\n      <td>0</td>\n      <td>0</td>\n      <td>0</td>\n      <td>0</td>\n      <td>0</td>\n      <td>1</td>\n      <td>22001</td>\n    </tr>\n    <tr>\n      <th>2</th>\n      <td>Accomack County</td>\n      <td>Virginia</td>\n      <td>NaN</td>\n      <td>NaN</td>\n      <td>NaN</td>\n      <td>NaN</td>\n      <td>NaN</td>\n      <td>NaN</td>\n      <td>NaN</td>\n      <td>NaN</td>\n      <td>...</td>\n      <td>0</td>\n      <td>0</td>\n      <td>1</td>\n      <td>0</td>\n      <td>0</td>\n      <td>0</td>\n      <td>0</td>\n      <td>0</td>\n      <td>1</td>\n      <td>51001</td>\n    </tr>\n    <tr>\n      <th>3</th>\n      <td>Ada County</td>\n      <td>Idaho</td>\n      <td>388515.0</td>\n      <td>0.0</td>\n      <td>33969.0</td>\n      <td>2623.0</td>\n      <td>354546.0</td>\n      <td>2623.0</td>\n      <td>8.7</td>\n      <td>0.7</td>\n      <td>...</td>\n      <td>0</td>\n      <td>0</td>\n      <td>1</td>\n      <td>0</td>\n      <td>0</td>\n      <td>0</td>\n      <td>0</td>\n      <td>0</td>\n      <td>1</td>\n      <td>16001</td>\n    </tr>\n    <tr>\n      <th>4</th>\n      <td>Adair County</td>\n      <td>Iowa</td>\n      <td>NaN</td>\n      <td>NaN</td>\n      <td>NaN</td>\n      <td>NaN</td>\n      <td>NaN</td>\n      <td>NaN</td>\n      <td>NaN</td>\n      <td>NaN</td>\n      <td>...</td>\n      <td>0</td>\n      <td>0</td>\n      <td>1</td>\n      <td>0</td>\n      <td>0</td>\n      <td>0</td>\n      <td>0</td>\n      <td>0</td>\n      <td>1</td>\n      <td>19001</td>\n    </tr>\n    <tr>\n      <th>...</th>\n      <td>...</td>\n      <td>...</td>\n      <td>...</td>\n      <td>...</td>\n      <td>...</td>\n      <td>...</td>\n      <td>...</td>\n      <td>...</td>\n      <td>...</td>\n      <td>...</td>\n      <td>...</td>\n      <td>...</td>\n      <td>...</td>\n      <td>...</td>\n      <td>...</td>\n      <td>...</td>\n      <td>...</td>\n      <td>...</td>\n      <td>...</td>\n      <td>...</td>\n      <td>...</td>\n    </tr>\n    <tr>\n      <th>1872</th>\n      <td>Yukon-Koyukuk Census Area</td>\n      <td>Alaska</td>\n      <td>NaN</td>\n      <td>NaN</td>\n      <td>NaN</td>\n      <td>NaN</td>\n      <td>NaN</td>\n      <td>NaN</td>\n      <td>NaN</td>\n      <td>NaN</td>\n      <td>...</td>\n      <td>0</td>\n      <td>0</td>\n      <td>1</td>\n      <td>0</td>\n      <td>0</td>\n      <td>0</td>\n      <td>0</td>\n      <td>0</td>\n      <td>1</td>\n      <td>02290</td>\n    </tr>\n    <tr>\n      <th>1873</th>\n      <td>Yuma County</td>\n      <td>Arizona</td>\n      <td>NaN</td>\n      <td>NaN</td>\n      <td>NaN</td>\n      <td>NaN</td>\n      <td>NaN</td>\n      <td>NaN</td>\n      <td>NaN</td>\n      <td>NaN</td>\n      <td>...</td>\n      <td>0</td>\n      <td>0</td>\n      <td>1</td>\n      <td>0</td>\n      <td>0</td>\n      <td>0</td>\n      <td>0</td>\n      <td>0</td>\n      <td>1</td>\n      <td>04027</td>\n    </tr>\n    <tr>\n      <th>1874</th>\n      <td>Zapata County</td>\n      <td>Texas</td>\n      <td>NaN</td>\n      <td>NaN</td>\n      <td>NaN</td>\n      <td>NaN</td>\n      <td>NaN</td>\n      <td>NaN</td>\n      <td>NaN</td>\n      <td>NaN</td>\n      <td>...</td>\n      <td>0</td>\n      <td>0</td>\n      <td>1</td>\n      <td>0</td>\n      <td>0</td>\n      <td>0</td>\n      <td>0</td>\n      <td>0</td>\n      <td>1</td>\n      <td>48505</td>\n    </tr>\n    <tr>\n      <th>1875</th>\n      <td>Zavala County</td>\n      <td>Texas</td>\n      <td>NaN</td>\n      <td>NaN</td>\n      <td>NaN</td>\n      <td>NaN</td>\n      <td>NaN</td>\n      <td>NaN</td>\n      <td>NaN</td>\n      <td>NaN</td>\n      <td>...</td>\n      <td>0</td>\n      <td>0</td>\n      <td>1</td>\n      <td>0</td>\n      <td>0</td>\n      <td>0</td>\n      <td>0</td>\n      <td>0</td>\n      <td>1</td>\n      <td>48507</td>\n    </tr>\n    <tr>\n      <th>1876</th>\n      <td>Ziebach County</td>\n      <td>South Dakota</td>\n      <td>NaN</td>\n      <td>NaN</td>\n      <td>NaN</td>\n      <td>NaN</td>\n      <td>NaN</td>\n      <td>NaN</td>\n      <td>NaN</td>\n      <td>NaN</td>\n      <td>...</td>\n      <td>0</td>\n      <td>0</td>\n      <td>1</td>\n      <td>0</td>\n      <td>0</td>\n      <td>0</td>\n      <td>0</td>\n      <td>0</td>\n      <td>1</td>\n      <td>46137</td>\n    </tr>\n  </tbody>\n</table>\n<p>1876 rows × 33 columns</p>\n</div>"
     },
     "metadata": {},
     "output_type": "execute_result",
     "execution_count": 98
    }
   ],
   "source": [
    "# drop Anchorage Borough with missing FIPS, deal with that later\n",
    "sahie_cleaned = sahie_cleaned.drop([37])"
   ],
   "metadata": {
    "collapsed": false,
    "pycharm": {
     "name": "#%%\n",
     "is_executing": false
    }
   }
  },
  {
   "cell_type": "code",
   "execution_count": 99,
   "outputs": [
    {
     "name": "stdout",
     "text": [
      "<class 'pandas.core.frame.DataFrame'>\n",
      "Int64Index: 1877 entries, 0 to 1876\n",
      "Data columns (total 33 columns):\n",
      " #   Column       Non-Null Count  Dtype  \n",
      "---  ------       --------------  -----  \n",
      " 0   county       1877 non-null   object \n",
      " 1   state        1877 non-null   object \n",
      " 2   NIPR         274 non-null    float64\n",
      " 3   nipr_moe     274 non-null    float64\n",
      " 4   NUI          274 non-null    float64\n",
      " 5   nui_moe      274 non-null    float64\n",
      " 6   NIC          274 non-null    float64\n",
      " 7   nic_moe      274 non-null    float64\n",
      " 8   PCTUI        274 non-null    float64\n",
      " 9   pctui_moe    274 non-null    float64\n",
      " 10  PCTIC        274 non-null    float64\n",
      " 11  pctic_moe    274 non-null    float64\n",
      " 12  PCTELIG      274 non-null    float64\n",
      " 13  pctelig_moe  274 non-null    float64\n",
      " 14  PCTLIIC      274 non-null    float64\n",
      " 15  pctliic_moe  274 non-null    float64\n",
      " 16  sexcat_0     1877 non-null   uint8  \n",
      " 17  sexcat_1     1877 non-null   uint8  \n",
      " 18  sexcat_2     1877 non-null   uint8  \n",
      " 19  iprcat_0     1877 non-null   uint8  \n",
      " 20  iprcat_1     1877 non-null   uint8  \n",
      " 21  iprcat_2     1877 non-null   uint8  \n",
      " 22  iprcat_3     1877 non-null   uint8  \n",
      " 23  iprcat_4     1877 non-null   uint8  \n",
      " 24  iprcat_5     1877 non-null   uint8  \n",
      " 25  agecat_0     1877 non-null   uint8  \n",
      " 26  agecat_1     1877 non-null   uint8  \n",
      " 27  agecat_2     1877 non-null   uint8  \n",
      " 28  agecat_3     1877 non-null   uint8  \n",
      " 29  agecat_4     1877 non-null   uint8  \n",
      " 30  agecat_5     1877 non-null   uint8  \n",
      " 31  racecat_0    1877 non-null   uint8  \n",
      " 32  FIPS         1868 non-null   object \n",
      "dtypes: float64(14), object(3), uint8(16)\n",
      "memory usage: 373.3+ KB\n"
     ],
     "output_type": "stream"
    }
   ],
   "source": [
    "sahie_cleaned.info()"
   ],
   "metadata": {
    "collapsed": false,
    "pycharm": {
     "name": "#%%\n",
     "is_executing": false
    }
   }
  },
  {
   "cell_type": "code",
   "execution_count": null,
   "outputs": [],
   "source": [
    "csse_dir = os.path.join(pdir, 'data', 'processed', 'csse', 'US')\n",
    "\n",
    "fname_confirmed = \"time_series_covid19_confirmed_US_timeseries.csv\" \n",
    "fname_deaths = \"time_series_covid19_deaths_US_timeseries.csv\"\n",
    "\n",
    "path_confirmed = os.path.join(csse_dir, fname_confirmed)\n",
    "path_deaths = os.path.join(csse_dir, fname_deaths)"
   ],
   "metadata": {
    "collapsed": false,
    "pycharm": {
     "name": "#%%\n"
    }
   }
  },
  {
   "cell_type": "code",
   "execution_count": 25,
   "outputs": [],
   "source": [
    "ts_confirmed = read_csse(path_confirmed)\n",
    "ts_deaths = read_csse(path_deaths)\n",
    "\n",
    "ts_confirmed.index.name = 'time'\n",
    "ts_deaths.index.name = 'time'"
   ],
   "metadata": {
    "collapsed": false,
    "pycharm": {
     "name": "#%%\n",
     "is_executing": false
    }
   }
  },
  {
   "cell_type": "code",
   "execution_count": 82,
   "outputs": [
    {
     "name": "stdout",
     "text": [
      "        state  pop2019_state FIPS_state\n",
      "0     Alabama        4903185         01\n",
      "1      Alaska         731545         02\n",
      "2     Arizona        7278717         04\n",
      "3    Arkansas        3017804         05\n",
      "4  California       39512223         06\n",
      "     state          county  pop2019_county   FIPS\n",
      "1  Alabama  Autauga County           55869  01001\n",
      "2  Alabama  Baldwin County          223234  01003\n",
      "3  Alabama  Barbour County           24686  01005\n",
      "4  Alabama     Bibb County           22394  01007\n",
      "5  Alabama   Blount County           57826  01009\n"
     ],
     "output_type": "stream"
    }
   ],
   "source": [
    "demographic_dir = os.path.join(pdir, 'data', 'raw', 'demography')\n",
    "popdata = pd.read_csv(os.path.join(demographic_dir, \n",
    "                                   \"POPEST_2019.csv\"),\n",
    "                      encoding = \"ISO-8859-1\")\n",
    "\n",
    "# POPESTIMATE2019: 7/1/2019 resident total population estimate\n",
    "df_pop = popdata[['STNAME', 'CTYNAME', 'POPESTIMATE2019']]\n",
    "df_pop_counties = df_pop.query(\"STNAME != CTYNAME\")\n",
    "df_pop_counties = df_pop_counties.rename(columns={'STNAME': 'state',\n",
    "                                                  'CTYNAME': 'county',\n",
    "                                                  'POPESTIMATE2019': 'pop2019_county'})\n",
    "\n",
    "df_pop_states = df_pop.query(\"STNAME == CTYNAME\")\n",
    "df_pop_states = df_pop_states.reset_index(drop=True)\n",
    "df_pop_states = df_pop_states.rename(columns={'STNAME': 'state',\n",
    "                                              'CTYNAME': 'county',\n",
    "                                              'POPESTIMATE2019': 'pop2019_state'})\n",
    "df_pop_states.drop(columns='county', inplace=True)\n",
    "\n",
    "af = addfips.AddFIPS()\n",
    "\n",
    "county_fips_codes = []\n",
    "for i, row in df_pop_counties.iterrows():\n",
    "    county_fips_code = af.get_county_fips(county=row.county, state=row.state)\n",
    "    county_fips_codes.append(county_fips_code)\n",
    "    \n",
    "state_fips_codes = []\n",
    "for i, row in df_pop_states.iterrows():\n",
    "    state_fips_code = af.get_state_fips(state=row.state)\n",
    "    state_fips_codes.append(state_fips_code)\n",
    "    \n",
    "df_pop_counties['FIPS'] = county_fips_codes\n",
    "df_pop_states['FIPS_state'] = state_fips_codes\n",
    "print(df_pop_states.head())\n",
    "print(df_pop_counties.head())"
   ],
   "metadata": {
    "collapsed": false,
    "pycharm": {
     "name": "#%%\n",
     "is_executing": false
    }
   }
  },
  {
   "cell_type": "code",
   "execution_count": 81,
   "outputs": [
    {
     "data": {
      "text/plain": "        state             county  pop2019_county   FIPS\n1     Alabama     Autauga County           55869  01001\n2     Alabama     Baldwin County          223234  01003\n3     Alabama     Barbour County           24686  01005\n4     Alabama        Bibb County           22394  01007\n5     Alabama      Blount County           57826  01009\n...       ...                ...             ...    ...\n3188  Wyoming  Sweetwater County           42343  56037\n3189  Wyoming       Teton County           23464  56039\n3190  Wyoming       Uinta County           20226  56041\n3191  Wyoming    Washakie County            7805  56043\n3192  Wyoming      Weston County            6927  56045\n\n[3141 rows x 4 columns]",
      "text/html": "<div>\n<style scoped>\n    .dataframe tbody tr th:only-of-type {\n        vertical-align: middle;\n    }\n\n    .dataframe tbody tr th {\n        vertical-align: top;\n    }\n\n    .dataframe thead th {\n        text-align: right;\n    }\n</style>\n<table border=\"1\" class=\"dataframe\">\n  <thead>\n    <tr style=\"text-align: right;\">\n      <th></th>\n      <th>state</th>\n      <th>county</th>\n      <th>pop2019_county</th>\n      <th>FIPS</th>\n    </tr>\n  </thead>\n  <tbody>\n    <tr>\n      <th>1</th>\n      <td>Alabama</td>\n      <td>Autauga County</td>\n      <td>55869</td>\n      <td>01001</td>\n    </tr>\n    <tr>\n      <th>2</th>\n      <td>Alabama</td>\n      <td>Baldwin County</td>\n      <td>223234</td>\n      <td>01003</td>\n    </tr>\n    <tr>\n      <th>3</th>\n      <td>Alabama</td>\n      <td>Barbour County</td>\n      <td>24686</td>\n      <td>01005</td>\n    </tr>\n    <tr>\n      <th>4</th>\n      <td>Alabama</td>\n      <td>Bibb County</td>\n      <td>22394</td>\n      <td>01007</td>\n    </tr>\n    <tr>\n      <th>5</th>\n      <td>Alabama</td>\n      <td>Blount County</td>\n      <td>57826</td>\n      <td>01009</td>\n    </tr>\n    <tr>\n      <th>...</th>\n      <td>...</td>\n      <td>...</td>\n      <td>...</td>\n      <td>...</td>\n    </tr>\n    <tr>\n      <th>3188</th>\n      <td>Wyoming</td>\n      <td>Sweetwater County</td>\n      <td>42343</td>\n      <td>56037</td>\n    </tr>\n    <tr>\n      <th>3189</th>\n      <td>Wyoming</td>\n      <td>Teton County</td>\n      <td>23464</td>\n      <td>56039</td>\n    </tr>\n    <tr>\n      <th>3190</th>\n      <td>Wyoming</td>\n      <td>Uinta County</td>\n      <td>20226</td>\n      <td>56041</td>\n    </tr>\n    <tr>\n      <th>3191</th>\n      <td>Wyoming</td>\n      <td>Washakie County</td>\n      <td>7805</td>\n      <td>56043</td>\n    </tr>\n    <tr>\n      <th>3192</th>\n      <td>Wyoming</td>\n      <td>Weston County</td>\n      <td>6927</td>\n      <td>56045</td>\n    </tr>\n  </tbody>\n</table>\n<p>3141 rows × 4 columns</p>\n</div>"
     },
     "metadata": {},
     "output_type": "execute_result",
     "execution_count": 81
    }
   ],
   "source": [
    "df_pop_counties"
   ],
   "metadata": {
    "collapsed": false,
    "pycharm": {
     "name": "#%%\n",
     "is_executing": false
    }
   }
  },
  {
   "cell_type": "code",
   "execution_count": 83,
   "outputs": [],
   "source": [
    "ts_confirmedT = ts_confirmed.transpose()\n",
    "ts_confirmedT.index.name = \"FIPS\"\n",
    "tsconfm = ts_confirmedT.stack()"
   ],
   "metadata": {
    "collapsed": false,
    "pycharm": {
     "name": "#%%\n",
     "is_executing": false
    }
   }
  },
  {
   "cell_type": "code",
   "execution_count": 84,
   "outputs": [],
   "source": [
    "tsconfm.name = \"confirmed_cases\" \n",
    "tsconfm = tsconfm.reset_index()"
   ],
   "metadata": {
    "collapsed": false,
    "pycharm": {
     "name": "#%%\n",
     "is_executing": false
    }
   }
  },
  {
   "cell_type": "markdown",
   "source": [
    "### 2) Merge independent and dependent variables "
   ],
   "metadata": {
    "collapsed": false,
    "pycharm": {
     "name": "#%% md\n"
    }
   }
  },
  {
   "cell_type": "code",
   "execution_count": 85,
   "outputs": [],
   "source": [
    "df_merged = pd.merge(left=tsconfm.reset_index(),\n",
    "                     right=df_pop_counties,\n",
    "                     on='FIPS')\n",
    "df_merged = pd.merge(left=df_merged,\n",
    "                     right=df_pop_states,\n",
    "                     on='state')"
   ],
   "metadata": {
    "collapsed": false,
    "pycharm": {
     "name": "#%%\n",
     "is_executing": false
    }
   }
  },
  {
   "cell_type": "code",
   "execution_count": 100,
   "outputs": [],
   "source": [
    "# merge sahie\n",
    "df_merged = pd.merge(left=df_merged,\n",
    "                     right=sahie_cleaned,\n",
    "                     on='FIPS')"
   ],
   "metadata": {
    "collapsed": false,
    "pycharm": {
     "name": "#%%\n",
     "is_executing": false
    }
   }
  },
  {
   "cell_type": "code",
   "execution_count": 102,
   "outputs": [],
   "source": [
    "df_merged.drop(columns='index', inplace=True)\n"
   ],
   "metadata": {
    "collapsed": false,
    "pycharm": {
     "name": "#%%\n",
     "is_executing": false
    }
   }
  },
  {
   "cell_type": "code",
   "execution_count": 103,
   "outputs": [
    {
     "data": {
      "text/plain": "         FIPS       time  confirmed_cases   state_x       county_x  \\\n0       10001 2020-01-22                0  Delaware    Kent County   \n1       10001 2020-01-23                0  Delaware    Kent County   \n2       10001 2020-01-24                0  Delaware    Kent County   \n3       10001 2020-01-25                0  Delaware    Kent County   \n4       10001 2020-01-26                0  Delaware    Kent County   \n...       ...        ...              ...       ...            ...   \n115554  56045 2020-03-30                0   Wyoming  Weston County   \n115555  56045 2020-03-31                0   Wyoming  Weston County   \n115556  56045 2020-04-01                0   Wyoming  Weston County   \n115557  56045 2020-04-02                0   Wyoming  Weston County   \n115558  56045 2020-04-03                0   Wyoming  Weston County   \n\n        pop2019_county  pop2019_state FIPS_state       county_y   state_y  \\\n0               180786         973764         10    Kent County  Delaware   \n1               180786         973764         10    Kent County  Delaware   \n2               180786         973764         10    Kent County  Delaware   \n3               180786         973764         10    Kent County  Delaware   \n4               180786         973764         10    Kent County  Delaware   \n...                ...            ...        ...            ...       ...   \n115554            6927         578759         56  Weston County   Wyoming   \n115555            6927         578759         56  Weston County   Wyoming   \n115556            6927         578759         56  Weston County   Wyoming   \n115557            6927         578759         56  Weston County   Wyoming   \n115558            6927         578759         56  Weston County   Wyoming   \n\n        ...  iprcat_3  iprcat_4  iprcat_5  agecat_0  agecat_1  agecat_2  \\\n0       ...         0         0         0         1         0         0   \n1       ...         0         0         0         1         0         0   \n2       ...         0         0         0         1         0         0   \n3       ...         0         0         0         1         0         0   \n4       ...         0         0         0         1         0         0   \n...     ...       ...       ...       ...       ...       ...       ...   \n115554  ...         0         0         0         1         0         0   \n115555  ...         0         0         0         1         0         0   \n115556  ...         0         0         0         1         0         0   \n115557  ...         0         0         0         1         0         0   \n115558  ...         0         0         0         1         0         0   \n\n        agecat_3  agecat_4  agecat_5  racecat_0  \n0              0         0         0          1  \n1              0         0         0          1  \n2              0         0         0          1  \n3              0         0         0          1  \n4              0         0         0          1  \n...          ...       ...       ...        ...  \n115554         0         0         0          1  \n115555         0         0         0          1  \n115556         0         0         0          1  \n115557         0         0         0          1  \n115558         0         0         0          1  \n\n[115559 rows x 40 columns]",
      "text/html": "<div>\n<style scoped>\n    .dataframe tbody tr th:only-of-type {\n        vertical-align: middle;\n    }\n\n    .dataframe tbody tr th {\n        vertical-align: top;\n    }\n\n    .dataframe thead th {\n        text-align: right;\n    }\n</style>\n<table border=\"1\" class=\"dataframe\">\n  <thead>\n    <tr style=\"text-align: right;\">\n      <th></th>\n      <th>FIPS</th>\n      <th>time</th>\n      <th>confirmed_cases</th>\n      <th>state_x</th>\n      <th>county_x</th>\n      <th>pop2019_county</th>\n      <th>pop2019_state</th>\n      <th>FIPS_state</th>\n      <th>county_y</th>\n      <th>state_y</th>\n      <th>...</th>\n      <th>iprcat_3</th>\n      <th>iprcat_4</th>\n      <th>iprcat_5</th>\n      <th>agecat_0</th>\n      <th>agecat_1</th>\n      <th>agecat_2</th>\n      <th>agecat_3</th>\n      <th>agecat_4</th>\n      <th>agecat_5</th>\n      <th>racecat_0</th>\n    </tr>\n  </thead>\n  <tbody>\n    <tr>\n      <th>0</th>\n      <td>10001</td>\n      <td>2020-01-22</td>\n      <td>0</td>\n      <td>Delaware</td>\n      <td>Kent County</td>\n      <td>180786</td>\n      <td>973764</td>\n      <td>10</td>\n      <td>Kent County</td>\n      <td>Delaware</td>\n      <td>...</td>\n      <td>0</td>\n      <td>0</td>\n      <td>0</td>\n      <td>1</td>\n      <td>0</td>\n      <td>0</td>\n      <td>0</td>\n      <td>0</td>\n      <td>0</td>\n      <td>1</td>\n    </tr>\n    <tr>\n      <th>1</th>\n      <td>10001</td>\n      <td>2020-01-23</td>\n      <td>0</td>\n      <td>Delaware</td>\n      <td>Kent County</td>\n      <td>180786</td>\n      <td>973764</td>\n      <td>10</td>\n      <td>Kent County</td>\n      <td>Delaware</td>\n      <td>...</td>\n      <td>0</td>\n      <td>0</td>\n      <td>0</td>\n      <td>1</td>\n      <td>0</td>\n      <td>0</td>\n      <td>0</td>\n      <td>0</td>\n      <td>0</td>\n      <td>1</td>\n    </tr>\n    <tr>\n      <th>2</th>\n      <td>10001</td>\n      <td>2020-01-24</td>\n      <td>0</td>\n      <td>Delaware</td>\n      <td>Kent County</td>\n      <td>180786</td>\n      <td>973764</td>\n      <td>10</td>\n      <td>Kent County</td>\n      <td>Delaware</td>\n      <td>...</td>\n      <td>0</td>\n      <td>0</td>\n      <td>0</td>\n      <td>1</td>\n      <td>0</td>\n      <td>0</td>\n      <td>0</td>\n      <td>0</td>\n      <td>0</td>\n      <td>1</td>\n    </tr>\n    <tr>\n      <th>3</th>\n      <td>10001</td>\n      <td>2020-01-25</td>\n      <td>0</td>\n      <td>Delaware</td>\n      <td>Kent County</td>\n      <td>180786</td>\n      <td>973764</td>\n      <td>10</td>\n      <td>Kent County</td>\n      <td>Delaware</td>\n      <td>...</td>\n      <td>0</td>\n      <td>0</td>\n      <td>0</td>\n      <td>1</td>\n      <td>0</td>\n      <td>0</td>\n      <td>0</td>\n      <td>0</td>\n      <td>0</td>\n      <td>1</td>\n    </tr>\n    <tr>\n      <th>4</th>\n      <td>10001</td>\n      <td>2020-01-26</td>\n      <td>0</td>\n      <td>Delaware</td>\n      <td>Kent County</td>\n      <td>180786</td>\n      <td>973764</td>\n      <td>10</td>\n      <td>Kent County</td>\n      <td>Delaware</td>\n      <td>...</td>\n      <td>0</td>\n      <td>0</td>\n      <td>0</td>\n      <td>1</td>\n      <td>0</td>\n      <td>0</td>\n      <td>0</td>\n      <td>0</td>\n      <td>0</td>\n      <td>1</td>\n    </tr>\n    <tr>\n      <th>...</th>\n      <td>...</td>\n      <td>...</td>\n      <td>...</td>\n      <td>...</td>\n      <td>...</td>\n      <td>...</td>\n      <td>...</td>\n      <td>...</td>\n      <td>...</td>\n      <td>...</td>\n      <td>...</td>\n      <td>...</td>\n      <td>...</td>\n      <td>...</td>\n      <td>...</td>\n      <td>...</td>\n      <td>...</td>\n      <td>...</td>\n      <td>...</td>\n      <td>...</td>\n      <td>...</td>\n    </tr>\n    <tr>\n      <th>115554</th>\n      <td>56045</td>\n      <td>2020-03-30</td>\n      <td>0</td>\n      <td>Wyoming</td>\n      <td>Weston County</td>\n      <td>6927</td>\n      <td>578759</td>\n      <td>56</td>\n      <td>Weston County</td>\n      <td>Wyoming</td>\n      <td>...</td>\n      <td>0</td>\n      <td>0</td>\n      <td>0</td>\n      <td>1</td>\n      <td>0</td>\n      <td>0</td>\n      <td>0</td>\n      <td>0</td>\n      <td>0</td>\n      <td>1</td>\n    </tr>\n    <tr>\n      <th>115555</th>\n      <td>56045</td>\n      <td>2020-03-31</td>\n      <td>0</td>\n      <td>Wyoming</td>\n      <td>Weston County</td>\n      <td>6927</td>\n      <td>578759</td>\n      <td>56</td>\n      <td>Weston County</td>\n      <td>Wyoming</td>\n      <td>...</td>\n      <td>0</td>\n      <td>0</td>\n      <td>0</td>\n      <td>1</td>\n      <td>0</td>\n      <td>0</td>\n      <td>0</td>\n      <td>0</td>\n      <td>0</td>\n      <td>1</td>\n    </tr>\n    <tr>\n      <th>115556</th>\n      <td>56045</td>\n      <td>2020-04-01</td>\n      <td>0</td>\n      <td>Wyoming</td>\n      <td>Weston County</td>\n      <td>6927</td>\n      <td>578759</td>\n      <td>56</td>\n      <td>Weston County</td>\n      <td>Wyoming</td>\n      <td>...</td>\n      <td>0</td>\n      <td>0</td>\n      <td>0</td>\n      <td>1</td>\n      <td>0</td>\n      <td>0</td>\n      <td>0</td>\n      <td>0</td>\n      <td>0</td>\n      <td>1</td>\n    </tr>\n    <tr>\n      <th>115557</th>\n      <td>56045</td>\n      <td>2020-04-02</td>\n      <td>0</td>\n      <td>Wyoming</td>\n      <td>Weston County</td>\n      <td>6927</td>\n      <td>578759</td>\n      <td>56</td>\n      <td>Weston County</td>\n      <td>Wyoming</td>\n      <td>...</td>\n      <td>0</td>\n      <td>0</td>\n      <td>0</td>\n      <td>1</td>\n      <td>0</td>\n      <td>0</td>\n      <td>0</td>\n      <td>0</td>\n      <td>0</td>\n      <td>1</td>\n    </tr>\n    <tr>\n      <th>115558</th>\n      <td>56045</td>\n      <td>2020-04-03</td>\n      <td>0</td>\n      <td>Wyoming</td>\n      <td>Weston County</td>\n      <td>6927</td>\n      <td>578759</td>\n      <td>56</td>\n      <td>Weston County</td>\n      <td>Wyoming</td>\n      <td>...</td>\n      <td>0</td>\n      <td>0</td>\n      <td>0</td>\n      <td>1</td>\n      <td>0</td>\n      <td>0</td>\n      <td>0</td>\n      <td>0</td>\n      <td>0</td>\n      <td>1</td>\n    </tr>\n  </tbody>\n</table>\n<p>115559 rows × 40 columns</p>\n</div>"
     },
     "metadata": {},
     "output_type": "execute_result",
     "execution_count": 103
    }
   ],
   "source": [
    "df_merged"
   ],
   "metadata": {
    "collapsed": false,
    "pycharm": {
     "name": "#%%\n",
     "is_executing": false
    }
   }
  },
  {
   "cell_type": "markdown",
   "source": [
    "### 3) Construct panel using pandas Multi-index "
   ],
   "metadata": {
    "collapsed": false
   }
  },
  {
   "cell_type": "code",
   "execution_count": 104,
   "outputs": [],
   "source": [
    "# fips => entity FE, time => time FE\n",
    "panel = df_merged.set_index(['FIPS', 'time'])"
   ],
   "metadata": {
    "collapsed": false,
    "pycharm": {
     "name": "#%%\n",
     "is_executing": false
    }
   }
  },
  {
   "cell_type": "code",
   "execution_count": 105,
   "outputs": [
    {
     "data": {
      "text/plain": "                  confirmed_cases   state_x       county_x  pop2019_county  \\\nFIPS  time                                                                   \n10001 2020-01-22                0  Delaware    Kent County          180786   \n      2020-01-23                0  Delaware    Kent County          180786   \n      2020-01-24                0  Delaware    Kent County          180786   \n      2020-01-25                0  Delaware    Kent County          180786   \n      2020-01-26                0  Delaware    Kent County          180786   \n...                           ...       ...            ...             ...   \n56045 2020-03-30                0   Wyoming  Weston County            6927   \n      2020-03-31                0   Wyoming  Weston County            6927   \n      2020-04-01                0   Wyoming  Weston County            6927   \n      2020-04-02                0   Wyoming  Weston County            6927   \n      2020-04-03                0   Wyoming  Weston County            6927   \n\n                  pop2019_state FIPS_state       county_y   state_y      NIPR  \\\nFIPS  time                                                                      \n10001 2020-01-22         973764         10    Kent County  Delaware  143160.0   \n      2020-01-23         973764         10    Kent County  Delaware  143160.0   \n      2020-01-24         973764         10    Kent County  Delaware  143160.0   \n      2020-01-25         973764         10    Kent County  Delaware  143160.0   \n      2020-01-26         973764         10    Kent County  Delaware  143160.0   \n...                         ...        ...            ...       ...       ...   \n56045 2020-03-30         578759         56  Weston County   Wyoming       NaN   \n      2020-03-31         578759         56  Weston County   Wyoming       NaN   \n      2020-04-01         578759         56  Weston County   Wyoming       NaN   \n      2020-04-02         578759         56  Weston County   Wyoming       NaN   \n      2020-04-03         578759         56  Weston County   Wyoming       NaN   \n\n                  nipr_moe  ...  iprcat_4  iprcat_5  agecat_0  agecat_1  \\\nFIPS  time                  ...                                           \n10001 2020-01-22       0.0  ...         0         0         1         0   \n      2020-01-23       0.0  ...         0         0         1         0   \n      2020-01-24       0.0  ...         0         0         1         0   \n      2020-01-25       0.0  ...         0         0         1         0   \n      2020-01-26       0.0  ...         0         0         1         0   \n...                    ...  ...       ...       ...       ...       ...   \n56045 2020-03-30       NaN  ...         0         0         1         0   \n      2020-03-31       NaN  ...         0         0         1         0   \n      2020-04-01       NaN  ...         0         0         1         0   \n      2020-04-02       NaN  ...         0         0         1         0   \n      2020-04-03       NaN  ...         0         0         1         0   \n\n                  agecat_2  agecat_3  agecat_4  agecat_5  racecat_0  \\\nFIPS  time                                                            \n10001 2020-01-22         0         0         0         0          1   \n      2020-01-23         0         0         0         0          1   \n      2020-01-24         0         0         0         0          1   \n      2020-01-25         0         0         0         0          1   \n      2020-01-26         0         0         0         0          1   \n...                    ...       ...       ...       ...        ...   \n56045 2020-03-30         0         0         0         0          1   \n      2020-03-31         0         0         0         0          1   \n      2020-04-01         0         0         0         0          1   \n      2020-04-02         0         0         0         0          1   \n      2020-04-03         0         0         0         0          1   \n\n                  county_pop_share_2019  \nFIPS  time                               \n10001 2020-01-22               0.185657  \n      2020-01-23               0.185657  \n      2020-01-24               0.185657  \n      2020-01-25               0.185657  \n      2020-01-26               0.185657  \n...                                 ...  \n56045 2020-03-30               0.011969  \n      2020-03-31               0.011969  \n      2020-04-01               0.011969  \n      2020-04-02               0.011969  \n      2020-04-03               0.011969  \n\n[115559 rows x 39 columns]",
      "text/html": "<div>\n<style scoped>\n    .dataframe tbody tr th:only-of-type {\n        vertical-align: middle;\n    }\n\n    .dataframe tbody tr th {\n        vertical-align: top;\n    }\n\n    .dataframe thead th {\n        text-align: right;\n    }\n</style>\n<table border=\"1\" class=\"dataframe\">\n  <thead>\n    <tr style=\"text-align: right;\">\n      <th></th>\n      <th></th>\n      <th>confirmed_cases</th>\n      <th>state_x</th>\n      <th>county_x</th>\n      <th>pop2019_county</th>\n      <th>pop2019_state</th>\n      <th>FIPS_state</th>\n      <th>county_y</th>\n      <th>state_y</th>\n      <th>NIPR</th>\n      <th>nipr_moe</th>\n      <th>...</th>\n      <th>iprcat_4</th>\n      <th>iprcat_5</th>\n      <th>agecat_0</th>\n      <th>agecat_1</th>\n      <th>agecat_2</th>\n      <th>agecat_3</th>\n      <th>agecat_4</th>\n      <th>agecat_5</th>\n      <th>racecat_0</th>\n      <th>county_pop_share_2019</th>\n    </tr>\n    <tr>\n      <th>FIPS</th>\n      <th>time</th>\n      <th></th>\n      <th></th>\n      <th></th>\n      <th></th>\n      <th></th>\n      <th></th>\n      <th></th>\n      <th></th>\n      <th></th>\n      <th></th>\n      <th></th>\n      <th></th>\n      <th></th>\n      <th></th>\n      <th></th>\n      <th></th>\n      <th></th>\n      <th></th>\n      <th></th>\n      <th></th>\n      <th></th>\n    </tr>\n  </thead>\n  <tbody>\n    <tr>\n      <th rowspan=\"5\" valign=\"top\">10001</th>\n      <th>2020-01-22</th>\n      <td>0</td>\n      <td>Delaware</td>\n      <td>Kent County</td>\n      <td>180786</td>\n      <td>973764</td>\n      <td>10</td>\n      <td>Kent County</td>\n      <td>Delaware</td>\n      <td>143160.0</td>\n      <td>0.0</td>\n      <td>...</td>\n      <td>0</td>\n      <td>0</td>\n      <td>1</td>\n      <td>0</td>\n      <td>0</td>\n      <td>0</td>\n      <td>0</td>\n      <td>0</td>\n      <td>1</td>\n      <td>0.185657</td>\n    </tr>\n    <tr>\n      <th>2020-01-23</th>\n      <td>0</td>\n      <td>Delaware</td>\n      <td>Kent County</td>\n      <td>180786</td>\n      <td>973764</td>\n      <td>10</td>\n      <td>Kent County</td>\n      <td>Delaware</td>\n      <td>143160.0</td>\n      <td>0.0</td>\n      <td>...</td>\n      <td>0</td>\n      <td>0</td>\n      <td>1</td>\n      <td>0</td>\n      <td>0</td>\n      <td>0</td>\n      <td>0</td>\n      <td>0</td>\n      <td>1</td>\n      <td>0.185657</td>\n    </tr>\n    <tr>\n      <th>2020-01-24</th>\n      <td>0</td>\n      <td>Delaware</td>\n      <td>Kent County</td>\n      <td>180786</td>\n      <td>973764</td>\n      <td>10</td>\n      <td>Kent County</td>\n      <td>Delaware</td>\n      <td>143160.0</td>\n      <td>0.0</td>\n      <td>...</td>\n      <td>0</td>\n      <td>0</td>\n      <td>1</td>\n      <td>0</td>\n      <td>0</td>\n      <td>0</td>\n      <td>0</td>\n      <td>0</td>\n      <td>1</td>\n      <td>0.185657</td>\n    </tr>\n    <tr>\n      <th>2020-01-25</th>\n      <td>0</td>\n      <td>Delaware</td>\n      <td>Kent County</td>\n      <td>180786</td>\n      <td>973764</td>\n      <td>10</td>\n      <td>Kent County</td>\n      <td>Delaware</td>\n      <td>143160.0</td>\n      <td>0.0</td>\n      <td>...</td>\n      <td>0</td>\n      <td>0</td>\n      <td>1</td>\n      <td>0</td>\n      <td>0</td>\n      <td>0</td>\n      <td>0</td>\n      <td>0</td>\n      <td>1</td>\n      <td>0.185657</td>\n    </tr>\n    <tr>\n      <th>2020-01-26</th>\n      <td>0</td>\n      <td>Delaware</td>\n      <td>Kent County</td>\n      <td>180786</td>\n      <td>973764</td>\n      <td>10</td>\n      <td>Kent County</td>\n      <td>Delaware</td>\n      <td>143160.0</td>\n      <td>0.0</td>\n      <td>...</td>\n      <td>0</td>\n      <td>0</td>\n      <td>1</td>\n      <td>0</td>\n      <td>0</td>\n      <td>0</td>\n      <td>0</td>\n      <td>0</td>\n      <td>1</td>\n      <td>0.185657</td>\n    </tr>\n    <tr>\n      <th>...</th>\n      <th>...</th>\n      <td>...</td>\n      <td>...</td>\n      <td>...</td>\n      <td>...</td>\n      <td>...</td>\n      <td>...</td>\n      <td>...</td>\n      <td>...</td>\n      <td>...</td>\n      <td>...</td>\n      <td>...</td>\n      <td>...</td>\n      <td>...</td>\n      <td>...</td>\n      <td>...</td>\n      <td>...</td>\n      <td>...</td>\n      <td>...</td>\n      <td>...</td>\n      <td>...</td>\n      <td>...</td>\n    </tr>\n    <tr>\n      <th rowspan=\"5\" valign=\"top\">56045</th>\n      <th>2020-03-30</th>\n      <td>0</td>\n      <td>Wyoming</td>\n      <td>Weston County</td>\n      <td>6927</td>\n      <td>578759</td>\n      <td>56</td>\n      <td>Weston County</td>\n      <td>Wyoming</td>\n      <td>NaN</td>\n      <td>NaN</td>\n      <td>...</td>\n      <td>0</td>\n      <td>0</td>\n      <td>1</td>\n      <td>0</td>\n      <td>0</td>\n      <td>0</td>\n      <td>0</td>\n      <td>0</td>\n      <td>1</td>\n      <td>0.011969</td>\n    </tr>\n    <tr>\n      <th>2020-03-31</th>\n      <td>0</td>\n      <td>Wyoming</td>\n      <td>Weston County</td>\n      <td>6927</td>\n      <td>578759</td>\n      <td>56</td>\n      <td>Weston County</td>\n      <td>Wyoming</td>\n      <td>NaN</td>\n      <td>NaN</td>\n      <td>...</td>\n      <td>0</td>\n      <td>0</td>\n      <td>1</td>\n      <td>0</td>\n      <td>0</td>\n      <td>0</td>\n      <td>0</td>\n      <td>0</td>\n      <td>1</td>\n      <td>0.011969</td>\n    </tr>\n    <tr>\n      <th>2020-04-01</th>\n      <td>0</td>\n      <td>Wyoming</td>\n      <td>Weston County</td>\n      <td>6927</td>\n      <td>578759</td>\n      <td>56</td>\n      <td>Weston County</td>\n      <td>Wyoming</td>\n      <td>NaN</td>\n      <td>NaN</td>\n      <td>...</td>\n      <td>0</td>\n      <td>0</td>\n      <td>1</td>\n      <td>0</td>\n      <td>0</td>\n      <td>0</td>\n      <td>0</td>\n      <td>0</td>\n      <td>1</td>\n      <td>0.011969</td>\n    </tr>\n    <tr>\n      <th>2020-04-02</th>\n      <td>0</td>\n      <td>Wyoming</td>\n      <td>Weston County</td>\n      <td>6927</td>\n      <td>578759</td>\n      <td>56</td>\n      <td>Weston County</td>\n      <td>Wyoming</td>\n      <td>NaN</td>\n      <td>NaN</td>\n      <td>...</td>\n      <td>0</td>\n      <td>0</td>\n      <td>1</td>\n      <td>0</td>\n      <td>0</td>\n      <td>0</td>\n      <td>0</td>\n      <td>0</td>\n      <td>1</td>\n      <td>0.011969</td>\n    </tr>\n    <tr>\n      <th>2020-04-03</th>\n      <td>0</td>\n      <td>Wyoming</td>\n      <td>Weston County</td>\n      <td>6927</td>\n      <td>578759</td>\n      <td>56</td>\n      <td>Weston County</td>\n      <td>Wyoming</td>\n      <td>NaN</td>\n      <td>NaN</td>\n      <td>...</td>\n      <td>0</td>\n      <td>0</td>\n      <td>1</td>\n      <td>0</td>\n      <td>0</td>\n      <td>0</td>\n      <td>0</td>\n      <td>0</td>\n      <td>1</td>\n      <td>0.011969</td>\n    </tr>\n  </tbody>\n</table>\n<p>115559 rows × 39 columns</p>\n</div>"
     },
     "metadata": {},
     "output_type": "execute_result",
     "execution_count": 105
    }
   ],
   "source": [
    "# county pop share with respect to state pop\n",
    "# TODO: meaningful? \n",
    "panel['county_pop_share_2019'] = \\\n",
    "    panel['pop2019_county'].divide(panel['pop2019_state'])"
   ],
   "metadata": {
    "collapsed": false,
    "pycharm": {
     "name": "#%%\n",
     "is_executing": false
    }
   }
  },
  {
   "cell_type": "code",
   "execution_count": 108,
   "outputs": [
    {
     "data": {
      "text/plain": "                  confirmed_cases   state_x       county_x  pop2019_county  \\\nFIPS  time                                                                   \n10001 2020-01-22                0  Delaware    Kent County          180786   \n      2020-01-23                0  Delaware    Kent County          180786   \n      2020-01-24                0  Delaware    Kent County          180786   \n      2020-01-25                0  Delaware    Kent County          180786   \n      2020-01-26                0  Delaware    Kent County          180786   \n...                           ...       ...            ...             ...   \n56045 2020-03-30                0   Wyoming  Weston County            6927   \n      2020-03-31                0   Wyoming  Weston County            6927   \n      2020-04-01                0   Wyoming  Weston County            6927   \n      2020-04-02                0   Wyoming  Weston County            6927   \n      2020-04-03                0   Wyoming  Weston County            6927   \n\n                  pop2019_state FIPS_state       county_y   state_y      NIPR  \\\nFIPS  time                                                                      \n10001 2020-01-22         973764         10    Kent County  Delaware  143160.0   \n      2020-01-23         973764         10    Kent County  Delaware  143160.0   \n      2020-01-24         973764         10    Kent County  Delaware  143160.0   \n      2020-01-25         973764         10    Kent County  Delaware  143160.0   \n      2020-01-26         973764         10    Kent County  Delaware  143160.0   \n...                         ...        ...            ...       ...       ...   \n56045 2020-03-30         578759         56  Weston County   Wyoming       NaN   \n      2020-03-31         578759         56  Weston County   Wyoming       NaN   \n      2020-04-01         578759         56  Weston County   Wyoming       NaN   \n      2020-04-02         578759         56  Weston County   Wyoming       NaN   \n      2020-04-03         578759         56  Weston County   Wyoming       NaN   \n\n                  nipr_moe  ...  iprcat_4  iprcat_5  agecat_0  agecat_1  \\\nFIPS  time                  ...                                           \n10001 2020-01-22       0.0  ...         0         0         1         0   \n      2020-01-23       0.0  ...         0         0         1         0   \n      2020-01-24       0.0  ...         0         0         1         0   \n      2020-01-25       0.0  ...         0         0         1         0   \n      2020-01-26       0.0  ...         0         0         1         0   \n...                    ...  ...       ...       ...       ...       ...   \n56045 2020-03-30       NaN  ...         0         0         1         0   \n      2020-03-31       NaN  ...         0         0         1         0   \n      2020-04-01       NaN  ...         0         0         1         0   \n      2020-04-02       NaN  ...         0         0         1         0   \n      2020-04-03       NaN  ...         0         0         1         0   \n\n                  agecat_2  agecat_3  agecat_4  agecat_5  racecat_0  \\\nFIPS  time                                                            \n10001 2020-01-22         0         0         0         0          1   \n      2020-01-23         0         0         0         0          1   \n      2020-01-24         0         0         0         0          1   \n      2020-01-25         0         0         0         0          1   \n      2020-01-26         0         0         0         0          1   \n...                    ...       ...       ...       ...        ...   \n56045 2020-03-30         0         0         0         0          1   \n      2020-03-31         0         0         0         0          1   \n      2020-04-01         0         0         0         0          1   \n      2020-04-02         0         0         0         0          1   \n      2020-04-03         0         0         0         0          1   \n\n                  county_pop_share_2019  \nFIPS  time                               \n10001 2020-01-22               0.185657  \n      2020-01-23               0.185657  \n      2020-01-24               0.185657  \n      2020-01-25               0.185657  \n      2020-01-26               0.185657  \n...                                 ...  \n56045 2020-03-30               0.011969  \n      2020-03-31               0.011969  \n      2020-04-01               0.011969  \n      2020-04-02               0.011969  \n      2020-04-03               0.011969  \n\n[115559 rows x 39 columns]",
      "text/html": "<div>\n<style scoped>\n    .dataframe tbody tr th:only-of-type {\n        vertical-align: middle;\n    }\n\n    .dataframe tbody tr th {\n        vertical-align: top;\n    }\n\n    .dataframe thead th {\n        text-align: right;\n    }\n</style>\n<table border=\"1\" class=\"dataframe\">\n  <thead>\n    <tr style=\"text-align: right;\">\n      <th></th>\n      <th></th>\n      <th>confirmed_cases</th>\n      <th>state_x</th>\n      <th>county_x</th>\n      <th>pop2019_county</th>\n      <th>pop2019_state</th>\n      <th>FIPS_state</th>\n      <th>county_y</th>\n      <th>state_y</th>\n      <th>NIPR</th>\n      <th>nipr_moe</th>\n      <th>...</th>\n      <th>iprcat_4</th>\n      <th>iprcat_5</th>\n      <th>agecat_0</th>\n      <th>agecat_1</th>\n      <th>agecat_2</th>\n      <th>agecat_3</th>\n      <th>agecat_4</th>\n      <th>agecat_5</th>\n      <th>racecat_0</th>\n      <th>county_pop_share_2019</th>\n    </tr>\n    <tr>\n      <th>FIPS</th>\n      <th>time</th>\n      <th></th>\n      <th></th>\n      <th></th>\n      <th></th>\n      <th></th>\n      <th></th>\n      <th></th>\n      <th></th>\n      <th></th>\n      <th></th>\n      <th></th>\n      <th></th>\n      <th></th>\n      <th></th>\n      <th></th>\n      <th></th>\n      <th></th>\n      <th></th>\n      <th></th>\n      <th></th>\n      <th></th>\n    </tr>\n  </thead>\n  <tbody>\n    <tr>\n      <th rowspan=\"5\" valign=\"top\">10001</th>\n      <th>2020-01-22</th>\n      <td>0</td>\n      <td>Delaware</td>\n      <td>Kent County</td>\n      <td>180786</td>\n      <td>973764</td>\n      <td>10</td>\n      <td>Kent County</td>\n      <td>Delaware</td>\n      <td>143160.0</td>\n      <td>0.0</td>\n      <td>...</td>\n      <td>0</td>\n      <td>0</td>\n      <td>1</td>\n      <td>0</td>\n      <td>0</td>\n      <td>0</td>\n      <td>0</td>\n      <td>0</td>\n      <td>1</td>\n      <td>0.185657</td>\n    </tr>\n    <tr>\n      <th>2020-01-23</th>\n      <td>0</td>\n      <td>Delaware</td>\n      <td>Kent County</td>\n      <td>180786</td>\n      <td>973764</td>\n      <td>10</td>\n      <td>Kent County</td>\n      <td>Delaware</td>\n      <td>143160.0</td>\n      <td>0.0</td>\n      <td>...</td>\n      <td>0</td>\n      <td>0</td>\n      <td>1</td>\n      <td>0</td>\n      <td>0</td>\n      <td>0</td>\n      <td>0</td>\n      <td>0</td>\n      <td>1</td>\n      <td>0.185657</td>\n    </tr>\n    <tr>\n      <th>2020-01-24</th>\n      <td>0</td>\n      <td>Delaware</td>\n      <td>Kent County</td>\n      <td>180786</td>\n      <td>973764</td>\n      <td>10</td>\n      <td>Kent County</td>\n      <td>Delaware</td>\n      <td>143160.0</td>\n      <td>0.0</td>\n      <td>...</td>\n      <td>0</td>\n      <td>0</td>\n      <td>1</td>\n      <td>0</td>\n      <td>0</td>\n      <td>0</td>\n      <td>0</td>\n      <td>0</td>\n      <td>1</td>\n      <td>0.185657</td>\n    </tr>\n    <tr>\n      <th>2020-01-25</th>\n      <td>0</td>\n      <td>Delaware</td>\n      <td>Kent County</td>\n      <td>180786</td>\n      <td>973764</td>\n      <td>10</td>\n      <td>Kent County</td>\n      <td>Delaware</td>\n      <td>143160.0</td>\n      <td>0.0</td>\n      <td>...</td>\n      <td>0</td>\n      <td>0</td>\n      <td>1</td>\n      <td>0</td>\n      <td>0</td>\n      <td>0</td>\n      <td>0</td>\n      <td>0</td>\n      <td>1</td>\n      <td>0.185657</td>\n    </tr>\n    <tr>\n      <th>2020-01-26</th>\n      <td>0</td>\n      <td>Delaware</td>\n      <td>Kent County</td>\n      <td>180786</td>\n      <td>973764</td>\n      <td>10</td>\n      <td>Kent County</td>\n      <td>Delaware</td>\n      <td>143160.0</td>\n      <td>0.0</td>\n      <td>...</td>\n      <td>0</td>\n      <td>0</td>\n      <td>1</td>\n      <td>0</td>\n      <td>0</td>\n      <td>0</td>\n      <td>0</td>\n      <td>0</td>\n      <td>1</td>\n      <td>0.185657</td>\n    </tr>\n    <tr>\n      <th>...</th>\n      <th>...</th>\n      <td>...</td>\n      <td>...</td>\n      <td>...</td>\n      <td>...</td>\n      <td>...</td>\n      <td>...</td>\n      <td>...</td>\n      <td>...</td>\n      <td>...</td>\n      <td>...</td>\n      <td>...</td>\n      <td>...</td>\n      <td>...</td>\n      <td>...</td>\n      <td>...</td>\n      <td>...</td>\n      <td>...</td>\n      <td>...</td>\n      <td>...</td>\n      <td>...</td>\n      <td>...</td>\n    </tr>\n    <tr>\n      <th rowspan=\"5\" valign=\"top\">56045</th>\n      <th>2020-03-30</th>\n      <td>0</td>\n      <td>Wyoming</td>\n      <td>Weston County</td>\n      <td>6927</td>\n      <td>578759</td>\n      <td>56</td>\n      <td>Weston County</td>\n      <td>Wyoming</td>\n      <td>NaN</td>\n      <td>NaN</td>\n      <td>...</td>\n      <td>0</td>\n      <td>0</td>\n      <td>1</td>\n      <td>0</td>\n      <td>0</td>\n      <td>0</td>\n      <td>0</td>\n      <td>0</td>\n      <td>1</td>\n      <td>0.011969</td>\n    </tr>\n    <tr>\n      <th>2020-03-31</th>\n      <td>0</td>\n      <td>Wyoming</td>\n      <td>Weston County</td>\n      <td>6927</td>\n      <td>578759</td>\n      <td>56</td>\n      <td>Weston County</td>\n      <td>Wyoming</td>\n      <td>NaN</td>\n      <td>NaN</td>\n      <td>...</td>\n      <td>0</td>\n      <td>0</td>\n      <td>1</td>\n      <td>0</td>\n      <td>0</td>\n      <td>0</td>\n      <td>0</td>\n      <td>0</td>\n      <td>1</td>\n      <td>0.011969</td>\n    </tr>\n    <tr>\n      <th>2020-04-01</th>\n      <td>0</td>\n      <td>Wyoming</td>\n      <td>Weston County</td>\n      <td>6927</td>\n      <td>578759</td>\n      <td>56</td>\n      <td>Weston County</td>\n      <td>Wyoming</td>\n      <td>NaN</td>\n      <td>NaN</td>\n      <td>...</td>\n      <td>0</td>\n      <td>0</td>\n      <td>1</td>\n      <td>0</td>\n      <td>0</td>\n      <td>0</td>\n      <td>0</td>\n      <td>0</td>\n      <td>1</td>\n      <td>0.011969</td>\n    </tr>\n    <tr>\n      <th>2020-04-02</th>\n      <td>0</td>\n      <td>Wyoming</td>\n      <td>Weston County</td>\n      <td>6927</td>\n      <td>578759</td>\n      <td>56</td>\n      <td>Weston County</td>\n      <td>Wyoming</td>\n      <td>NaN</td>\n      <td>NaN</td>\n      <td>...</td>\n      <td>0</td>\n      <td>0</td>\n      <td>1</td>\n      <td>0</td>\n      <td>0</td>\n      <td>0</td>\n      <td>0</td>\n      <td>0</td>\n      <td>1</td>\n      <td>0.011969</td>\n    </tr>\n    <tr>\n      <th>2020-04-03</th>\n      <td>0</td>\n      <td>Wyoming</td>\n      <td>Weston County</td>\n      <td>6927</td>\n      <td>578759</td>\n      <td>56</td>\n      <td>Weston County</td>\n      <td>Wyoming</td>\n      <td>NaN</td>\n      <td>NaN</td>\n      <td>...</td>\n      <td>0</td>\n      <td>0</td>\n      <td>1</td>\n      <td>0</td>\n      <td>0</td>\n      <td>0</td>\n      <td>0</td>\n      <td>0</td>\n      <td>1</td>\n      <td>0.011969</td>\n    </tr>\n  </tbody>\n</table>\n<p>115559 rows × 39 columns</p>\n</div>"
     },
     "metadata": {},
     "output_type": "execute_result",
     "execution_count": 108
    }
   ],
   "source": [
    "panel"
   ],
   "metadata": {
    "collapsed": false,
    "pycharm": {
     "name": "#%%\n",
     "is_executing": false
    }
   }
  },
  {
   "cell_type": "code",
   "execution_count": 111,
   "outputs": [],
   "source": [
    "# select vars\n",
    "panel_subset = panel[\n",
    "    ['confirmed_cases', 'pop2019_county', 'county_pop_share_2019', 'NIPR', \n",
    "     'nipr_moe', 'NUI', 'nui_moe', 'NIC', 'nic_moe', 'PCTUI', 'pctui_moe',\n",
    "     'PCTIC', 'pctic_moe', 'PCTELIG', 'pctelig_moe', 'PCTLIIC',\n",
    "     'pctliic_moe', 'sexcat_0', 'sexcat_1', 'sexcat_2', 'iprcat_0',\n",
    "     'iprcat_1', 'iprcat_2', 'iprcat_3', 'iprcat_4', 'iprcat_5', 'agecat_0',\n",
    "     'agecat_1', 'agecat_2', 'agecat_3', 'agecat_4', 'agecat_5', 'racecat_0']]"
   ],
   "metadata": {
    "collapsed": false,
    "pycharm": {
     "name": "#%%\n",
     "is_executing": false
    }
   }
  },
  {
   "cell_type": "markdown",
   "source": [
    "### 4) Run pooled and panel regression \n",
    "entity fixed effects don't work. this makes sense as the population\n",
    "shares per county add up to 100% per county.\n",
    "time fixed effects on the other hand yield the same results as \n",
    "the simple pooled regression above, which makes sense because there\n",
    "is no variation over time in our current data. looking good!"
   ],
   "metadata": {
    "collapsed": false,
    "pycharm": {
     "name": "#%% md\n"
    }
   }
  },
  {
   "cell_type": "markdown",
   "source": [
    "A) Merged with SAHIE data (significantly less data!)"
   ],
   "metadata": {
    "collapsed": false
   }
  },
  {
   "cell_type": "code",
   "execution_count": 135,
   "outputs": [
    {
     "name": "stderr",
     "text": [
      "/Users/felix/miniconda3/envs/bd4pp/lib/python3.7/site-packages/linearmodels/utility.py:549: MissingValueWarning: \n",
      "Inputs contain missing values. Dropping rows with missing observations.\n",
      "  warnings.warn(missing_value_warning_msg, MissingValueWarning)\n"
     ],
     "output_type": "stream"
    },
    {
     "name": "stdout",
     "text": [
      "                          PooledOLS Estimation Summary                          \n",
      "================================================================================\n",
      "Dep. Variable:        confirmed_cases   R-squared:                        0.1067\n",
      "Estimator:                  PooledOLS   R-squared (Between):              0.8861\n",
      "No. Observations:               15695   R-squared (Within):               0.0000\n",
      "Date:                Mon, Apr 06 2020   R-squared (Overall):              0.1067\n",
      "Time:                        22:44:23   Log-likelihood                 -8.56e+04\n",
      "Cov. Estimator:            Unadjusted                                           \n",
      "                                        F-statistic:                      374.82\n",
      "Entities:                         215   P-value                           0.0000\n",
      "Avg Obs:                       73.000   Distribution:                 F(5,15689)\n",
      "Min Obs:                       73.000                                           \n",
      "Max Obs:                       73.000   F-statistic (robust):             374.82\n",
      "                                        P-value                           0.0000\n",
      "Time periods:                      73   Distribution:                 F(5,15689)\n",
      "Avg Obs:                       215.00                                           \n",
      "Min Obs:                       215.00                                           \n",
      "Max Obs:                       215.00                                           \n",
      "                                                                                \n",
      "                                   Parameter Estimates                                   \n",
      "=========================================================================================\n",
      "                       Parameter  Std. Err.     T-stat    P-value    Lower CI    Upper CI\n",
      "-----------------------------------------------------------------------------------------\n",
      "const                     1.1881     1.7937     0.6624     0.5077     -2.3278      4.7039\n",
      "pop2019_county           -0.0001  2.329e-05    -5.6964     0.0000     -0.0002  -8.702e-05\n",
      "county_pop_share_2019     31.263     9.5621     3.2694     0.0011      12.520      50.006\n",
      "NIPR                      0.0001   3.08e-05     4.4299     0.0000   7.607e-05      0.0002\n",
      "NUI                       0.0006  5.254e-05     11.187     0.0000      0.0005      0.0007\n",
      "PCTELIG                  -0.1434     0.1123    -1.2771     0.2016     -0.3634      0.0767\n",
      "=========================================================================================\n",
      "                          PanelOLS Estimation Summary                           \n",
      "================================================================================\n",
      "Dep. Variable:        confirmed_cases   R-squared:                        0.1121\n",
      "Estimator:                   PanelOLS   R-squared (Between):              0.8861\n",
      "No. Observations:               15695   R-squared (Within):               0.0000\n",
      "Date:                Mon, Apr 06 2020   R-squared (Overall):              0.1067\n",
      "Time:                        22:44:24   Log-likelihood                -8.516e+04\n",
      "Cov. Estimator:            Unadjusted                                           \n",
      "                                        F-statistic:                      394.54\n",
      "Entities:                         215   P-value                           0.0000\n",
      "Avg Obs:                       73.000   Distribution:                 F(5,15617)\n",
      "Min Obs:                       73.000                                           \n",
      "Max Obs:                       73.000   F-statistic (robust):             394.54\n",
      "                                        P-value                           0.0000\n",
      "Time periods:                      73   Distribution:                 F(5,15617)\n",
      "Avg Obs:                       215.00                                           \n",
      "Min Obs:                       215.00                                           \n",
      "Max Obs:                       215.00                                           \n",
      "                                                                                \n",
      "                                   Parameter Estimates                                   \n",
      "=========================================================================================\n",
      "                       Parameter  Std. Err.     T-stat    P-value    Lower CI    Upper CI\n",
      "-----------------------------------------------------------------------------------------\n",
      "const                     1.1881     1.7483     0.6796     0.4968     -2.2388      4.6150\n",
      "pop2019_county           -0.0001   2.27e-05    -5.8444     0.0000     -0.0002  -8.817e-05\n",
      "county_pop_share_2019     31.263     9.3201     3.3543     0.0008      12.994      49.531\n",
      "NIPR                      0.0001  3.002e-05     4.5449     0.0000    7.76e-05      0.0002\n",
      "NUI                       0.0006  5.121e-05     11.477     0.0000      0.0005      0.0007\n",
      "PCTELIG                  -0.1434     0.1094    -1.3102     0.1901     -0.3578      0.0711\n",
      "=========================================================================================\n",
      "\n",
      "F-test for Poolability: 12.463\n",
      "P-value: 0.0000\n",
      "Distribution: F(72,15617)\n",
      "\n",
      "Included effects: Time\n"
     ],
     "output_type": "stream"
    }
   ],
   "source": [
    "exog_vars = \\\n",
    "    ['pop2019_county', # County population\n",
    "     'county_pop_share_2019', # Share of county population relative to state population\n",
    "     'NIPR', # Number in demographic group for <income category>\n",
    "     'NUI', # Number uninsured\n",
    "     'PCTELIG'] # Percent uninsured in demographic group for all income levels\n",
    "exog = sm.add_constant(panel_subset[exog_vars])\n",
    "\n",
    "# pooled regression\n",
    "mod_pooled = PooledOLS(dependent=panel_subset.confirmed_cases, \n",
    "                       exog=exog)\n",
    "pooled_res = mod_pooled.fit()\n",
    "print(pooled_res)\n",
    "\n",
    "# panel regression\n",
    "mod_panel_entity = PanelOLS(dependent=panel_subset.confirmed_cases, \n",
    "                            exog=exog,\n",
    "                            time_effects=True)\n",
    "panel_entity_res = mod_panel_entity.fit()\n",
    "print(panel_entity_res)"
   ],
   "metadata": {
    "collapsed": false,
    "pycharm": {
     "name": "#%%\n",
     "is_executing": false
    }
   }
  },
  {
   "cell_type": "markdown",
   "source": [
    "A) Population data only"
   ],
   "metadata": {
    "collapsed": false
   }
  },
  {
   "cell_type": "code",
   "execution_count": 136,
   "outputs": [
    {
     "name": "stdout",
     "text": [
      "                          PooledOLS Estimation Summary                          \n",
      "================================================================================\n",
      "Dep. Variable:        confirmed_cases   R-squared:                        0.0127\n",
      "Estimator:                  PooledOLS   R-squared (Between):              0.0806\n",
      "No. Observations:              115559   R-squared (Within):               0.0000\n",
      "Date:                Mon, Apr 06 2020   R-squared (Overall):              0.0127\n",
      "Time:                        22:45:35   Log-likelihood                -8.501e+05\n",
      "Cov. Estimator:            Unadjusted                                           \n",
      "                                        F-statistic:                      743.41\n",
      "Entities:                        1583   P-value                           0.0000\n",
      "Avg Obs:                       73.000   Distribution:                F(2,115556)\n",
      "Min Obs:                       73.000                                           \n",
      "Max Obs:                       73.000   F-statistic (robust):             743.41\n",
      "                                        P-value                           0.0000\n",
      "Time periods:                      73   Distribution:                F(2,115556)\n",
      "Avg Obs:                       1583.0                                           \n",
      "Min Obs:                       1583.0                                           \n",
      "Max Obs:                       1583.0                                           \n",
      "                                                                                \n",
      "                                   Parameter Estimates                                   \n",
      "=========================================================================================\n",
      "                       Parameter  Std. Err.     T-stat    P-value    Lower CI    Upper CI\n",
      "-----------------------------------------------------------------------------------------\n",
      "const                    -6.7321     1.2290    -5.4775     0.0000     -9.1410     -4.3232\n",
      "pop2019_county            0.0002  6.083e-06     36.510     0.0000      0.0002      0.0002\n",
      "county_pop_share_2019    -309.20     32.413    -9.5393     0.0000     -372.73     -245.67\n",
      "=========================================================================================\n",
      "                          PanelOLS Estimation Summary                           \n",
      "================================================================================\n",
      "Dep. Variable:        confirmed_cases   R-squared:                        0.0127\n",
      "Estimator:                   PanelOLS   R-squared (Between):              0.0806\n",
      "No. Observations:              115559   R-squared (Within):               0.0000\n",
      "Date:                Mon, Apr 06 2020   R-squared (Overall):              0.0127\n",
      "Time:                        22:45:35   Log-likelihood                -8.499e+05\n",
      "Cov. Estimator:            Unadjusted                                           \n",
      "                                        F-statistic:                      745.35\n",
      "Entities:                        1583   P-value                           0.0000\n",
      "Avg Obs:                       73.000   Distribution:                F(2,115484)\n",
      "Min Obs:                       73.000                                           \n",
      "Max Obs:                       73.000   F-statistic (robust):             745.35\n",
      "                                        P-value                           0.0000\n",
      "Time periods:                      73   Distribution:                F(2,115484)\n",
      "Avg Obs:                       1583.0                                           \n",
      "Min Obs:                       1583.0                                           \n",
      "Max Obs:                       1583.0                                           \n",
      "                                                                                \n",
      "                                   Parameter Estimates                                   \n",
      "=========================================================================================\n",
      "                       Parameter  Std. Err.     T-stat    P-value    Lower CI    Upper CI\n",
      "-----------------------------------------------------------------------------------------\n",
      "const                    -6.7321     1.2274    -5.4847     0.0000     -9.1378     -4.3263\n",
      "pop2019_county            0.0002  6.076e-06     36.557     0.0000      0.0002      0.0002\n",
      "county_pop_share_2019    -309.20     32.371    -9.5517     0.0000     -372.65     -245.75\n",
      "=========================================================================================\n",
      "\n",
      "F-test for Poolability: 5.1946\n",
      "P-value: 0.0000\n",
      "Distribution: F(72,115484)\n",
      "\n",
      "Included effects: Time\n"
     ],
     "output_type": "stream"
    }
   ],
   "source": [
    "exog_vars = \\\n",
    "    ['pop2019_county', # County population\n",
    "     'county_pop_share_2019'] # Percent uninsured in demographic group for all income levels\n",
    "exog = sm.add_constant(panel_subset[exog_vars])\n",
    "\n",
    "# pooled regression\n",
    "mod_pooled = PooledOLS(dependent=panel_subset.confirmed_cases, \n",
    "                       exog=exog)\n",
    "pooled_res = mod_pooled.fit()\n",
    "print(pooled_res)\n",
    "\n",
    "# panel regression\n",
    "mod_panel_entity = PanelOLS(dependent=panel_subset.confirmed_cases, \n",
    "                            exog=exog,\n",
    "                            time_effects=True)\n",
    "panel_entity_res = mod_panel_entity.fit()\n",
    "print(panel_entity_res)"
   ],
   "metadata": {
    "collapsed": false,
    "pycharm": {
     "name": "#%%\n",
     "is_executing": false
    }
   }
  }
 ],
 "metadata": {
  "kernelspec": {
   "name": "pycharm-3837c9a2",
   "language": "python",
   "display_name": "PyCharm (bd4pp)"
  },
  "language_info": {
   "codemirror_mode": {
    "name": "ipython",
    "version": 2
   },
   "file_extension": ".py",
   "mimetype": "text/x-python",
   "name": "python",
   "nbconvert_exporter": "python",
   "pygments_lexer": "ipython2",
   "version": "2.7.6"
  },
  "pycharm": {
   "stem_cell": {
    "cell_type": "raw",
    "source": [],
    "metadata": {
     "collapsed": false
    }
   }
  }
 },
 "nbformat": 4,
 "nbformat_minor": 0
}