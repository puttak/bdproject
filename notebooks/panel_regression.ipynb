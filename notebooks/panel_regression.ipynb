{
 "cells": [
  {
   "cell_type": "code",
   "execution_count": 48,
   "metadata": {
    "collapsed": true,
    "pycharm": {
     "is_executing": false
    }
   },
   "outputs": [],
   "source": [
    "import os\n",
    "import pandas as pd\n",
    "import addfips\n",
    "from src.utils.paths import get_parent_dir\n",
    "\n",
    "from linearmodels.panel import PooledOLS, PanelOLS\n",
    "import statsmodels.api as sm"
   ]
  },
  {
   "cell_type": "markdown",
   "source": [
    "### 1) Prepare data"
   ],
   "metadata": {
    "collapsed": false,
    "pycharm": {
     "name": "#%% md\n"
    }
   }
  },
  {
   "cell_type": "code",
   "execution_count": 49,
   "outputs": [],
   "source": [
    "def read_csse(path):\n",
    "    df = pd.read_csv(path)\n",
    "    df = df.set_index(\"Unnamed: 0\")\n",
    "    df.index = pd.to_datetime(df.index)\n",
    "    return df"
   ],
   "metadata": {
    "collapsed": false,
    "pycharm": {
     "name": "#%%\n",
     "is_executing": false
    }
   }
  },
  {
   "cell_type": "code",
   "execution_count": 50,
   "outputs": [],
   "source": [
    "pdir = get_parent_dir(2)\n",
    "csse_dir = os.path.join(pdir, 'data', 'processed', 'csse', 'US')\n",
    "\n",
    "fname_confirmed = \"time_series_covid19_confirmed_US_timeseries.csv\" \n",
    "fname_deaths = \"time_series_covid19_deaths_US_timeseries.csv\"\n",
    "\n",
    "path_confirmed = os.path.join(csse_dir, fname_confirmed)\n",
    "path_deaths = os.path.join(csse_dir, fname_deaths)"
   ],
   "metadata": {
    "collapsed": false,
    "pycharm": {
     "name": "#%%\n",
     "is_executing": false
    }
   }
  },
  {
   "cell_type": "code",
   "execution_count": 51,
   "outputs": [],
   "source": [
    "ts_confirmed = read_csse(path_confirmed)\n",
    "ts_deaths = read_csse(path_deaths)\n",
    "\n",
    "ts_confirmed.index.name = 'time'\n",
    "ts_deaths.index.name = 'time'"
   ],
   "metadata": {
    "collapsed": false,
    "pycharm": {
     "name": "#%%\n",
     "is_executing": false
    }
   }
  },
  {
   "cell_type": "code",
   "execution_count": 52,
   "outputs": [
    {
     "name": "stdout",
     "text": [
      "        state  pop2019_state FIPS_state\n",
      "0     Alabama        4903185         01\n",
      "1      Alaska         731545         02\n",
      "2     Arizona        7278717         04\n",
      "3    Arkansas        3017804         05\n",
      "4  California       39512223         06\n",
      "     state          county  pop2019_county   FIPS\n",
      "1  Alabama  Autauga County           55869  01001\n",
      "2  Alabama  Baldwin County          223234  01003\n",
      "3  Alabama  Barbour County           24686  01005\n",
      "4  Alabama     Bibb County           22394  01007\n",
      "5  Alabama   Blount County           57826  01009\n"
     ],
     "output_type": "stream"
    }
   ],
   "source": [
    "demographic_dir = os.path.join(pdir, 'data', 'raw', 'demography')\n",
    "popdata = pd.read_csv(os.path.join(demographic_dir, \n",
    "                                   \"POPEST_2019.csv\"),\n",
    "                      encoding = \"ISO-8859-1\")\n",
    "\n",
    "# POPESTIMATE2019: 7/1/2019 resident total population estimate\n",
    "df_pop = popdata[['STNAME', 'CTYNAME', 'POPESTIMATE2019']]\n",
    "df_pop_counties = df_pop.query(\"STNAME != CTYNAME\")\n",
    "df_pop_counties = df_pop_counties.rename(columns={'STNAME': 'state',\n",
    "                                                  'CTYNAME': 'county',\n",
    "                                                  'POPESTIMATE2019': 'pop2019_county'})\n",
    "\n",
    "df_pop_states = df_pop.query(\"STNAME == CTYNAME\")\n",
    "df_pop_states = df_pop_states.reset_index(drop=True)\n",
    "df_pop_states = df_pop_states.rename(columns={'STNAME': 'state',\n",
    "                                              'CTYNAME': 'county',\n",
    "                                              'POPESTIMATE2019': 'pop2019_state'})\n",
    "df_pop_states.drop(columns='county', inplace=True)\n",
    "\n",
    "af = addfips.AddFIPS()\n",
    "\n",
    "county_fips_codes = []\n",
    "for i, row in df_pop_counties.iterrows():\n",
    "    county_fips_code = af.get_county_fips(county=row.county, state=row.state)\n",
    "    county_fips_codes.append(county_fips_code)\n",
    "    \n",
    "state_fips_codes = []\n",
    "for i, row in df_pop_states.iterrows():\n",
    "    state_fips_code = af.get_state_fips(state=row.state)\n",
    "    state_fips_codes.append(state_fips_code)\n",
    "    \n",
    "df_pop_counties['FIPS'] = county_fips_codes\n",
    "df_pop_states['FIPS_state'] = state_fips_codes\n",
    "print(df_pop_states.head())\n",
    "print(df_pop_counties.head())\n"
   ],
   "metadata": {
    "collapsed": false,
    "pycharm": {
     "name": "#%%\n",
     "is_executing": false
    }
   }
  },
  {
   "cell_type": "code",
   "execution_count": 53,
   "outputs": [],
   "source": [
    "ts_confirmedT = ts_confirmed.transpose()\n",
    "ts_confirmedT.index.name = \"FIPS\"\n",
    "tsconfm = ts_confirmedT.stack()"
   ],
   "metadata": {
    "collapsed": false,
    "pycharm": {
     "name": "#%%\n",
     "is_executing": false
    }
   }
  },
  {
   "cell_type": "code",
   "execution_count": 54,
   "outputs": [],
   "source": [
    "tsconfm.name = \"confirmed_cases\" \n",
    "tsconfm = tsconfm.reset_index()"
   ],
   "metadata": {
    "collapsed": false,
    "pycharm": {
     "name": "#%%\n",
     "is_executing": false
    }
   }
  },
  {
   "cell_type": "markdown",
   "source": [
    "### 2) Merge independent and dependent variables "
   ],
   "metadata": {
    "collapsed": false,
    "pycharm": {
     "name": "#%% md\n"
    }
   }
  },
  {
   "cell_type": "code",
   "execution_count": 55,
   "outputs": [],
   "source": [
    "df_merged = pd.merge(left=tsconfm.reset_index(),\n",
    "                     right=df_pop_counties,\n",
    "                     on='FIPS')\n",
    "df_merged = pd.merge(left=df_merged,\n",
    "                     right=df_pop_states,\n",
    "                     on='state')\n"
   ],
   "metadata": {
    "collapsed": false,
    "pycharm": {
     "name": "#%%\n",
     "is_executing": false
    }
   }
  },
  {
   "cell_type": "code",
   "execution_count": 56,
   "outputs": [],
   "source": [
    "df_merged.drop(columns='index', inplace=True)\n"
   ],
   "metadata": {
    "collapsed": false,
    "pycharm": {
     "name": "#%%\n",
     "is_executing": false
    }
   }
  },
  {
   "cell_type": "markdown",
   "source": [
    "### 3) Construct panel using pandas Multi-index "
   ],
   "metadata": {
    "collapsed": false
   }
  },
  {
   "cell_type": "code",
   "execution_count": 57,
   "outputs": [],
   "source": [
    "# fips => entity FE, time => time FE\n",
    "panel = df_merged.set_index(['FIPS', 'time'])"
   ],
   "metadata": {
    "collapsed": false,
    "pycharm": {
     "name": "#%%\n",
     "is_executing": false
    }
   }
  },
  {
   "cell_type": "code",
   "execution_count": 58,
   "outputs": [
    {
     "data": {
      "text/plain": "                  confirmed_cases     state         county  pop2019_county  \\\nFIPS  time                                                                   \n10001 2020-01-22                0  Delaware    Kent County          180786   \n      2020-01-23                0  Delaware    Kent County          180786   \n      2020-01-24                0  Delaware    Kent County          180786   \n      2020-01-25                0  Delaware    Kent County          180786   \n      2020-01-26                0  Delaware    Kent County          180786   \n...                           ...       ...            ...             ...   \n56045 2020-03-30                0   Wyoming  Weston County            6927   \n      2020-03-31                0   Wyoming  Weston County            6927   \n      2020-04-01                0   Wyoming  Weston County            6927   \n      2020-04-02                0   Wyoming  Weston County            6927   \n      2020-04-03                0   Wyoming  Weston County            6927   \n\n                  pop2019_state FIPS_state  county_pop_share_2019  \nFIPS  time                                                         \n10001 2020-01-22         973764         10               0.185657  \n      2020-01-23         973764         10               0.185657  \n      2020-01-24         973764         10               0.185657  \n      2020-01-25         973764         10               0.185657  \n      2020-01-26         973764         10               0.185657  \n...                         ...        ...                    ...  \n56045 2020-03-30         578759         56               0.011969  \n      2020-03-31         578759         56               0.011969  \n      2020-04-01         578759         56               0.011969  \n      2020-04-02         578759         56               0.011969  \n      2020-04-03         578759         56               0.011969  \n\n[206152 rows x 7 columns]",
      "text/html": "<div>\n<style scoped>\n    .dataframe tbody tr th:only-of-type {\n        vertical-align: middle;\n    }\n\n    .dataframe tbody tr th {\n        vertical-align: top;\n    }\n\n    .dataframe thead th {\n        text-align: right;\n    }\n</style>\n<table border=\"1\" class=\"dataframe\">\n  <thead>\n    <tr style=\"text-align: right;\">\n      <th></th>\n      <th></th>\n      <th>confirmed_cases</th>\n      <th>state</th>\n      <th>county</th>\n      <th>pop2019_county</th>\n      <th>pop2019_state</th>\n      <th>FIPS_state</th>\n      <th>county_pop_share_2019</th>\n    </tr>\n    <tr>\n      <th>FIPS</th>\n      <th>time</th>\n      <th></th>\n      <th></th>\n      <th></th>\n      <th></th>\n      <th></th>\n      <th></th>\n      <th></th>\n    </tr>\n  </thead>\n  <tbody>\n    <tr>\n      <th rowspan=\"5\" valign=\"top\">10001</th>\n      <th>2020-01-22</th>\n      <td>0</td>\n      <td>Delaware</td>\n      <td>Kent County</td>\n      <td>180786</td>\n      <td>973764</td>\n      <td>10</td>\n      <td>0.185657</td>\n    </tr>\n    <tr>\n      <th>2020-01-23</th>\n      <td>0</td>\n      <td>Delaware</td>\n      <td>Kent County</td>\n      <td>180786</td>\n      <td>973764</td>\n      <td>10</td>\n      <td>0.185657</td>\n    </tr>\n    <tr>\n      <th>2020-01-24</th>\n      <td>0</td>\n      <td>Delaware</td>\n      <td>Kent County</td>\n      <td>180786</td>\n      <td>973764</td>\n      <td>10</td>\n      <td>0.185657</td>\n    </tr>\n    <tr>\n      <th>2020-01-25</th>\n      <td>0</td>\n      <td>Delaware</td>\n      <td>Kent County</td>\n      <td>180786</td>\n      <td>973764</td>\n      <td>10</td>\n      <td>0.185657</td>\n    </tr>\n    <tr>\n      <th>2020-01-26</th>\n      <td>0</td>\n      <td>Delaware</td>\n      <td>Kent County</td>\n      <td>180786</td>\n      <td>973764</td>\n      <td>10</td>\n      <td>0.185657</td>\n    </tr>\n    <tr>\n      <th>...</th>\n      <th>...</th>\n      <td>...</td>\n      <td>...</td>\n      <td>...</td>\n      <td>...</td>\n      <td>...</td>\n      <td>...</td>\n      <td>...</td>\n    </tr>\n    <tr>\n      <th rowspan=\"5\" valign=\"top\">56045</th>\n      <th>2020-03-30</th>\n      <td>0</td>\n      <td>Wyoming</td>\n      <td>Weston County</td>\n      <td>6927</td>\n      <td>578759</td>\n      <td>56</td>\n      <td>0.011969</td>\n    </tr>\n    <tr>\n      <th>2020-03-31</th>\n      <td>0</td>\n      <td>Wyoming</td>\n      <td>Weston County</td>\n      <td>6927</td>\n      <td>578759</td>\n      <td>56</td>\n      <td>0.011969</td>\n    </tr>\n    <tr>\n      <th>2020-04-01</th>\n      <td>0</td>\n      <td>Wyoming</td>\n      <td>Weston County</td>\n      <td>6927</td>\n      <td>578759</td>\n      <td>56</td>\n      <td>0.011969</td>\n    </tr>\n    <tr>\n      <th>2020-04-02</th>\n      <td>0</td>\n      <td>Wyoming</td>\n      <td>Weston County</td>\n      <td>6927</td>\n      <td>578759</td>\n      <td>56</td>\n      <td>0.011969</td>\n    </tr>\n    <tr>\n      <th>2020-04-03</th>\n      <td>0</td>\n      <td>Wyoming</td>\n      <td>Weston County</td>\n      <td>6927</td>\n      <td>578759</td>\n      <td>56</td>\n      <td>0.011969</td>\n    </tr>\n  </tbody>\n</table>\n<p>206152 rows × 7 columns</p>\n</div>"
     },
     "metadata": {},
     "output_type": "execute_result",
     "execution_count": 58
    }
   ],
   "source": [
    "# county pop share with respect to state pop\n",
    "# TODO: meaningful? \n",
    "panel['county_pop_share_2019'] = \\\n",
    "    panel['pop2019_county'].divide(panel['pop2019_state'])\n",
    "panel"
   ],
   "metadata": {
    "collapsed": false,
    "pycharm": {
     "name": "#%%\n",
     "is_executing": false
    }
   }
  },
  {
   "cell_type": "code",
   "execution_count": 59,
   "outputs": [],
   "source": [
    "panel_subset = panel[['confirmed_cases', 'county_pop_share_2019']]"
   ],
   "metadata": {
    "collapsed": false,
    "pycharm": {
     "name": "#%%\n",
     "is_executing": false
    }
   }
  },
  {
   "cell_type": "markdown",
   "source": [
    "### 4) Run pooled and panel regression \n",
    "entity fixed effects don't work. this makes sense as the population\n",
    "shares per county add up to 100% per county.\n",
    "time fixed effects on the other hand yield the same results as \n",
    "the simple pooled regression above, which makes sense because there\n",
    "is no variation over time in our current data. looking good!"
   ],
   "metadata": {
    "collapsed": false,
    "pycharm": {
     "name": "#%% md\n"
    }
   }
  },
  {
   "cell_type": "code",
   "execution_count": 60,
   "outputs": [
    {
     "name": "stdout",
     "text": [
      "                          PooledOLS Estimation Summary                          \n",
      "================================================================================\n",
      "Dep. Variable:        confirmed_cases   R-squared:                        0.0028\n",
      "Estimator:                  PooledOLS   R-squared (Between):              0.0177\n",
      "No. Observations:              206152   R-squared (Within):               0.0000\n",
      "Date:                Sun, Apr 05 2020   R-squared (Overall):              0.0028\n",
      "Time:                        11:51:49   Log-likelihood                -1.467e+06\n",
      "Cov. Estimator:            Unadjusted                                           \n",
      "                                        F-statistic:                      571.29\n",
      "Entities:                        2824   P-value                           0.0000\n",
      "Avg Obs:                       73.000   Distribution:                F(1,206150)\n",
      "Min Obs:                       73.000                                           \n",
      "Max Obs:                       73.000   F-statistic (robust):             571.29\n",
      "                                        P-value                           0.0000\n",
      "Time periods:                      73   Distribution:                F(1,206150)\n",
      "Avg Obs:                       2824.0                                           \n",
      "Min Obs:                       2824.0                                           \n",
      "Max Obs:                       2824.0                                           \n",
      "                                                                                \n",
      "                                   Parameter Estimates                                   \n",
      "=========================================================================================\n",
      "                       Parameter  Std. Err.     T-stat    P-value    Lower CI    Upper CI\n",
      "-----------------------------------------------------------------------------------------\n",
      "const                     1.6447     0.7030     2.3394     0.0193      0.2668      3.0226\n",
      "county_pop_share_2019     397.45     16.629     23.902     0.0000      364.86      430.04\n",
      "=========================================================================================\n",
      "                          PanelOLS Estimation Summary                           \n",
      "================================================================================\n",
      "Dep. Variable:        confirmed_cases   R-squared:                        0.0028\n",
      "Estimator:                   PanelOLS   R-squared (Between):              0.0177\n",
      "No. Observations:              206152   R-squared (Within):               0.0000\n",
      "Date:                Sun, Apr 05 2020   R-squared (Overall):              0.0028\n",
      "Time:                        11:51:50   Log-likelihood                -1.466e+06\n",
      "Cov. Estimator:            Unadjusted                                           \n",
      "                                        F-statistic:                      573.30\n",
      "Entities:                        2824   P-value                           0.0000\n",
      "Avg Obs:                       73.000   Distribution:                F(1,206078)\n",
      "Min Obs:                       73.000                                           \n",
      "Max Obs:                       73.000   F-statistic (robust):             573.30\n",
      "                                        P-value                           0.0000\n",
      "Time periods:                      73   Distribution:                F(1,206078)\n",
      "Avg Obs:                       2824.0                                           \n",
      "Min Obs:                       2824.0                                           \n",
      "Max Obs:                       2824.0                                           \n",
      "                                                                                \n",
      "                                   Parameter Estimates                                   \n",
      "=========================================================================================\n",
      "                       Parameter  Std. Err.     T-stat    P-value    Lower CI    Upper CI\n",
      "-----------------------------------------------------------------------------------------\n",
      "const                     1.6447     0.7018     2.3435     0.0191      0.2692      3.0202\n",
      "county_pop_share_2019     397.45     16.599     23.944     0.0000      364.91      429.98\n",
      "=========================================================================================\n",
      "\n",
      "F-test for Poolability: 11.092\n",
      "P-value: 0.0000\n",
      "Distribution: F(72,206078)\n",
      "\n",
      "Included effects: Time\n"
     ],
     "output_type": "stream"
    }
   ],
   "source": [
    "exog_vars = ['county_pop_share_2019']\n",
    "exog = sm.add_constant(panel_subset[exog_vars])\n",
    "\n",
    "# pooled regression\n",
    "mod_pooled = PooledOLS(dependent=panel_subset.confirmed_cases, \n",
    "                       exog=exog)\n",
    "pooled_res = mod_pooled.fit()\n",
    "print(pooled_res)\n",
    "\n",
    "# panel regression\n",
    "mod_panel_entity = PanelOLS(dependent=panel_subset.confirmed_cases, \n",
    "                            exog=exog,\n",
    "                            time_effects=True)\n",
    "panel_entity_res = mod_panel_entity.fit()\n",
    "print(panel_entity_res)"
   ],
   "metadata": {
    "collapsed": false,
    "pycharm": {
     "name": "#%%\n",
     "is_executing": false
    }
   }
  }
 ],
 "metadata": {
  "kernelspec": {
   "name": "pycharm-3837c9a2",
   "language": "python",
   "display_name": "PyCharm (bd4pp)"
  },
  "language_info": {
   "codemirror_mode": {
    "name": "ipython",
    "version": 2
   },
   "file_extension": ".py",
   "mimetype": "text/x-python",
   "name": "python",
   "nbconvert_exporter": "python",
   "pygments_lexer": "ipython2",
   "version": "2.7.6"
  },
  "pycharm": {
   "stem_cell": {
    "cell_type": "raw",
    "source": [],
    "metadata": {
     "collapsed": false
    }
   }
  }
 },
 "nbformat": 4,
 "nbformat_minor": 0
}